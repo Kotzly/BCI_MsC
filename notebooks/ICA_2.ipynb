{
 "cells": [
  {
   "cell_type": "code",
   "execution_count": 3,
   "id": "mental-vacation",
   "metadata": {},
   "outputs": [],
   "source": [
    "import numpy as np\n",
    "import mne"
   ]
  },
  {
   "cell_type": "code",
   "execution_count": 4,
   "id": "premier-staff",
   "metadata": {},
   "outputs": [],
   "source": [
    "from mne.io import read_raw_gdf\n",
    "from pathlib import Path\n",
    "import numpy as np\n",
    "\n",
    "root = Path(\"C:/Users/paull/Documents/GIT/BCI_MsC/notebooks/BCI_Comp_IV_2a/BCICIV_2a_gdf\")\n",
    "\n",
    "dataset_folder = root\n",
    "mat_files = list(dataset_folder.iterdir())\n",
    "\n"
   ]
  },
  {
   "cell_type": "code",
   "execution_count": 5,
   "id": "modified-trigger",
   "metadata": {},
   "outputs": [],
   "source": [
    "dataset_dict = {\n",
    "    \"train\": [\"A02\", \"A07\", \"A09\", \"A01\"],\n",
    "    \"validation\": [\"A03\", \"A06\"],\n",
    "    \"test\": [\"A04\", \"A05\"],\n",
    "}\n",
    "all_subjects = [f\"A0{i}\" for i in range(10)]\n",
    "\n",
    "dataset_dict = {\n",
    "    \"train\": [\"A02\"],\n",
    "#     \"train\": [\"A02\", \"A07\"],\n",
    "#     \"validation\": [\"A03\"],\n",
    "#     \"test\": [\"A04\"],\n",
    "}"
   ]
  },
  {
   "cell_type": "code",
   "execution_count": 6,
   "id": "intense-exchange",
   "metadata": {},
   "outputs": [],
   "source": [
    "from ica_benchmark.scoring import mutual_information, coherence, correntropy, apply_pairwise, apply_pairwise_parallel, SCORING_FN_DICT\n",
    "from ica_benchmark.processing.ica import get_ica_transformers\n",
    "import time\n",
    "from ica_benchmark.io.load import join_gdfs_to_numpy, load_subjects_data\n"
   ]
  },
  {
   "cell_type": "markdown",
   "id": "sporting-throat",
   "metadata": {},
   "source": [
    "\n",
    "N_RUNS = 3\n",
    "\n",
    "results = {}\n",
    "\n",
    "fn_dict = {\n",
    "    \"MI\": mutual_information,\n",
    "    \"correntropy\": correntropy,\n",
    "    \"coherence\": coherence\n",
    "}\n",
    "\n",
    "n_components_list = [4, 8, 12, 16, 20, 22]\n",
    "\n",
    "try:\n",
    "    datasets\n",
    "except:\n",
    "    datasets = load_subjects_data(root, datasets=dataset_dict, mode=\"both\")\n",
    "\n",
    "score_calculated_before = {}\n",
    "\n",
    "for n_components in n_components_list:\n",
    "    for ica_method, ica_transform in get_ica_transformers(n_components=n_components).items():\n",
    "        for run_n in range(N_RUNS):\n",
    "            \n",
    "            gdfs = [datasets[\"train\"][subject][\"gdf\"] for subject in datasets[\"train\"]]\n",
    "            joined_eeg, labels = join_gdfs_to_numpy(gdfs)\n",
    "\n",
    "            ica_transform.fit(joined_eeg)\n",
    "            \n",
    "\n",
    "#             for dataset_name in (\"test\", \"validation\", \"train\"):\n",
    "            for dataset_name in (\"train\",):\n",
    "\n",
    "                for subject_id in datasets[dataset_name]:\n",
    "                    \n",
    "\n",
    "                    gdf_data = datasets[dataset_name][subject_id][\"gdf\"]   \n",
    "                    data_before = gdf_data.get_data().T\n",
    "                    \n",
    "                    data_after = ica_transform.transform(data_before)\n",
    "\n",
    "                    for fn_name in fn_dict:\n",
    "\n",
    "                        print((fn_name, ica_method, dataset_name, subject_id, run_n, n_components))\n",
    "                        \n",
    "                        if (n_components > 5) or len(data_after) > 2e6:\n",
    "                            apply_fn = apply_pairwise_parallel\n",
    "                        else:\n",
    "                            apply_fn = apply_pairwise\n",
    "                        \n",
    "                        if not (subject_id, fn_name) in score_calculated_before:\n",
    "                            score_before = apply_pairwise_parallel(data_before, fn_dict[fn_name])\n",
    "                            score_calculated_before[(subject_id, fn_name)] = score_before\n",
    "\n",
    "                        start = time.time()\n",
    "                        score_after = apply_fn(data_after, fn_dict[fn_name])\n",
    "                        duration = time.time() - start\n",
    "                        \n",
    "                        results[(fn_name, ica_method, dataset_name, subject_id, run_n, n_components)] = {\n",
    "                            \"score_before\": score_calculated_before[(subject_id, fn_name)],\n",
    "                            \"score_after\": score_after,\n",
    "                            \"time\": duration\n",
    "                        }"
   ]
  },
  {
   "cell_type": "code",
   "execution_count": 8,
   "id": "practical-provincial",
   "metadata": {},
   "outputs": [
    {
     "data": {
      "text/plain": [
       "(31.26619024074708, 160.57177305221558)"
      ]
     },
     "execution_count": 8,
     "metadata": {},
     "output_type": "execute_result"
    }
   ],
   "source": [
    "def run_ica_experiment(root, dataset_dict, n_components, ica_method, dataset_name, subject_id, fn_name):\n",
    "    datasets = load_subjects_data(root, datasets=dataset_dict, mode=\"both\")\n",
    "\n",
    "\n",
    "    gdfs = [datasets[\"train\"][subject][\"gdf\"] for subject in datasets[\"train\"]]\n",
    "    \n",
    "    joined_dataset = join_gdfs_to_numpy(gdfs)\n",
    "\n",
    "    joined_eeg, labels = join_gdfs_to_numpy(gdfs)\n",
    "    ica_transform = get_ica_transformers()[ica_method]\n",
    "    ica_transform.fit(joined_eeg)\n",
    "\n",
    "    gdf_data = datasets[dataset_name][subject_id][\"gdf\"]   \n",
    "    data = gdf_data.get_data().T\n",
    "\n",
    "    data_after = ica_transform.transform(data)\n",
    "\n",
    "    if (n_components > 5) or len(data_after) > 2e6:\n",
    "        apply_fn = apply_pairwise_parallel\n",
    "    else:\n",
    "        apply_fn = apply_pairwise\n",
    "\n",
    "    start = time.time()\n",
    "    score_after = apply_fn(data_after, SCORING_FN_DICT[fn_name])\n",
    "    duration = time.time() - start\n",
    "\n",
    "    return score_after, duration\n",
    "\n",
    "run_ica_experiment(root, dataset_dict, 20, \"fastica\", \"train\", \"A02\", \"coherence\")"
   ]
  },
  {
   "cell_type": "code",
   "execution_count": 9,
   "id": "familiar-wholesale",
   "metadata": {},
   "outputs": [
    {
     "ename": "NameError",
     "evalue": "name 'datasets' is not defined",
     "output_type": "error",
     "traceback": [
      "\u001b[1;31m---------------------------------------------------------------------------\u001b[0m",
      "\u001b[1;31mNameError\u001b[0m                                 Traceback (most recent call last)",
      "\u001b[1;32m<ipython-input-9-7443fbefa43e>\u001b[0m in \u001b[0;36m<module>\u001b[1;34m\u001b[0m\n\u001b[1;32m----> 1\u001b[1;33m \u001b[0mdatasets\u001b[0m\u001b[1;33m[\u001b[0m\u001b[1;34m\"train\"\u001b[0m\u001b[1;33m]\u001b[0m\u001b[1;33m\u001b[0m\u001b[1;33m\u001b[0m\u001b[0m\n\u001b[0m",
      "\u001b[1;31mNameError\u001b[0m: name 'datasets' is not defined"
     ]
    }
   ],
   "source": [
    "datasets[\"train\"]"
   ]
  },
  {
   "cell_type": "code",
   "execution_count": null,
   "id": "applicable-creator",
   "metadata": {},
   "outputs": [],
   "source": [
    "import pandas as pd\n",
    "\n",
    "df = []\n",
    "cols = [\"scoring\", \"algorithm\", \"dataset\", \"subject_id\", \"run\", \"n_components\", \"score_before\", \"score_after\", \"time\"]\n",
    "\n",
    "for k, v in results.items():\n",
    "    df.append(list(k) + list(v.values()))\n",
    "pd.DataFrame(df, columns=cols).to_csv(\"results.csv\")"
   ]
  },
  {
   "cell_type": "code",
   "execution_count": null,
   "id": "fleet-knife",
   "metadata": {},
   "outputs": [],
   "source": [
    "df = pd.DataFrame(df, columns=cols)\n",
    "df.groupby([\"scoring\", \"algorithm\", \"dataset\", \"subject_id\", \"n_components\"]).mean().query(\"\"\" (dataset == \"test\") \"\"\")"
   ]
  }
 ],
 "metadata": {
  "kernelspec": {
   "display_name": "Python 3",
   "language": "python",
   "name": "python3"
  },
  "language_info": {
   "codemirror_mode": {
    "name": "ipython",
    "version": 3
   },
   "file_extension": ".py",
   "mimetype": "text/x-python",
   "name": "python",
   "nbconvert_exporter": "python",
   "pygments_lexer": "ipython3",
   "version": "3.8.8"
  }
 },
 "nbformat": 4,
 "nbformat_minor": 5
}
