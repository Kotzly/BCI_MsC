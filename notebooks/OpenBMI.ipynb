{
 "cells": [
  {
   "cell_type": "code",
   "execution_count": 1,
   "id": "b9106642",
   "metadata": {},
   "outputs": [],
   "source": [
    "import requests\n",
    "from pathlib import Path\n",
    "import multiprocessing as mp\n",
    "from itertools import product\n",
    "import numpy as np\n",
    "from scipy.io import loadmat\n",
    "import matplotlib.pyplot as plt\n",
    "import mne\n",
    "import numpy as np\n",
    "\n",
    "save_root = Path(\"/home/paulo/Documents/datasets\")\n",
    "\n",
    "# def download(url, save_filepath):\n",
    "#     r = requests.get(url, allow_redirects=True)\n",
    "#     open(save_filepath, 'wb').write(r.content)\n",
    "\n",
    "def download(url, save_filepath):\n",
    "    if save_filepath.exists():\n",
    "        return\n",
    "\n",
    "    with requests.get(url, stream=True) as r:\n",
    "        r.raise_for_status()\n",
    "        with open(save_filepath, 'wb') as f:\n",
    "            for chunk in r.iter_content(chunk_size=8192 * 16): \n",
    "                # If you have chunk encoded response uncomment if\n",
    "                # and set chunk_size parameter to None.\n",
    "                #if chunk: \n",
    "                f.write(chunk)\n",
    "\n",
    "def download_parallel(urls, save_filepaths, n_jobs=4):\n",
    "    args = [(url, fpath) for url, fpath in zip(urls, save_filepaths)]\n",
    "    with mp.Pool(n_jobs) as pool:\n",
    "        pool.starmap(download, args)\n",
    "# https://ftp.cngb.org/pub/gigadb/pub/10.5524/100001_101000/100542/session2/s9/sess02_subj09_EEG_MI.mat\n",
    "base_url = \"https://ftp.cngb.org/pub/gigadb/pub/10.5524/100001_101000/100542/session{}/s{}/sess0{}_subj{}_EEG_MI.mat\""
   ]
  },
  {
   "cell_type": "code",
   "execution_count": 4,
   "id": "c2d6b276",
   "metadata": {},
   "outputs": [],
   "source": [
    "\n",
    "\n",
    "dataset_folder = save_root / \"OpenBMI\"\n",
    "dataset_folder.mkdir(exist_ok=True)\n",
    "\n",
    "urls = list()\n",
    "for session, sub in product([1, 2], range(1, 54 + 1)):\n",
    "    url = base_url.format(\n",
    "        session,\n",
    "        sub,\n",
    "        session,\n",
    "        str(sub).rjust(2, \"0\")\n",
    "    )\n",
    "    urls.append(url)\n",
    "\n"
   ]
  },
  {
   "cell_type": "code",
   "execution_count": 3,
   "id": "ef547e33",
   "metadata": {},
   "outputs": [
    {
     "name": "stdout",
     "output_type": "stream",
     "text": [
      "https://ftp.cngb.org/pub/gigadb/pub/10.5524/100001_101000/100542/session1/s1/sess01_subj01_EEG_MI.mat\n",
      "https://ftp.cngb.org/pub/gigadb/pub/10.5524/100001_101000/100542/session1/s2/sess01_subj02_EEG_MI.mat\n",
      "https://ftp.cngb.org/pub/gigadb/pub/10.5524/100001_101000/100542/session1/s3/sess01_subj03_EEG_MI.mat\n",
      "https://ftp.cngb.org/pub/gigadb/pub/10.5524/100001_101000/100542/session1/s4/sess01_subj04_EEG_MI.mat\n",
      "https://ftp.cngb.org/pub/gigadb/pub/10.5524/100001_101000/100542/session1/s5/sess01_subj05_EEG_MI.mat\n",
      "https://ftp.cngb.org/pub/gigadb/pub/10.5524/100001_101000/100542/session1/s6/sess01_subj06_EEG_MI.mat\n",
      "https://ftp.cngb.org/pub/gigadb/pub/10.5524/100001_101000/100542/session1/s7/sess01_subj07_EEG_MI.mat\n",
      "https://ftp.cngb.org/pub/gigadb/pub/10.5524/100001_101000/100542/session1/s8/sess01_subj08_EEG_MI.mat\n",
      "https://ftp.cngb.org/pub/gigadb/pub/10.5524/100001_101000/100542/session1/s9/sess01_subj09_EEG_MI.mat\n",
      "https://ftp.cngb.org/pub/gigadb/pub/10.5524/100001_101000/100542/session1/s10/sess01_subj10_EEG_MI.mat\n",
      "https://ftp.cngb.org/pub/gigadb/pub/10.5524/100001_101000/100542/session1/s11/sess01_subj11_EEG_MI.mat\n",
      "https://ftp.cngb.org/pub/gigadb/pub/10.5524/100001_101000/100542/session1/s12/sess01_subj12_EEG_MI.mat\n",
      "https://ftp.cngb.org/pub/gigadb/pub/10.5524/100001_101000/100542/session1/s13/sess01_subj13_EEG_MI.mat\n",
      "https://ftp.cngb.org/pub/gigadb/pub/10.5524/100001_101000/100542/session1/s14/sess01_subj14_EEG_MI.mat\n",
      "https://ftp.cngb.org/pub/gigadb/pub/10.5524/100001_101000/100542/session1/s15/sess01_subj15_EEG_MI.mat\n",
      "https://ftp.cngb.org/pub/gigadb/pub/10.5524/100001_101000/100542/session1/s16/sess01_subj16_EEG_MI.mat\n",
      "https://ftp.cngb.org/pub/gigadb/pub/10.5524/100001_101000/100542/session1/s17/sess01_subj17_EEG_MI.mat\n",
      "https://ftp.cngb.org/pub/gigadb/pub/10.5524/100001_101000/100542/session1/s18/sess01_subj18_EEG_MI.mat\n",
      "https://ftp.cngb.org/pub/gigadb/pub/10.5524/100001_101000/100542/session1/s19/sess01_subj19_EEG_MI.mat\n",
      "https://ftp.cngb.org/pub/gigadb/pub/10.5524/100001_101000/100542/session1/s20/sess01_subj20_EEG_MI.mat\n",
      "https://ftp.cngb.org/pub/gigadb/pub/10.5524/100001_101000/100542/session1/s21/sess01_subj21_EEG_MI.mat\n",
      "https://ftp.cngb.org/pub/gigadb/pub/10.5524/100001_101000/100542/session1/s22/sess01_subj22_EEG_MI.mat\n",
      "https://ftp.cngb.org/pub/gigadb/pub/10.5524/100001_101000/100542/session1/s23/sess01_subj23_EEG_MI.mat\n",
      "https://ftp.cngb.org/pub/gigadb/pub/10.5524/100001_101000/100542/session1/s24/sess01_subj24_EEG_MI.mat\n",
      "https://ftp.cngb.org/pub/gigadb/pub/10.5524/100001_101000/100542/session1/s25/sess01_subj25_EEG_MI.mat\n",
      "https://ftp.cngb.org/pub/gigadb/pub/10.5524/100001_101000/100542/session1/s26/sess01_subj26_EEG_MI.mat\n",
      "https://ftp.cngb.org/pub/gigadb/pub/10.5524/100001_101000/100542/session1/s27/sess01_subj27_EEG_MI.mat\n",
      "https://ftp.cngb.org/pub/gigadb/pub/10.5524/100001_101000/100542/session1/s28/sess01_subj28_EEG_MI.mat\n",
      "https://ftp.cngb.org/pub/gigadb/pub/10.5524/100001_101000/100542/session1/s29/sess01_subj29_EEG_MI.mat\n",
      "https://ftp.cngb.org/pub/gigadb/pub/10.5524/100001_101000/100542/session1/s30/sess01_subj30_EEG_MI.mat\n",
      "https://ftp.cngb.org/pub/gigadb/pub/10.5524/100001_101000/100542/session1/s31/sess01_subj31_EEG_MI.mat\n",
      "https://ftp.cngb.org/pub/gigadb/pub/10.5524/100001_101000/100542/session1/s32/sess01_subj32_EEG_MI.mat\n",
      "https://ftp.cngb.org/pub/gigadb/pub/10.5524/100001_101000/100542/session1/s33/sess01_subj33_EEG_MI.mat\n",
      "https://ftp.cngb.org/pub/gigadb/pub/10.5524/100001_101000/100542/session1/s34/sess01_subj34_EEG_MI.mat\n",
      "https://ftp.cngb.org/pub/gigadb/pub/10.5524/100001_101000/100542/session1/s35/sess01_subj35_EEG_MI.mat\n",
      "https://ftp.cngb.org/pub/gigadb/pub/10.5524/100001_101000/100542/session1/s36/sess01_subj36_EEG_MI.mat\n",
      "https://ftp.cngb.org/pub/gigadb/pub/10.5524/100001_101000/100542/session1/s37/sess01_subj37_EEG_MI.mat\n",
      "https://ftp.cngb.org/pub/gigadb/pub/10.5524/100001_101000/100542/session1/s38/sess01_subj38_EEG_MI.mat\n",
      "https://ftp.cngb.org/pub/gigadb/pub/10.5524/100001_101000/100542/session1/s39/sess01_subj39_EEG_MI.mat\n",
      "https://ftp.cngb.org/pub/gigadb/pub/10.5524/100001_101000/100542/session1/s40/sess01_subj40_EEG_MI.mat\n",
      "https://ftp.cngb.org/pub/gigadb/pub/10.5524/100001_101000/100542/session1/s41/sess01_subj41_EEG_MI.mat\n",
      "https://ftp.cngb.org/pub/gigadb/pub/10.5524/100001_101000/100542/session1/s42/sess01_subj42_EEG_MI.mat\n",
      "https://ftp.cngb.org/pub/gigadb/pub/10.5524/100001_101000/100542/session1/s43/sess01_subj43_EEG_MI.mat\n",
      "https://ftp.cngb.org/pub/gigadb/pub/10.5524/100001_101000/100542/session1/s44/sess01_subj44_EEG_MI.mat\n",
      "https://ftp.cngb.org/pub/gigadb/pub/10.5524/100001_101000/100542/session1/s45/sess01_subj45_EEG_MI.mat\n",
      "https://ftp.cngb.org/pub/gigadb/pub/10.5524/100001_101000/100542/session1/s46/sess01_subj46_EEG_MI.mat\n",
      "https://ftp.cngb.org/pub/gigadb/pub/10.5524/100001_101000/100542/session1/s47/sess01_subj47_EEG_MI.mat\n",
      "https://ftp.cngb.org/pub/gigadb/pub/10.5524/100001_101000/100542/session1/s48/sess01_subj48_EEG_MI.mat\n",
      "https://ftp.cngb.org/pub/gigadb/pub/10.5524/100001_101000/100542/session1/s49/sess01_subj49_EEG_MI.mat\n",
      "https://ftp.cngb.org/pub/gigadb/pub/10.5524/100001_101000/100542/session1/s50/sess01_subj50_EEG_MI.mat\n",
      "https://ftp.cngb.org/pub/gigadb/pub/10.5524/100001_101000/100542/session1/s51/sess01_subj51_EEG_MI.mat\n",
      "https://ftp.cngb.org/pub/gigadb/pub/10.5524/100001_101000/100542/session1/s52/sess01_subj52_EEG_MI.mat\n",
      "https://ftp.cngb.org/pub/gigadb/pub/10.5524/100001_101000/100542/session1/s53/sess01_subj53_EEG_MI.mat\n",
      "https://ftp.cngb.org/pub/gigadb/pub/10.5524/100001_101000/100542/session1/s54/sess01_subj54_EEG_MI.mat\n",
      "https://ftp.cngb.org/pub/gigadb/pub/10.5524/100001_101000/100542/session2/s1/sess02_subj01_EEG_MI.mat\n",
      "https://ftp.cngb.org/pub/gigadb/pub/10.5524/100001_101000/100542/session2/s2/sess02_subj02_EEG_MI.mat\n",
      "https://ftp.cngb.org/pub/gigadb/pub/10.5524/100001_101000/100542/session2/s3/sess02_subj03_EEG_MI.mat\n",
      "https://ftp.cngb.org/pub/gigadb/pub/10.5524/100001_101000/100542/session2/s4/sess02_subj04_EEG_MI.mat\n",
      "https://ftp.cngb.org/pub/gigadb/pub/10.5524/100001_101000/100542/session2/s5/sess02_subj05_EEG_MI.mat\n",
      "https://ftp.cngb.org/pub/gigadb/pub/10.5524/100001_101000/100542/session2/s6/sess02_subj06_EEG_MI.mat\n",
      "https://ftp.cngb.org/pub/gigadb/pub/10.5524/100001_101000/100542/session2/s7/sess02_subj07_EEG_MI.mat\n",
      "https://ftp.cngb.org/pub/gigadb/pub/10.5524/100001_101000/100542/session2/s8/sess02_subj08_EEG_MI.mat\n",
      "https://ftp.cngb.org/pub/gigadb/pub/10.5524/100001_101000/100542/session2/s9/sess02_subj09_EEG_MI.mat\n",
      "https://ftp.cngb.org/pub/gigadb/pub/10.5524/100001_101000/100542/session2/s10/sess02_subj10_EEG_MI.mat\n",
      "https://ftp.cngb.org/pub/gigadb/pub/10.5524/100001_101000/100542/session2/s11/sess02_subj11_EEG_MI.mat\n",
      "https://ftp.cngb.org/pub/gigadb/pub/10.5524/100001_101000/100542/session2/s12/sess02_subj12_EEG_MI.mat\n",
      "https://ftp.cngb.org/pub/gigadb/pub/10.5524/100001_101000/100542/session2/s13/sess02_subj13_EEG_MI.mat\n",
      "https://ftp.cngb.org/pub/gigadb/pub/10.5524/100001_101000/100542/session2/s14/sess02_subj14_EEG_MI.mat\n",
      "https://ftp.cngb.org/pub/gigadb/pub/10.5524/100001_101000/100542/session2/s15/sess02_subj15_EEG_MI.mat\n",
      "https://ftp.cngb.org/pub/gigadb/pub/10.5524/100001_101000/100542/session2/s16/sess02_subj16_EEG_MI.mat\n",
      "https://ftp.cngb.org/pub/gigadb/pub/10.5524/100001_101000/100542/session2/s17/sess02_subj17_EEG_MI.mat\n",
      "https://ftp.cngb.org/pub/gigadb/pub/10.5524/100001_101000/100542/session2/s18/sess02_subj18_EEG_MI.mat\n",
      "https://ftp.cngb.org/pub/gigadb/pub/10.5524/100001_101000/100542/session2/s19/sess02_subj19_EEG_MI.mat\n",
      "https://ftp.cngb.org/pub/gigadb/pub/10.5524/100001_101000/100542/session2/s20/sess02_subj20_EEG_MI.mat\n",
      "https://ftp.cngb.org/pub/gigadb/pub/10.5524/100001_101000/100542/session2/s21/sess02_subj21_EEG_MI.mat\n",
      "https://ftp.cngb.org/pub/gigadb/pub/10.5524/100001_101000/100542/session2/s22/sess02_subj22_EEG_MI.mat\n",
      "https://ftp.cngb.org/pub/gigadb/pub/10.5524/100001_101000/100542/session2/s23/sess02_subj23_EEG_MI.mat\n",
      "https://ftp.cngb.org/pub/gigadb/pub/10.5524/100001_101000/100542/session2/s24/sess02_subj24_EEG_MI.mat\n",
      "https://ftp.cngb.org/pub/gigadb/pub/10.5524/100001_101000/100542/session2/s25/sess02_subj25_EEG_MI.mat\n",
      "https://ftp.cngb.org/pub/gigadb/pub/10.5524/100001_101000/100542/session2/s26/sess02_subj26_EEG_MI.mat\n",
      "https://ftp.cngb.org/pub/gigadb/pub/10.5524/100001_101000/100542/session2/s27/sess02_subj27_EEG_MI.mat\n",
      "https://ftp.cngb.org/pub/gigadb/pub/10.5524/100001_101000/100542/session2/s28/sess02_subj28_EEG_MI.mat\n",
      "https://ftp.cngb.org/pub/gigadb/pub/10.5524/100001_101000/100542/session2/s29/sess02_subj29_EEG_MI.mat\n",
      "https://ftp.cngb.org/pub/gigadb/pub/10.5524/100001_101000/100542/session2/s30/sess02_subj30_EEG_MI.mat\n",
      "https://ftp.cngb.org/pub/gigadb/pub/10.5524/100001_101000/100542/session2/s31/sess02_subj31_EEG_MI.mat\n",
      "https://ftp.cngb.org/pub/gigadb/pub/10.5524/100001_101000/100542/session2/s32/sess02_subj32_EEG_MI.mat\n",
      "https://ftp.cngb.org/pub/gigadb/pub/10.5524/100001_101000/100542/session2/s33/sess02_subj33_EEG_MI.mat\n",
      "https://ftp.cngb.org/pub/gigadb/pub/10.5524/100001_101000/100542/session2/s34/sess02_subj34_EEG_MI.mat\n",
      "https://ftp.cngb.org/pub/gigadb/pub/10.5524/100001_101000/100542/session2/s35/sess02_subj35_EEG_MI.mat\n",
      "https://ftp.cngb.org/pub/gigadb/pub/10.5524/100001_101000/100542/session2/s36/sess02_subj36_EEG_MI.mat\n",
      "https://ftp.cngb.org/pub/gigadb/pub/10.5524/100001_101000/100542/session2/s37/sess02_subj37_EEG_MI.mat\n",
      "https://ftp.cngb.org/pub/gigadb/pub/10.5524/100001_101000/100542/session2/s38/sess02_subj38_EEG_MI.mat\n",
      "https://ftp.cngb.org/pub/gigadb/pub/10.5524/100001_101000/100542/session2/s39/sess02_subj39_EEG_MI.mat\n",
      "https://ftp.cngb.org/pub/gigadb/pub/10.5524/100001_101000/100542/session2/s40/sess02_subj40_EEG_MI.mat\n",
      "https://ftp.cngb.org/pub/gigadb/pub/10.5524/100001_101000/100542/session2/s41/sess02_subj41_EEG_MI.mat\n",
      "https://ftp.cngb.org/pub/gigadb/pub/10.5524/100001_101000/100542/session2/s42/sess02_subj42_EEG_MI.mat\n",
      "https://ftp.cngb.org/pub/gigadb/pub/10.5524/100001_101000/100542/session2/s43/sess02_subj43_EEG_MI.mat\n",
      "https://ftp.cngb.org/pub/gigadb/pub/10.5524/100001_101000/100542/session2/s44/sess02_subj44_EEG_MI.mat\n",
      "https://ftp.cngb.org/pub/gigadb/pub/10.5524/100001_101000/100542/session2/s45/sess02_subj45_EEG_MI.mat\n",
      "https://ftp.cngb.org/pub/gigadb/pub/10.5524/100001_101000/100542/session2/s46/sess02_subj46_EEG_MI.mat\n",
      "https://ftp.cngb.org/pub/gigadb/pub/10.5524/100001_101000/100542/session2/s47/sess02_subj47_EEG_MI.mat\n",
      "https://ftp.cngb.org/pub/gigadb/pub/10.5524/100001_101000/100542/session2/s48/sess02_subj48_EEG_MI.mat\n",
      "https://ftp.cngb.org/pub/gigadb/pub/10.5524/100001_101000/100542/session2/s49/sess02_subj49_EEG_MI.mat\n",
      "https://ftp.cngb.org/pub/gigadb/pub/10.5524/100001_101000/100542/session2/s50/sess02_subj50_EEG_MI.mat\n",
      "https://ftp.cngb.org/pub/gigadb/pub/10.5524/100001_101000/100542/session2/s51/sess02_subj51_EEG_MI.mat\n",
      "https://ftp.cngb.org/pub/gigadb/pub/10.5524/100001_101000/100542/session2/s52/sess02_subj52_EEG_MI.mat\n",
      "https://ftp.cngb.org/pub/gigadb/pub/10.5524/100001_101000/100542/session2/s53/sess02_subj53_EEG_MI.mat\n",
      "https://ftp.cngb.org/pub/gigadb/pub/10.5524/100001_101000/100542/session2/s54/sess02_subj54_EEG_MI.mat\n"
     ]
    }
   ],
   "source": [
    "print(\"\\n\".join(urls))"
   ]
  },
  {
   "cell_type": "code",
   "execution_count": 2,
   "id": "5d7c5a61",
   "metadata": {},
   "outputs": [],
   "source": [
    "def mat_to_dict(mat_struct):\n",
    "    mat_data = mat_struct[0][0]\n",
    "    info = list(mat_struct.dtype.names)\n",
    "    data_dict = {\n",
    "        name: array\n",
    "        for name, array\n",
    "        in zip(info, mat_data)\n",
    "    }\n",
    "\n",
    "    data_dict[\"chan\"] = [str(ch[0]) for ch in data_dict[\"chan\"].flatten()]\n",
    "    data_dict[\"fs\"] = data_dict[\"fs\"][0, 0]\n",
    "    data_dict[\"t\"] = data_dict[\"t\"].flatten()\n",
    "    return data_dict\n"
   ]
  },
  {
   "cell_type": "code",
   "execution_count": 5,
   "id": "88e79554",
   "metadata": {},
   "outputs": [],
   "source": [
    "filepath = Path(\"/home/paulo/Documents/datasets/OpenBMI/sess01_subj01_EEG_MI.mat\")\n",
    "mat = loadmat(filepath)"
   ]
  },
  {
   "cell_type": "code",
   "execution_count": 15,
   "id": "6fff608d",
   "metadata": {},
   "outputs": [
    {
     "data": {
      "text/plain": [
       "(dict_keys(['smt', 'x', 't', 'fs', 'y_dec', 'y_logic', 'y_class', 'class', 'chan', 'ival', 'time_interval', 'EMG', 'EMG_index', 'pre_rest', 'post_rest', 'rest_interval']),\n",
       " dict_keys(['smt', 'x', 't', 'fs', 'y_dec', 'y_logic', 'y_class', 'class', 'chan', 'ival', 'time_interval', 'EMG', 'EMG_index', 'pre_rest', 'post_rest', 'rest_interval']))"
      ]
     },
     "execution_count": 15,
     "metadata": {},
     "output_type": "execute_result"
    }
   ],
   "source": [
    "\n",
    "data_dict = mat_to_dict(mat[\"EEG_MI_train\"])\n",
    "test_data_dict = mat_to_dict(mat[\"EEG_MI_train\"])\n",
    "\n",
    "# subjects were instructed to gaze at the center\n",
    "# point of the monitor without a particular task for one minute\n",
    "# in order to record the resting state EEG data before and after\n",
    "# each experimental task.\n",
    "data_dict.keys(), test_data_dict.keys()\n"
   ]
  },
  {
   "cell_type": "code",
   "execution_count": 21,
   "id": "1da1f34c",
   "metadata": {},
   "outputs": [
    {
     "name": "stdout",
     "output_type": "stream",
     "text": [
      "smt (4000, 100, 62)\n",
      "x (1418040, 62)\n",
      "t (100,)\n",
      "fs 1000\n",
      "y_dec (1, 100)\n",
      "y_logic (2, 100)\n",
      "y_class (1, 100)\n",
      "class (2, 2)\n",
      "chan 62\n",
      "ival (1, 4000)\n",
      "time_interval (1, 2)\n",
      "EMG (1418040, 4)\n",
      "EMG_index (1, 4)\n",
      "pre_rest (60000, 62)\n",
      "post_rest (60000, 62)\n",
      "rest_interval (1, 2)\n"
     ]
    }
   ],
   "source": [
    "for k, v in data_dict.items():\n",
    "    if isinstance(v, np.ndarray):\n",
    "        s = v.shape\n",
    "    elif isinstance(v, np.uint16):\n",
    "        s = v\n",
    "    else:\n",
    "        s = len(v)\n",
    "    print(k, s)"
   ]
  },
  {
   "cell_type": "code",
   "execution_count": 22,
   "id": "ef4e3359",
   "metadata": {},
   "outputs": [
    {
     "data": {
      "text/plain": [
       "(array([[[-1.15300003e+02, -2.97600006e+02, -4.80000000e+01, ...,\n",
       "         -4.60999985e+01,  2.42000008e+01,  4.37000008e+01],\n",
       "        [-2.25800003e+02, -3.34399994e+02, -1.54600006e+02, ...,\n",
       "         -2.27100006e+02, -5.30000000e+01, -2.73999996e+01],\n",
       "        [-1.13800003e+02, -1.44199997e+02, -8.04000015e+01, ...,\n",
       "         -6.48000031e+01, -1.10000002e+00,  8.39999962e+00],\n",
       "        ...,\n",
       "        [-6.84000015e+01, -5.87999992e+01,  6.00000024e-01, ...,\n",
       "         -8.48000031e+01,  1.67000008e+01,  3.72999992e+01],\n",
       "        [ 2.25300003e+02,  2.34899994e+02,  6.79000015e+01, ...,\n",
       "          2.01000000e+02,  3.59000015e+01,  4.70000000e+01],\n",
       "        [-1.90899994e+02, -1.21900002e+02, -6.90000000e+01, ...,\n",
       "         -9.53000031e+01,  4.67999992e+01,  6.14000015e+01]],\n",
       "\n",
       "       [[-1.09800003e+02, -2.92299988e+02, -4.87000008e+01, ...,\n",
       "         -4.54000015e+01,  2.71000004e+01,  4.80999985e+01],\n",
       "        [-2.25899994e+02, -3.23000000e+02, -1.53000000e+02, ...,\n",
       "         -2.22000000e+02, -5.62000008e+01, -2.56000004e+01],\n",
       "        [-1.13199997e+02, -1.40399994e+02, -7.66999969e+01, ...,\n",
       "         -6.41999969e+01,  8.39999962e+00,  1.80000000e+01],\n",
       "        ...,\n",
       "        [-6.48000031e+01, -5.89000015e+01,  0.00000000e+00, ...,\n",
       "         -8.43000031e+01,  1.53999996e+01,  3.49000015e+01],\n",
       "        [ 2.33300003e+02,  2.43800003e+02,  7.01999969e+01, ...,\n",
       "          2.08199997e+02,  3.89000015e+01,  5.05000000e+01],\n",
       "        [-1.90800003e+02, -1.22500000e+02, -7.15999985e+01, ...,\n",
       "         -9.93000031e+01,  4.49000015e+01,  5.37999992e+01]],\n",
       "\n",
       "       [[-1.11800003e+02, -2.92500000e+02, -5.02000008e+01, ...,\n",
       "         -4.55999985e+01,  2.42999992e+01,  4.52000008e+01],\n",
       "        [-2.24800003e+02, -3.11700012e+02, -1.57699997e+02, ...,\n",
       "         -2.20699997e+02, -5.49000015e+01, -2.52999992e+01],\n",
       "        [-1.10000000e+02, -1.32500000e+02, -7.59000015e+01, ...,\n",
       "         -6.10999985e+01,  7.59999990e+00,  1.88999996e+01],\n",
       "        ...,\n",
       "        [-6.48000031e+01, -5.54000015e+01,  4.00000006e-01, ...,\n",
       "         -8.43000031e+01,  1.51000004e+01,  3.39000015e+01],\n",
       "        [ 2.33199997e+02,  2.44699997e+02,  6.80999985e+01, ...,\n",
       "          2.06899994e+02,  3.92000008e+01,  4.95999985e+01],\n",
       "        [-1.79500000e+02, -1.07900002e+02, -6.24000015e+01, ...,\n",
       "         -8.96999969e+01,  5.15000000e+01,  5.90000000e+01]],\n",
       "\n",
       "       ...,\n",
       "\n",
       "       [[-3.35999985e+01, -2.57299988e+02, -2.56000004e+01, ...,\n",
       "         -6.07000008e+01,  6.55999985e+01,  7.85999985e+01],\n",
       "        [-1.15900002e+02, -1.09099998e+02, -1.25800003e+02, ...,\n",
       "         -1.04199997e+02,  3.29999995e+00,  1.62000008e+01],\n",
       "        [-1.04400002e+02,  1.16400002e+02, -5.77000008e+01, ...,\n",
       "         -6.96999969e+01, -1.50000000e+00,  1.87000008e+01],\n",
       "        ...,\n",
       "        [-6.05999985e+01, -3.37999992e+01,  4.30000019e+00, ...,\n",
       "         -8.16999969e+01, -6.40000010e+00,  2.30000000e+01],\n",
       "        [-2.53999996e+01,  4.10000000e+01, -2.20000000e+01, ...,\n",
       "         -3.94000015e+01,  4.15000000e+01,  6.58000031e+01],\n",
       "        [-1.38800003e+02, -1.02400002e+02, -5.25000000e+01, ...,\n",
       "         -4.79000015e+01, -3.00000012e-01,  1.90000000e+01]],\n",
       "\n",
       "       [[-3.65000000e+01, -2.58799988e+02, -2.97999992e+01, ...,\n",
       "         -6.30000000e+01,  6.25000000e+01,  7.56999969e+01],\n",
       "        [-1.19900002e+02, -1.05500000e+02, -1.25800003e+02, ...,\n",
       "         -1.05800003e+02, -2.20000005e+00,  8.60000038e+00],\n",
       "        [-1.03300003e+02,  1.29000000e+02, -5.85000000e+01, ...,\n",
       "         -6.76999969e+01, -2.90000010e+00,  2.00000000e+01],\n",
       "        ...,\n",
       "        [-5.85999985e+01, -2.46000004e+01,  6.80000019e+00, ...,\n",
       "         -8.90999985e+01, -2.50000000e+00,  2.47999992e+01],\n",
       "        [-5.00000000e+00,  4.60000000e+01, -1.73999996e+01, ...,\n",
       "         -2.68999996e+01,  4.44000015e+01,  6.85999985e+01],\n",
       "        [-1.40899994e+02, -1.13500000e+02, -5.57999992e+01, ...,\n",
       "         -4.72999992e+01,  2.79999995e+00,  2.13999996e+01]],\n",
       "\n",
       "       [[-2.77000008e+01, -2.41100006e+02, -2.62000008e+01, ...,\n",
       "         -5.44000015e+01,  6.83000031e+01,  8.38000031e+01],\n",
       "        [-1.25000000e+02, -1.14900002e+02, -1.28500000e+02, ...,\n",
       "         -1.12800003e+02, -8.69999981e+00,  6.30000019e+00],\n",
       "        [-1.00099998e+02,  1.19500000e+02, -5.70000000e+01, ...,\n",
       "         -7.36999969e+01, -2.79999995e+00,  1.70000000e+01],\n",
       "        ...,\n",
       "        [-5.22000008e+01, -1.73999996e+01,  9.60000038e+00, ...,\n",
       "         -8.15000000e+01,  3.29999995e+00,  2.75000000e+01],\n",
       "        [ 6.90000010e+00,  5.19000015e+01, -1.36000004e+01, ...,\n",
       "         -2.05000000e+01,  4.87000008e+01,  7.23000031e+01],\n",
       "        [-1.40000000e+02, -1.28500000e+02, -5.60999985e+01, ...,\n",
       "         -5.27000008e+01,  6.40000010e+00,  2.55000000e+01]]]), array([[ -76.80000305,   88.30000305,  -35.20000076, ...,  -46.09999847,\n",
       "          50.5       ,   37.        ],\n",
       "       [ -75.5       ,   88.09999847,  -37.5       , ...,  -45.70000076,\n",
       "          54.09999847,   39.        ],\n",
       "       [ -70.        ,  102.80000305,  -33.59999847, ...,  -40.79999924,\n",
       "          55.90000153,   43.70000076],\n",
       "       ...,\n",
       "       [-165.5       , -570.09997559,   14.80000019, ..., -333.6000061 ,\n",
       "          60.40000153,   69.09999847],\n",
       "       [-155.5       , -594.90002441,   22.        , ..., -339.70001221,\n",
       "          52.29999924,   67.19999695],\n",
       "       [-136.30000305, -607.20001221,   39.90000153, ..., -327.79998779,\n",
       "          79.30000305,   98.69999695]]), array([[ 172929,  185561,  198745,  211744,  224944,  238227,  251493,\n",
       "         264127,  276760,  289676,  302859,  316059,  329059,  342425,\n",
       "         355708,  369358,  382458,  395374,  408090,  421290,  434657,\n",
       "         447656,  460390,  473206,  485922,  498839,  511839,  524938,\n",
       "         538038,  551588,  564771,  578337,  591620,  605187,  618003,\n",
       "         631370,  644286,  657569,  670935,  683669,  696485,  709301,\n",
       "         722585,  736051,  749051,  762417,  775700,  788250,  801516,\n",
       "         857532,  871099,  883815,  896998,  910014,  923097,  936564,\n",
       "         949663,  963230,  976330,  989046, 1001962, 1015429, 1028712,\n",
       "        1041612, 1054711, 1068078, 1080894, 1094378, 1107377, 1121110,\n",
       "        1134127, 1147593, 1160493, 1173492, 1186326, 1199692, 1213058,\n",
       "        1226258, 1239441, 1252824, 1266108, 1279374, 1292573, 1306123,\n",
       "        1318939, 1332323, 1345322, 1358056, 1371422, 1384605, 1397805,\n",
       "        1410988, 1424554, 1437637, 1451020, 1464203, 1477670, 1491336,\n",
       "        1504336, 1517702]], dtype=int32), array([[1000]], dtype=uint16), array([[1, 2, 1, 2, 2, 1, 1, 2, 2, 1, 2, 1, 2, 1, 2, 1, 1, 2, 2, 2, 1, 1,\n",
       "        2, 1, 1, 1, 1, 1, 1, 2, 1, 1, 2, 2, 1, 2, 2, 1, 1, 2, 2, 1, 1, 2,\n",
       "        1, 1, 1, 1, 2, 1, 2, 2, 2, 2, 2, 1, 2, 1, 2, 1, 2, 1, 1, 2, 2, 1,\n",
       "        2, 1, 1, 2, 1, 2, 2, 1, 2, 2, 1, 2, 2, 2, 2, 2, 1, 2, 1, 1, 2, 1,\n",
       "        2, 2, 2, 1, 2, 1, 1, 2, 1, 1, 1, 2]], dtype=uint8), array([[1, 0, 1, 0, 0, 1, 1, 0, 0, 1, 0, 1, 0, 1, 0, 1, 1, 0, 0, 0, 1, 1,\n",
       "        0, 1, 1, 1, 1, 1, 1, 0, 1, 1, 0, 0, 1, 0, 0, 1, 1, 0, 0, 1, 1, 0,\n",
       "        1, 1, 1, 1, 0, 1, 0, 0, 0, 0, 0, 1, 0, 1, 0, 1, 0, 1, 1, 0, 0, 1,\n",
       "        0, 1, 1, 0, 1, 0, 0, 1, 0, 0, 1, 0, 0, 0, 0, 0, 1, 0, 1, 1, 0, 1,\n",
       "        0, 0, 0, 1, 0, 1, 1, 0, 1, 1, 1, 0],\n",
       "       [0, 1, 0, 1, 1, 0, 0, 1, 1, 0, 1, 0, 1, 0, 1, 0, 0, 1, 1, 1, 0, 0,\n",
       "        1, 0, 0, 0, 0, 0, 0, 1, 0, 0, 1, 1, 0, 1, 1, 0, 0, 1, 1, 0, 0, 1,\n",
       "        0, 0, 0, 0, 1, 0, 1, 1, 1, 1, 1, 0, 1, 0, 1, 0, 1, 0, 0, 1, 1, 0,\n",
       "        1, 0, 0, 1, 0, 1, 1, 0, 1, 1, 0, 1, 1, 1, 1, 1, 0, 1, 0, 0, 1, 0,\n",
       "        1, 1, 1, 0, 1, 0, 0, 1, 0, 0, 0, 1]], dtype=uint8), array([[array(['right'], dtype='<U5'), array(['left'], dtype='<U4'),\n",
       "        array(['right'], dtype='<U5'), array(['left'], dtype='<U4'),\n",
       "        array(['left'], dtype='<U4'), array(['right'], dtype='<U5'),\n",
       "        array(['right'], dtype='<U5'), array(['left'], dtype='<U4'),\n",
       "        array(['left'], dtype='<U4'), array(['right'], dtype='<U5'),\n",
       "        array(['left'], dtype='<U4'), array(['right'], dtype='<U5'),\n",
       "        array(['left'], dtype='<U4'), array(['right'], dtype='<U5'),\n",
       "        array(['left'], dtype='<U4'), array(['right'], dtype='<U5'),\n",
       "        array(['right'], dtype='<U5'), array(['left'], dtype='<U4'),\n",
       "        array(['left'], dtype='<U4'), array(['left'], dtype='<U4'),\n",
       "        array(['right'], dtype='<U5'), array(['right'], dtype='<U5'),\n",
       "        array(['left'], dtype='<U4'), array(['right'], dtype='<U5'),\n",
       "        array(['right'], dtype='<U5'), array(['right'], dtype='<U5'),\n",
       "        array(['right'], dtype='<U5'), array(['right'], dtype='<U5'),\n",
       "        array(['right'], dtype='<U5'), array(['left'], dtype='<U4'),\n",
       "        array(['right'], dtype='<U5'), array(['right'], dtype='<U5'),\n",
       "        array(['left'], dtype='<U4'), array(['left'], dtype='<U4'),\n",
       "        array(['right'], dtype='<U5'), array(['left'], dtype='<U4'),\n",
       "        array(['left'], dtype='<U4'), array(['right'], dtype='<U5'),\n",
       "        array(['right'], dtype='<U5'), array(['left'], dtype='<U4'),\n",
       "        array(['left'], dtype='<U4'), array(['right'], dtype='<U5'),\n",
       "        array(['right'], dtype='<U5'), array(['left'], dtype='<U4'),\n",
       "        array(['right'], dtype='<U5'), array(['right'], dtype='<U5'),\n",
       "        array(['right'], dtype='<U5'), array(['right'], dtype='<U5'),\n",
       "        array(['left'], dtype='<U4'), array(['right'], dtype='<U5'),\n",
       "        array(['left'], dtype='<U4'), array(['left'], dtype='<U4'),\n",
       "        array(['left'], dtype='<U4'), array(['left'], dtype='<U4'),\n",
       "        array(['left'], dtype='<U4'), array(['right'], dtype='<U5'),\n",
       "        array(['left'], dtype='<U4'), array(['right'], dtype='<U5'),\n",
       "        array(['left'], dtype='<U4'), array(['right'], dtype='<U5'),\n",
       "        array(['left'], dtype='<U4'), array(['right'], dtype='<U5'),\n",
       "        array(['right'], dtype='<U5'), array(['left'], dtype='<U4'),\n",
       "        array(['left'], dtype='<U4'), array(['right'], dtype='<U5'),\n",
       "        array(['left'], dtype='<U4'), array(['right'], dtype='<U5'),\n",
       "        array(['right'], dtype='<U5'), array(['left'], dtype='<U4'),\n",
       "        array(['right'], dtype='<U5'), array(['left'], dtype='<U4'),\n",
       "        array(['left'], dtype='<U4'), array(['right'], dtype='<U5'),\n",
       "        array(['left'], dtype='<U4'), array(['left'], dtype='<U4'),\n",
       "        array(['right'], dtype='<U5'), array(['left'], dtype='<U4'),\n",
       "        array(['left'], dtype='<U4'), array(['left'], dtype='<U4'),\n",
       "        array(['left'], dtype='<U4'), array(['left'], dtype='<U4'),\n",
       "        array(['right'], dtype='<U5'), array(['left'], dtype='<U4'),\n",
       "        array(['right'], dtype='<U5'), array(['right'], dtype='<U5'),\n",
       "        array(['left'], dtype='<U4'), array(['right'], dtype='<U5'),\n",
       "        array(['left'], dtype='<U4'), array(['left'], dtype='<U4'),\n",
       "        array(['left'], dtype='<U4'), array(['right'], dtype='<U5'),\n",
       "        array(['left'], dtype='<U4'), array(['right'], dtype='<U5'),\n",
       "        array(['right'], dtype='<U5'), array(['left'], dtype='<U4'),\n",
       "        array(['right'], dtype='<U5'), array(['right'], dtype='<U5'),\n",
       "        array(['right'], dtype='<U5'), array(['left'], dtype='<U4')]],\n",
       "      dtype=object), array([[array(['1'], dtype='<U1'), array(['right'], dtype='<U5')],\n",
       "       [array(['2'], dtype='<U1'), array(['left'], dtype='<U4')]],\n",
       "      dtype=object), array([[array(['Fp1'], dtype='<U3'), array(['Fp2'], dtype='<U3'),\n",
       "        array(['F7'], dtype='<U2'), array(['F3'], dtype='<U2'),\n",
       "        array(['Fz'], dtype='<U2'), array(['F4'], dtype='<U2'),\n",
       "        array(['F8'], dtype='<U2'), array(['FC5'], dtype='<U3'),\n",
       "        array(['FC1'], dtype='<U3'), array(['FC2'], dtype='<U3'),\n",
       "        array(['FC6'], dtype='<U3'), array(['T7'], dtype='<U2'),\n",
       "        array(['C3'], dtype='<U2'), array(['Cz'], dtype='<U2'),\n",
       "        array(['C4'], dtype='<U2'), array(['T8'], dtype='<U2'),\n",
       "        array(['TP9'], dtype='<U3'), array(['CP5'], dtype='<U3'),\n",
       "        array(['CP1'], dtype='<U3'), array(['CP2'], dtype='<U3'),\n",
       "        array(['CP6'], dtype='<U3'), array(['TP10'], dtype='<U4'),\n",
       "        array(['P7'], dtype='<U2'), array(['P3'], dtype='<U2'),\n",
       "        array(['Pz'], dtype='<U2'), array(['P4'], dtype='<U2'),\n",
       "        array(['P8'], dtype='<U2'), array(['PO9'], dtype='<U3'),\n",
       "        array(['O1'], dtype='<U2'), array(['Oz'], dtype='<U2'),\n",
       "        array(['O2'], dtype='<U2'), array(['PO10'], dtype='<U4'),\n",
       "        array(['FC3'], dtype='<U3'), array(['FC4'], dtype='<U3'),\n",
       "        array(['C5'], dtype='<U2'), array(['C1'], dtype='<U2'),\n",
       "        array(['C2'], dtype='<U2'), array(['C6'], dtype='<U2'),\n",
       "        array(['CP3'], dtype='<U3'), array(['CPz'], dtype='<U3'),\n",
       "        array(['CP4'], dtype='<U3'), array(['P1'], dtype='<U2'),\n",
       "        array(['P2'], dtype='<U2'), array(['POz'], dtype='<U3'),\n",
       "        array(['FT9'], dtype='<U3'), array(['FTT9h'], dtype='<U5'),\n",
       "        array(['TTP7h'], dtype='<U5'), array(['TP7'], dtype='<U3'),\n",
       "        array(['TPP9h'], dtype='<U5'), array(['FT10'], dtype='<U4'),\n",
       "        array(['FTT10h'], dtype='<U6'), array(['TPP8h'], dtype='<U5'),\n",
       "        array(['TP8'], dtype='<U3'), array(['TPP10h'], dtype='<U6'),\n",
       "        array(['F9'], dtype='<U2'), array(['F10'], dtype='<U3'),\n",
       "        array(['AF7'], dtype='<U3'), array(['AF3'], dtype='<U3'),\n",
       "        array(['AF4'], dtype='<U3'), array(['AF8'], dtype='<U3'),\n",
       "        array(['PO3'], dtype='<U3'), array(['PO4'], dtype='<U3')]],\n",
       "      dtype=object), array([[   1,    2,    3, ..., 3998, 3999, 4000]], dtype=uint16), array([[   0, 4000]], dtype=uint16), array([[  -4.9000001 ,   24.5       ,   36.        ,    6.5999999 ],\n",
       "       [ -11.39999962,   15.80000019,   16.39999962,    2.5999999 ],\n",
       "       [  -5.69999981,   13.39999962,   25.        ,    6.80000019],\n",
       "       ...,\n",
       "       [ 169.3999939 ,  195.3999939 , 1367.30004883,  579.79998779],\n",
       "       [ 204.5       ,  252.1000061 , 1567.90002441,  722.20001221],\n",
       "       [ 131.6000061 ,  194.19999695, 1673.09997559,  757.59997559]]), array([[array(['EMG1'], dtype='<U4'), array(['EMG2'], dtype='<U4'),\n",
       "        array(['EMG3'], dtype='<U4'), array(['EMG4'], dtype='<U4')]],\n",
       "      dtype=object), array([[-237.5       ,  -40.09999847, -112.90000153, ..., -178.1000061 ,\n",
       "         -62.        ,  -29.20000076],\n",
       "       [-237.80000305,  -37.40000153, -111.5       , ..., -175.69999695,\n",
       "         -56.59999847,  -28.89999962],\n",
       "       [-238.80000305,  -24.        , -110.90000153, ..., -173.6000061 ,\n",
       "         -56.79999924,  -32.90000153],\n",
       "       ...,\n",
       "       [ -27.60000038, -270.29998779,    1.70000005, ...,  -30.60000038,\n",
       "          43.70000076,   50.90000153],\n",
       "       [ -26.89999962, -265.6000061 ,   -2.9000001 , ...,  -27.39999962,\n",
       "          41.70000076,   50.        ],\n",
       "       [ -29.89999962, -265.3999939 ,   -4.80000019, ...,  -28.70000076,\n",
       "          43.59999847,   51.79999924]]), array([[-48.29999924,  -6.        , -69.5       , ...,  66.5       ,\n",
       "         -8.19999981,  17.20000076],\n",
       "       [-43.09999847, -23.5       , -63.40000153, ...,  61.70000076,\n",
       "         -5.69999981,  20.89999962],\n",
       "       [-33.70000076, -28.89999962, -55.59999847, ...,  66.40000153,\n",
       "          1.        ,  26.10000038],\n",
       "       ...,\n",
       "       [ 64.40000153, 867.79998779, 206.5       , ..., 717.59997559,\n",
       "        231.3999939 , 255.        ],\n",
       "       [ 70.80000305, 885.90002441, 209.1000061 , ..., 716.70001221,\n",
       "        240.19999695, 259.5       ],\n",
       "       [ 73.40000153, 894.90002441, 216.8999939 , ..., 714.20001221,\n",
       "        242.3999939 , 263.1000061 ]]), array([[    0, 60000]], dtype=uint16))"
      ]
     },
     "execution_count": 22,
     "metadata": {},
     "output_type": "execute_result"
    }
   ],
   "source": [
    "mat[\"EEG_MI_test\"][0][0]"
   ]
  },
  {
   "cell_type": "code",
   "execution_count": 23,
   "id": "6ea73a9c",
   "metadata": {},
   "outputs": [
    {
     "data": {
      "text/plain": [
       "array([[array(['1'], dtype='<U1'), array(['right'], dtype='<U5')],\n",
       "       [array(['2'], dtype='<U1'), array(['left'], dtype='<U4')]],\n",
       "      dtype=object)"
      ]
     },
     "execution_count": 23,
     "metadata": {},
     "output_type": "execute_result"
    }
   ],
   "source": [
    "data_dict[\"class\"]"
   ]
  },
  {
   "cell_type": "code",
   "execution_count": 24,
   "id": "d51ac0c6",
   "metadata": {},
   "outputs": [
    {
     "data": {
      "text/plain": [
       "array([[1, 0, 1, 1, 1, 1, 0, 0, 0, 1, 0, 1, 0, 0, 0, 0, 0, 0, 1, 0, 1, 1,\n",
       "        1, 0, 1, 1, 0, 1, 1, 0, 1, 1, 1, 0, 1, 0, 1, 1, 1, 0, 0, 0, 0, 1,\n",
       "        1, 0, 0, 0, 0, 0, 1, 0, 0, 0, 1, 0, 0, 0, 1, 0, 1, 0, 1, 1, 0, 1,\n",
       "        0, 1, 0, 1, 0, 0, 1, 1, 0, 1, 1, 1, 1, 0, 0, 1, 0, 0, 0, 0, 1, 1,\n",
       "        1, 0, 1, 1, 0, 1, 1, 1, 0, 1, 1, 0],\n",
       "       [0, 1, 0, 0, 0, 0, 1, 1, 1, 0, 1, 0, 1, 1, 1, 1, 1, 1, 0, 1, 0, 0,\n",
       "        0, 1, 0, 0, 1, 0, 0, 1, 0, 0, 0, 1, 0, 1, 0, 0, 0, 1, 1, 1, 1, 0,\n",
       "        0, 1, 1, 1, 1, 1, 0, 1, 1, 1, 0, 1, 1, 1, 0, 1, 0, 1, 0, 0, 1, 0,\n",
       "        1, 0, 1, 0, 1, 1, 0, 0, 1, 0, 0, 0, 0, 1, 1, 0, 1, 1, 1, 1, 0, 0,\n",
       "        0, 1, 0, 0, 1, 0, 0, 0, 1, 0, 0, 1]], dtype=uint8)"
      ]
     },
     "execution_count": 24,
     "metadata": {},
     "output_type": "execute_result"
    }
   ],
   "source": [
    "# 0 - right\n",
    "# 1 - left\n",
    "data_dict[\"y_logic\"]"
   ]
  },
  {
   "cell_type": "code",
   "execution_count": 25,
   "id": "00219211",
   "metadata": {},
   "outputs": [
    {
     "name": "stdout",
     "output_type": "stream",
     "text": [
      "Creating RawArray with float64 data, n_channels=62, n_times=1418040\n",
      "    Range : 0 ... 1418039 =      0.000 ...  1418.039 secs\n",
      "Ready.\n"
     ]
    }
   ],
   "source": [
    "\n",
    "# Definition of channel types and names.\n",
    "ch_names = data_dict[\"chan\"]\n",
    "n_channels = len(ch_names)\n",
    "ch_types = [\"eeg\"] * n_channels\n",
    "\n",
    "sfreq = data_dict[\"fs\"]\n",
    "data = data_dict[\"x\"].T * 1e-6\n",
    "\n",
    "info = mne.create_info(ch_names=ch_names, sfreq=sfreq, ch_types=ch_types)\n",
    "\n",
    "# Numpy array of size  channels x times\n",
    "raw = mne.io.RawArray(data, info)\n",
    "\n",
    "# Scaling of the figure.\n",
    "# For actual EEG/MEG data different scaling factors should be used.\n",
    "# scalings = {'eeg': 1e6}\n",
    "\n",
    "# It is also possible to auto-compute scalings\n",
    "# scalings = 'auto'  # Could also pass a dictionary with some value == 'auto'\n"
   ]
  },
  {
   "cell_type": "code",
   "execution_count": 26,
   "id": "3ec5b204",
   "metadata": {},
   "outputs": [
    {
     "name": "stdout",
     "output_type": "stream",
     "text": [
      "Not setting metadata\n",
      "100 matching events found\n",
      "No baseline correction applied\n",
      "0 projection items activated\n"
     ]
    }
   ],
   "source": [
    "n_events = len(data_dict[\"t\"])\n",
    "events = np.zeros((n_events, 3))\n",
    "events[:, 0] = data_dict[\"t\"]\n",
    "events[:, 2] = data_dict[\"y_logic\"][0]\n",
    "events = events.astype(np.uint64)\n",
    "\n",
    "epochs = mne.Epochs(\n",
    "    raw,\n",
    "    events,\n",
    "    event_repeated=\"drop\",\n",
    "#     reject_by_annotation=True,\n",
    "    tmin=-2,\n",
    "    tmax=6,\n",
    "    reject=None,\n",
    "    baseline=None,\n",
    "    # proj=False\n",
    ")"
   ]
  },
  {
   "cell_type": "code",
   "execution_count": 27,
   "id": "17eca89b",
   "metadata": {},
   "outputs": [
    {
     "name": "stdout",
     "output_type": "stream",
     "text": [
      "Using data from preloaded Raw for 100 events and 8001 original time points ...\n",
      "0 bad epochs dropped\n"
     ]
    },
    {
     "data": {
      "text/plain": [
       "(100, 62, 8001)"
      ]
     },
     "execution_count": 27,
     "metadata": {},
     "output_type": "execute_result"
    }
   ],
   "source": [
    "epochs_data = epochs.get_data()\n",
    "epochs_data.shape"
   ]
  },
  {
   "cell_type": "code",
   "execution_count": 28,
   "id": "a0ecdf4a",
   "metadata": {},
   "outputs": [
    {
     "data": {
      "image/png": "[encoded data removed]",
      "text/plain": [
       "<Figure size 936x288 with 3 Axes>"
      ]
     },
     "metadata": {
      "needs_background": "light"
     },
     "output_type": "display_data"
    }
   ],
   "source": [
    "\n",
    "fig, (ax1, ax2, ax3) = plt.subplots(1, 3, figsize=(13, 4))\n",
    "ax1.plot(data_dict[\"smt\"][:, 0, 0])\n",
    "ax2.plot(data_dict[\"x\"][198717:198717 + 4000, 0])\n",
    "ax3.plot(epochs_data[0, 0, 2000:6000])\n",
    "\n",
    "ax1.set_title(\"From 'smt' (epoched data)\")\n",
    "ax2.set_title(\"From 'x' (full data)\")\n",
    "ax3.set_title(\"From user-created epochs\")\n",
    "\n",
    "plt.tight_layout()\n",
    "plt.show()\n"
   ]
  },
  {
   "cell_type": "code",
   "execution_count": 4,
   "id": "bdd8ee3c",
   "metadata": {},
   "outputs": [],
   "source": [
    "import shutil\n",
    "\n",
    "# raw.export(\"raw.edf\")"
   ]
  },
  {
   "cell_type": "code",
   "execution_count": null,
   "id": "42e6d461",
   "metadata": {},
   "outputs": [],
   "source": [
    "!ls -lha raw.edf"
   ]
  },
  {
   "cell_type": "code",
   "execution_count": null,
   "id": "7d9d8dd0",
   "metadata": {},
   "outputs": [],
   "source": [
    "shutil.rmtree(\"raw.edf\")"
   ]
  },
  {
   "cell_type": "code",
   "execution_count": 29,
   "id": "74e9239d",
   "metadata": {},
   "outputs": [],
   "source": [
    "del raw, epochs"
   ]
  },
  {
   "cell_type": "code",
   "execution_count": 3,
   "id": "04fb3672",
   "metadata": {},
   "outputs": [],
   "source": [
    "def mat_dict_to_raw(mat_dict, labels, **info_kwargs):\n",
    "    # Definition of channel types and names.\n",
    "    ch_names = mat_dict[\"chan\"]\n",
    "    n_channels = len(ch_names)\n",
    "    ch_types = [\"eeg\"] * n_channels\n",
    "\n",
    "    sfreq = mat_dict[\"fs\"]\n",
    "    data = mat_dict[\"x\"].T * 1e-6\n",
    "\n",
    "    info = mne.create_info(ch_names=ch_names, sfreq=sfreq, ch_types=ch_types)\n",
    "    \n",
    "    # [TODO] Check if changing info highpass/lowpass alters the data from raw.get_data\n",
    "    with info._unlock():\n",
    "        info.update(**info_kwargs)\n",
    "    # Numpy array of size  channels x times\n",
    "    raw = mne.io.RawArray(data, info)\n",
    "    \n",
    "    n_events = len(mat_dict[\"t\"])\n",
    "    events = np.zeros((n_events, 3))\n",
    "    events[:, 0] = mat_dict[\"t\"]\n",
    "    events[:, 2] = labels\n",
    "    events = events.astype(np.uint64)\n",
    "    \n",
    "    annotations = mne.annotations_from_events(events, sfreq)\n",
    "    raw = raw.set_annotations(annotations)\n",
    "    # Scaling of the figure.\n",
    "    # For actual EEG/MEG data different scaling factors should be used.\n",
    "    # scalings = {'eeg': 1e6}\n",
    "\n",
    "    # It is also possible to auto-compute scalings\n",
    "    # scalings = 'auto'  # Could also pass a dictionary with some value == 'auto'\n",
    "\n",
    "    return raw\n",
    "\n",
    "def raw_to_epochs(raw, tmin=-2, tmax=6):\n",
    "\n",
    "    events, _ = mne.events_from_annotations(raw)\n",
    "    epochs = mne.Epochs(\n",
    "        raw,\n",
    "        events,\n",
    "        event_repeated=\"drop\",\n",
    "        tmin=-2,\n",
    "        tmax=6,\n",
    "        reject=None,\n",
    "        baseline=None,\n",
    "    )\n",
    "\n",
    "def load_mat_as_raw(input_filepath):\n",
    "    \n",
    "    mat = loadmat(input_filepath)\n",
    "    \n",
    "    train_data_dict = mat_to_dict(mat[\"EEG_MI_train\"])\n",
    "    test_data_dict = mat_to_dict(mat[\"EEG_MI_test\"])\n",
    "    \n",
    "    # Filter valus from paper\n",
    "    train_raw = mat_dict_to_raw(train_data_dict, train_data_dict[\"y_logic\"][0], lowpass=40., highpass=.5)\n",
    "    test_raw = mat_dict_to_raw(test_data_dict, test_data_dict[\"y_logic\"][1], lowpass=40., highpass=.5)\n",
    "    \n",
    "    return train_raw, test_raw\n",
    "\n",
    "def load_mat_as_epochs(input_filepath, **epochs_kwargs):\n",
    "    train_raw, test_raw = load_mat_as_raw(input_filepath)\n",
    "    train_epochs = raw_to_epochs(train_raw, **epochs_kwargs)\n",
    "    test_epochs = raw_to_epochs(test_raw, **epochs_kwargs)\n",
    "    return train_epochs, test_epochs\n",
    "\n",
    "def mat_to_edf(input_filepath, output_filepaths, overwrite=False):\n",
    "    assert len(output_filepaths) == 2\n",
    "    \n",
    "    train_output_filepath, test_output_filepath = output_filepaths\n",
    "    \n",
    "    train_raw, test_raw = load_mat_as_raw(input_filepath)\n",
    "    train_raw.export(train_output_filepath, overwrite=overwrite)\n",
    "    test_raw.export(test_output_filepath, overwrite=overwrite)\n",
    "    "
   ]
  },
  {
   "cell_type": "code",
   "execution_count": 6,
   "id": "fa059a27",
   "metadata": {},
   "outputs": [
    {
     "name": "stdout",
     "output_type": "stream",
     "text": [
      "Creating RawArray with float64 data, n_channels=62, n_times=1418040\n",
      "    Range : 0 ... 1418039 =      0.000 ...  1418.039 secs\n",
      "Ready.\n",
      "Creating RawArray with float64 data, n_channels=62, n_times=1418040\n",
      "    Range : 0 ... 1418039 =      0.000 ...  1418.039 secs\n",
      "Ready.\n"
     ]
    },
    {
     "name": "stderr",
     "output_type": "stream",
     "text": [
      "/tmp/ipykernel_281602/2259024578.py:69: RuntimeWarning: EDF format requires equal-length data blocks, so 0.96 seconds of zeros were appended to all channels when writing the final block.\n",
      "  train_raw.export(train_output_filepath)\n",
      "/tmp/ipykernel_281602/2259024578.py:70: RuntimeWarning: EDF format requires equal-length data blocks, so 0.96 seconds of zeros were appended to all channels when writing the final block.\n",
      "  test_raw.export(test_output_filepath)\n"
     ]
    }
   ],
   "source": [
    "filepath = Path(\"/home/paulo/Documents/datasets/OpenBMI/sess01_subj01_EEG_MI.mat\")\n",
    "\n",
    "mat_to_edf(filepath, (\"sample_train.edf\", \"sample_test.edf\"))"
   ]
  },
  {
   "cell_type": "code",
   "execution_count": 7,
   "id": "eeafe30c",
   "metadata": {},
   "outputs": [
    {
     "name": "stdout",
     "output_type": "stream",
     "text": [
      "Extracting EDF parameters from /home/paulo/Documents/GIT/BCI_MsC/notebooks/sample_train.edf...\n",
      "EDF file detected\n",
      "Setting channel info structure...\n",
      "Creating raw.info structure...\n"
     ]
    },
    {
     "data": {
      "text/html": [
       "<table class=\"table table-hover table-striped table-sm table-responsive small\">\n",
       "    <tr>\n",
       "        <th>Measurement date</th>\n",
       "        \n",
       "        <td>July 29, 2022  00:25:55 GMT</td>\n",
       "        \n",
       "    </tr>\n",
       "    <tr>\n",
       "        <th>Experimenter</th>\n",
       "        \n",
       "        <td>Unknown</td>\n",
       "        \n",
       "    </tr>\n",
       "        <th>Participant</th>\n",
       "        \n",
       "        <td>Unknown</td>\n",
       "        \n",
       "    </tr>\n",
       "    <tr>\n",
       "        <th>Digitized points</th>\n",
       "        \n",
       "        <td>0 points</td>\n",
       "        \n",
       "    </tr>\n",
       "    <tr>\n",
       "        <th>Good channels</th>\n",
       "        <td>62 EEG</td>\n",
       "    </tr>\n",
       "    <tr>\n",
       "        <th>Bad channels</th>\n",
       "        <td>None</td>\n",
       "    </tr>\n",
       "    <tr>\n",
       "        <th>EOG channels</th>\n",
       "        <td>Not available</td>\n",
       "    </tr>\n",
       "    <tr>\n",
       "        <th>ECG channels</th>\n",
       "        <td>Not available</td>\n",
       "    \n",
       "    <tr>\n",
       "        <th>Sampling frequency</th>\n",
       "        <td>1000.00 Hz</td>\n",
       "    </tr>\n",
       "    \n",
       "    \n",
       "    <tr>\n",
       "        <th>Highpass</th>\n",
       "        <td>0.00 Hz</td>\n",
       "    </tr>\n",
       "    \n",
       "    \n",
       "    <tr>\n",
       "        <th>Lowpass</th>\n",
       "        <td>500.00 Hz</td>\n",
       "    </tr>\n",
       "    \n",
       "    \n",
       "    \n",
       "    <tr>\n",
       "        <th>Filenames</th>\n",
       "        <td>sample_train.edf</td>\n",
       "    </tr>\n",
       "    \n",
       "    <tr>\n",
       "        <th>Duration</th>\n",
       "        <td>00:23:38 (HH:MM:SS)</td>\n",
       "    </tr>\n",
       "</table>"
      ],
      "text/plain": [
       "<RawEDF | sample_train.edf, 62 x 1419000 (1419.0 s), ~63 kB, data not loaded>"
      ]
     },
     "execution_count": 7,
     "metadata": {},
     "output_type": "execute_result"
    }
   ],
   "source": [
    "edf = mne.io.read_raw_edf(\"sample_train.edf\")\n",
    "edf"
   ]
  },
  {
   "cell_type": "code",
   "execution_count": 4,
   "id": "d2e01ddc",
   "metadata": {},
   "outputs": [
    {
     "name": "stdout",
     "output_type": "stream",
     "text": [
      "Writing to (PosixPath('/home/paulo/Documents/datasets/OpenBMI/edf/session1/51_train.edf'), PosixPath('/home/paulo/Documents/datasets/OpenBMI/edf/session1/51_test.edf'))\n",
      "Creating RawArray with float64 data, n_channels=62, n_times=1434680\n",
      "    Range : 0 ... 1434679 =      0.000 ...  1434.679 secs\n",
      "Ready.\n",
      "Creating RawArray with float64 data, n_channels=62, n_times=1579480\n",
      "    Range : 0 ... 1579479 =      0.000 ...  1579.479 secs\n",
      "Ready.\n",
      "Overwriting existing file.\n"
     ]
    },
    {
     "name": "stderr",
     "output_type": "stream",
     "text": [
      "/tmp/ipykernel_383656/3899056146.py:73: RuntimeWarning: EDF format requires equal-length data blocks, so 0.32 seconds of zeros were appended to all channels when writing the final block.\n",
      "  train_raw.export(train_output_filepath, overwrite=overwrite)\n"
     ]
    },
    {
     "name": "stdout",
     "output_type": "stream",
     "text": [
      "Overwriting existing file.\n"
     ]
    },
    {
     "name": "stderr",
     "output_type": "stream",
     "text": [
      "/tmp/ipykernel_383656/3899056146.py:74: RuntimeWarning: EDF format requires equal-length data blocks, so 0.52 seconds of zeros were appended to all channels when writing the final block.\n",
      "  test_raw.export(test_output_filepath, overwrite=overwrite)\n"
     ]
    },
    {
     "name": "stdout",
     "output_type": "stream",
     "text": [
      "Writing to (PosixPath('/home/paulo/Documents/datasets/OpenBMI/edf/session2/31_train.edf'), PosixPath('/home/paulo/Documents/datasets/OpenBMI/edf/session2/31_test.edf'))\n",
      "Creating RawArray with float64 data, n_channels=62, n_times=1359160\n",
      "    Range : 0 ... 1359159 =      0.000 ...  1359.159 secs\n",
      "Ready.\n",
      "Creating RawArray with float64 data, n_channels=62, n_times=1613320\n",
      "    Range : 0 ... 1613319 =      0.000 ...  1613.319 secs\n",
      "Ready.\n",
      "Overwriting existing file.\n"
     ]
    },
    {
     "name": "stderr",
     "output_type": "stream",
     "text": [
      "/tmp/ipykernel_383656/3899056146.py:73: RuntimeWarning: EDF format requires equal-length data blocks, so 0.84 seconds of zeros were appended to all channels when writing the final block.\n",
      "  train_raw.export(train_output_filepath, overwrite=overwrite)\n"
     ]
    },
    {
     "name": "stdout",
     "output_type": "stream",
     "text": [
      "Overwriting existing file.\n"
     ]
    },
    {
     "name": "stderr",
     "output_type": "stream",
     "text": [
      "/tmp/ipykernel_383656/3899056146.py:74: RuntimeWarning: EDF format requires equal-length data blocks, so 0.68 seconds of zeros were appended to all channels when writing the final block.\n",
      "  test_raw.export(test_output_filepath, overwrite=overwrite)\n"
     ]
    },
    {
     "name": "stdout",
     "output_type": "stream",
     "text": [
      "Writing to (PosixPath('/home/paulo/Documents/datasets/OpenBMI/edf/session1/14_train.edf'), PosixPath('/home/paulo/Documents/datasets/OpenBMI/edf/session1/14_test.edf'))\n",
      "Creating RawArray with float64 data, n_channels=62, n_times=1443360\n",
      "    Range : 0 ... 1443359 =      0.000 ...  1443.359 secs\n",
      "Ready.\n",
      "Creating RawArray with float64 data, n_channels=62, n_times=1602720\n",
      "    Range : 0 ... 1602719 =      0.000 ...  1602.719 secs\n",
      "Ready.\n",
      "Overwriting existing file.\n"
     ]
    },
    {
     "name": "stderr",
     "output_type": "stream",
     "text": [
      "/tmp/ipykernel_383656/3899056146.py:73: RuntimeWarning: EDF format requires equal-length data blocks, so 0.64 seconds of zeros were appended to all channels when writing the final block.\n",
      "  train_raw.export(train_output_filepath, overwrite=overwrite)\n"
     ]
    },
    {
     "name": "stdout",
     "output_type": "stream",
     "text": [
      "Overwriting existing file.\n"
     ]
    },
    {
     "name": "stderr",
     "output_type": "stream",
     "text": [
      "/tmp/ipykernel_383656/3899056146.py:74: RuntimeWarning: EDF format requires equal-length data blocks, so 0.28 seconds of zeros were appended to all channels when writing the final block.\n",
      "  test_raw.export(test_output_filepath, overwrite=overwrite)\n"
     ]
    },
    {
     "name": "stdout",
     "output_type": "stream",
     "text": [
      "Writing to (PosixPath('/home/paulo/Documents/datasets/OpenBMI/edf/session2/10_train.edf'), PosixPath('/home/paulo/Documents/datasets/OpenBMI/edf/session2/10_test.edf'))\n",
      "Creating RawArray with float64 data, n_channels=62, n_times=1474280\n",
      "    Range : 0 ... 1474279 =      0.000 ...  1474.279 secs\n",
      "Ready.\n",
      "Creating RawArray with float64 data, n_channels=62, n_times=1626560\n",
      "    Range : 0 ... 1626559 =      0.000 ...  1626.559 secs\n",
      "Ready.\n",
      "Overwriting existing file.\n",
      "Overwriting existing file.\n"
     ]
    },
    {
     "name": "stderr",
     "output_type": "stream",
     "text": [
      "/tmp/ipykernel_383656/3899056146.py:73: RuntimeWarning: EDF format requires equal-length data blocks, so 0.72 seconds of zeros were appended to all channels when writing the final block.\n",
      "  train_raw.export(train_output_filepath, overwrite=overwrite)\n",
      "/tmp/ipykernel_383656/3899056146.py:74: RuntimeWarning: EDF format requires equal-length data blocks, so 0.44 seconds of zeros were appended to all channels when writing the final block.\n",
      "  test_raw.export(test_output_filepath, overwrite=overwrite)\n"
     ]
    },
    {
     "name": "stdout",
     "output_type": "stream",
     "text": [
      "Writing to (PosixPath('/home/paulo/Documents/datasets/OpenBMI/edf/session1/35_train.edf'), PosixPath('/home/paulo/Documents/datasets/OpenBMI/edf/session1/35_test.edf'))\n",
      "Creating RawArray with float64 data, n_channels=62, n_times=1349880\n",
      "    Range : 0 ... 1349879 =      0.000 ...  1349.879 secs\n",
      "Ready.\n",
      "Creating RawArray with float64 data, n_channels=62, n_times=1561080\n",
      "    Range : 0 ... 1561079 =      0.000 ...  1561.079 secs\n",
      "Ready.\n",
      "Overwriting existing file.\n"
     ]
    },
    {
     "name": "stderr",
     "output_type": "stream",
     "text": [
      "/tmp/ipykernel_383656/3899056146.py:73: RuntimeWarning: EDF format requires equal-length data blocks, so 0.12 seconds of zeros were appended to all channels when writing the final block.\n",
      "  train_raw.export(train_output_filepath, overwrite=overwrite)\n"
     ]
    },
    {
     "name": "stdout",
     "output_type": "stream",
     "text": [
      "Overwriting existing file.\n"
     ]
    },
    {
     "name": "stderr",
     "output_type": "stream",
     "text": [
      "/tmp/ipykernel_383656/3899056146.py:74: RuntimeWarning: EDF format requires equal-length data blocks, so 0.92 seconds of zeros were appended to all channels when writing the final block.\n",
      "  test_raw.export(test_output_filepath, overwrite=overwrite)\n"
     ]
    },
    {
     "name": "stdout",
     "output_type": "stream",
     "text": [
      "Writing to (PosixPath('/home/paulo/Documents/datasets/OpenBMI/edf/session2/47_train.edf'), PosixPath('/home/paulo/Documents/datasets/OpenBMI/edf/session2/47_test.edf'))\n",
      "Creating RawArray with float64 data, n_channels=62, n_times=1347000\n",
      "    Range : 0 ... 1346999 =      0.000 ...  1346.999 secs\n",
      "Ready.\n",
      "Creating RawArray with float64 data, n_channels=62, n_times=1545880\n",
      "    Range : 0 ... 1545879 =      0.000 ...  1545.879 secs\n",
      "Ready.\n",
      "Overwriting existing file.\n",
      "Overwriting existing file.\n"
     ]
    },
    {
     "name": "stderr",
     "output_type": "stream",
     "text": [
      "/tmp/ipykernel_383656/3899056146.py:74: RuntimeWarning: EDF format requires equal-length data blocks, so 0.12 seconds of zeros were appended to all channels when writing the final block.\n",
      "  test_raw.export(test_output_filepath, overwrite=overwrite)\n"
     ]
    },
    {
     "name": "stdout",
     "output_type": "stream",
     "text": [
      "Writing to (PosixPath('/home/paulo/Documents/datasets/OpenBMI/edf/session1/50_train.edf'), PosixPath('/home/paulo/Documents/datasets/OpenBMI/edf/session1/50_test.edf'))\n",
      "Creating RawArray with float64 data, n_channels=62, n_times=1403840\n",
      "    Range : 0 ... 1403839 =      0.000 ...  1403.839 secs\n",
      "Ready.\n",
      "Creating RawArray with float64 data, n_channels=62, n_times=1553560\n",
      "    Range : 0 ... 1553559 =      0.000 ...  1553.559 secs\n",
      "Ready.\n",
      "Overwriting existing file.\n"
     ]
    },
    {
     "name": "stderr",
     "output_type": "stream",
     "text": [
      "/tmp/ipykernel_383656/3899056146.py:73: RuntimeWarning: EDF format requires equal-length data blocks, so 0.16 seconds of zeros were appended to all channels when writing the final block.\n",
      "  train_raw.export(train_output_filepath, overwrite=overwrite)\n"
     ]
    },
    {
     "name": "stdout",
     "output_type": "stream",
     "text": [
      "Overwriting existing file.\n"
     ]
    },
    {
     "name": "stderr",
     "output_type": "stream",
     "text": [
      "/tmp/ipykernel_383656/3899056146.py:74: RuntimeWarning: EDF format requires equal-length data blocks, so 0.44 seconds of zeros were appended to all channels when writing the final block.\n",
      "  test_raw.export(test_output_filepath, overwrite=overwrite)\n"
     ]
    },
    {
     "name": "stdout",
     "output_type": "stream",
     "text": [
      "Writing to (PosixPath('/home/paulo/Documents/datasets/OpenBMI/edf/session2/26_train.edf'), PosixPath('/home/paulo/Documents/datasets/OpenBMI/edf/session2/26_test.edf'))\n",
      "Creating RawArray with float64 data, n_channels=62, n_times=1525600\n",
      "    Range : 0 ... 1525599 =      0.000 ...  1525.599 secs\n",
      "Ready.\n",
      "Creating RawArray with float64 data, n_channels=62, n_times=1569600\n",
      "    Range : 0 ... 1569599 =      0.000 ...  1569.599 secs\n",
      "Ready.\n",
      "Overwriting existing file.\n",
      "Overwriting existing file.\n"
     ]
    },
    {
     "name": "stderr",
     "output_type": "stream",
     "text": [
      "/tmp/ipykernel_383656/3899056146.py:73: RuntimeWarning: EDF format requires equal-length data blocks, so 0.4 seconds of zeros were appended to all channels when writing the final block.\n",
      "  train_raw.export(train_output_filepath, overwrite=overwrite)\n",
      "/tmp/ipykernel_383656/3899056146.py:74: RuntimeWarning: EDF format requires equal-length data blocks, so 0.4 seconds of zeros were appended to all channels when writing the final block.\n",
      "  test_raw.export(test_output_filepath, overwrite=overwrite)\n"
     ]
    },
    {
     "name": "stdout",
     "output_type": "stream",
     "text": [
      "Writing to (PosixPath('/home/paulo/Documents/datasets/OpenBMI/edf/session1/19_train.edf'), PosixPath('/home/paulo/Documents/datasets/OpenBMI/edf/session1/19_test.edf'))\n",
      "Creating RawArray with float64 data, n_channels=62, n_times=1354080\n",
      "    Range : 0 ... 1354079 =      0.000 ...  1354.079 secs\n",
      "Ready.\n",
      "Creating RawArray with float64 data, n_channels=62, n_times=1546720\n",
      "    Range : 0 ... 1546719 =      0.000 ...  1546.719 secs\n",
      "Ready.\n",
      "Overwriting existing file.\n",
      "Overwriting existing file.\n"
     ]
    },
    {
     "name": "stderr",
     "output_type": "stream",
     "text": [
      "/tmp/ipykernel_383656/3899056146.py:73: RuntimeWarning: EDF format requires equal-length data blocks, so 0.92 seconds of zeros were appended to all channels when writing the final block.\n",
      "  train_raw.export(train_output_filepath, overwrite=overwrite)\n",
      "/tmp/ipykernel_383656/3899056146.py:74: RuntimeWarning: EDF format requires equal-length data blocks, so 0.28 seconds of zeros were appended to all channels when writing the final block.\n",
      "  test_raw.export(test_output_filepath, overwrite=overwrite)\n"
     ]
    },
    {
     "name": "stdout",
     "output_type": "stream",
     "text": [
      "Writing to (PosixPath('/home/paulo/Documents/datasets/OpenBMI/edf/session1/22_train.edf'), PosixPath('/home/paulo/Documents/datasets/OpenBMI/edf/session1/22_test.edf'))\n",
      "Creating RawArray with float64 data, n_channels=62, n_times=1344080\n",
      "    Range : 0 ... 1344079 =      0.000 ...  1344.079 secs\n",
      "Ready.\n",
      "Creating RawArray with float64 data, n_channels=62, n_times=1532720\n",
      "    Range : 0 ... 1532719 =      0.000 ...  1532.719 secs\n",
      "Ready.\n",
      "Overwriting existing file.\n",
      "Overwriting existing file.\n"
     ]
    },
    {
     "name": "stderr",
     "output_type": "stream",
     "text": [
      "/tmp/ipykernel_383656/3899056146.py:73: RuntimeWarning: EDF format requires equal-length data blocks, so 0.92 seconds of zeros were appended to all channels when writing the final block.\n",
      "  train_raw.export(train_output_filepath, overwrite=overwrite)\n",
      "/tmp/ipykernel_383656/3899056146.py:74: RuntimeWarning: EDF format requires equal-length data blocks, so 0.28 seconds of zeros were appended to all channels when writing the final block.\n",
      "  test_raw.export(test_output_filepath, overwrite=overwrite)\n"
     ]
    },
    {
     "name": "stdout",
     "output_type": "stream",
     "text": [
      "Writing to (PosixPath('/home/paulo/Documents/datasets/OpenBMI/edf/session1/25_train.edf'), PosixPath('/home/paulo/Documents/datasets/OpenBMI/edf/session1/25_test.edf'))\n",
      "Creating RawArray with float64 data, n_channels=62, n_times=1349360\n",
      "    Range : 0 ... 1349359 =      0.000 ...  1349.359 secs\n",
      "Ready.\n",
      "Creating RawArray with float64 data, n_channels=62, n_times=1545080\n",
      "    Range : 0 ... 1545079 =      0.000 ...  1545.079 secs\n",
      "Ready.\n",
      "Overwriting existing file.\n",
      "Overwriting existing file.\n"
     ]
    },
    {
     "name": "stderr",
     "output_type": "stream",
     "text": [
      "/tmp/ipykernel_383656/3899056146.py:73: RuntimeWarning: EDF format requires equal-length data blocks, so 0.64 seconds of zeros were appended to all channels when writing the final block.\n",
      "  train_raw.export(train_output_filepath, overwrite=overwrite)\n",
      "/tmp/ipykernel_383656/3899056146.py:74: RuntimeWarning: EDF format requires equal-length data blocks, so 0.92 seconds of zeros were appended to all channels when writing the final block.\n",
      "  test_raw.export(test_output_filepath, overwrite=overwrite)\n"
     ]
    },
    {
     "name": "stdout",
     "output_type": "stream",
     "text": [
      "Writing to (PosixPath('/home/paulo/Documents/datasets/OpenBMI/edf/session2/7_train.edf'), PosixPath('/home/paulo/Documents/datasets/OpenBMI/edf/session2/7_test.edf'))\n",
      "Creating RawArray with float64 data, n_channels=62, n_times=1386640\n",
      "    Range : 0 ... 1386639 =      0.000 ...  1386.639 secs\n",
      "Ready.\n",
      "Creating RawArray with float64 data, n_channels=62, n_times=1603640\n",
      "    Range : 0 ... 1603639 =      0.000 ...  1603.639 secs\n",
      "Ready.\n",
      "Overwriting existing file.\n"
     ]
    },
    {
     "name": "stderr",
     "output_type": "stream",
     "text": [
      "/tmp/ipykernel_383656/3899056146.py:73: RuntimeWarning: EDF format requires equal-length data blocks, so 0.36 seconds of zeros were appended to all channels when writing the final block.\n",
      "  train_raw.export(train_output_filepath, overwrite=overwrite)\n"
     ]
    },
    {
     "name": "stdout",
     "output_type": "stream",
     "text": [
      "Overwriting existing file.\n"
     ]
    },
    {
     "name": "stderr",
     "output_type": "stream",
     "text": [
      "/tmp/ipykernel_383656/3899056146.py:74: RuntimeWarning: EDF format requires equal-length data blocks, so 0.36 seconds of zeros were appended to all channels when writing the final block.\n",
      "  test_raw.export(test_output_filepath, overwrite=overwrite)\n"
     ]
    },
    {
     "name": "stdout",
     "output_type": "stream",
     "text": [
      "Writing to (PosixPath('/home/paulo/Documents/datasets/OpenBMI/edf/session1/39_train.edf'), PosixPath('/home/paulo/Documents/datasets/OpenBMI/edf/session1/39_test.edf'))\n",
      "Creating RawArray with float64 data, n_channels=62, n_times=1446320\n",
      "    Range : 0 ... 1446319 =      0.000 ...  1446.319 secs\n",
      "Ready.\n",
      "Creating RawArray with float64 data, n_channels=62, n_times=1654160\n",
      "    Range : 0 ... 1654159 =      0.000 ...  1654.159 secs\n",
      "Ready.\n",
      "Overwriting existing file.\n",
      "Overwriting existing file.\n"
     ]
    },
    {
     "name": "stderr",
     "output_type": "stream",
     "text": [
      "/tmp/ipykernel_383656/3899056146.py:73: RuntimeWarning: EDF format requires equal-length data blocks, so 0.68 seconds of zeros were appended to all channels when writing the final block.\n",
      "  train_raw.export(train_output_filepath, overwrite=overwrite)\n",
      "/tmp/ipykernel_383656/3899056146.py:74: RuntimeWarning: EDF format requires equal-length data blocks, so 0.84 seconds of zeros were appended to all channels when writing the final block.\n",
      "  test_raw.export(test_output_filepath, overwrite=overwrite)\n"
     ]
    },
    {
     "name": "stdout",
     "output_type": "stream",
     "text": [
      "Writing to (PosixPath('/home/paulo/Documents/datasets/OpenBMI/edf/session1/43_train.edf'), PosixPath('/home/paulo/Documents/datasets/OpenBMI/edf/session1/43_test.edf'))\n",
      "Creating RawArray with float64 data, n_channels=62, n_times=1582800\n",
      "    Range : 0 ... 1582799 =      0.000 ...  1582.799 secs\n",
      "Ready.\n",
      "Creating RawArray with float64 data, n_channels=62, n_times=1669600\n",
      "    Range : 0 ... 1669599 =      0.000 ...  1669.599 secs\n",
      "Ready.\n",
      "Overwriting existing file.\n",
      "Overwriting existing file.\n"
     ]
    },
    {
     "name": "stderr",
     "output_type": "stream",
     "text": [
      "/tmp/ipykernel_383656/3899056146.py:73: RuntimeWarning: EDF format requires equal-length data blocks, so 0.2 seconds of zeros were appended to all channels when writing the final block.\n",
      "  train_raw.export(train_output_filepath, overwrite=overwrite)\n",
      "/tmp/ipykernel_383656/3899056146.py:74: RuntimeWarning: EDF format requires equal-length data blocks, so 0.4 seconds of zeros were appended to all channels when writing the final block.\n",
      "  test_raw.export(test_output_filepath, overwrite=overwrite)\n"
     ]
    },
    {
     "name": "stdout",
     "output_type": "stream",
     "text": [
      "Writing to (PosixPath('/home/paulo/Documents/datasets/OpenBMI/edf/session2/5_train.edf'), PosixPath('/home/paulo/Documents/datasets/OpenBMI/edf/session2/5_test.edf'))\n",
      "Creating RawArray with float64 data, n_channels=62, n_times=1430040\n",
      "    Range : 0 ... 1430039 =      0.000 ...  1430.039 secs\n",
      "Ready.\n",
      "Creating RawArray with float64 data, n_channels=62, n_times=1618440\n",
      "    Range : 0 ... 1618439 =      0.000 ...  1618.439 secs\n",
      "Ready.\n",
      "Overwriting existing file.\n"
     ]
    },
    {
     "name": "stderr",
     "output_type": "stream",
     "text": [
      "/tmp/ipykernel_383656/3899056146.py:73: RuntimeWarning: EDF format requires equal-length data blocks, so 0.96 seconds of zeros were appended to all channels when writing the final block.\n",
      "  train_raw.export(train_output_filepath, overwrite=overwrite)\n"
     ]
    },
    {
     "name": "stdout",
     "output_type": "stream",
     "text": [
      "Overwriting existing file.\n"
     ]
    },
    {
     "name": "stderr",
     "output_type": "stream",
     "text": [
      "/tmp/ipykernel_383656/3899056146.py:74: RuntimeWarning: EDF format requires equal-length data blocks, so 0.56 seconds of zeros were appended to all channels when writing the final block.\n",
      "  test_raw.export(test_output_filepath, overwrite=overwrite)\n"
     ]
    },
    {
     "name": "stdout",
     "output_type": "stream",
     "text": [
      "Writing to (PosixPath('/home/paulo/Documents/datasets/OpenBMI/edf/session2/54_train.edf'), PosixPath('/home/paulo/Documents/datasets/OpenBMI/edf/session2/54_test.edf'))\n",
      "Creating RawArray with float64 data, n_channels=62, n_times=1544920\n",
      "    Range : 0 ... 1544919 =      0.000 ...  1544.919 secs\n",
      "Ready.\n",
      "Creating RawArray with float64 data, n_channels=62, n_times=1751840\n",
      "    Range : 0 ... 1751839 =      0.000 ...  1751.839 secs\n",
      "Ready.\n",
      "Overwriting existing file.\n"
     ]
    },
    {
     "name": "stderr",
     "output_type": "stream",
     "text": [
      "/tmp/ipykernel_383656/3899056146.py:73: RuntimeWarning: EDF format requires equal-length data blocks, so 0.08 seconds of zeros were appended to all channels when writing the final block.\n",
      "  train_raw.export(train_output_filepath, overwrite=overwrite)\n"
     ]
    },
    {
     "name": "stdout",
     "output_type": "stream",
     "text": [
      "Overwriting existing file.\n"
     ]
    },
    {
     "name": "stderr",
     "output_type": "stream",
     "text": [
      "/tmp/ipykernel_383656/3899056146.py:74: RuntimeWarning: EDF format requires equal-length data blocks, so 0.16 seconds of zeros were appended to all channels when writing the final block.\n",
      "  test_raw.export(test_output_filepath, overwrite=overwrite)\n"
     ]
    },
    {
     "name": "stdout",
     "output_type": "stream",
     "text": [
      "Writing to (PosixPath('/home/paulo/Documents/datasets/OpenBMI/edf/session2/51_train.edf'), PosixPath('/home/paulo/Documents/datasets/OpenBMI/edf/session2/51_test.edf'))\n",
      "Creating RawArray with float64 data, n_channels=62, n_times=1470520\n",
      "    Range : 0 ... 1470519 =      0.000 ...  1470.519 secs\n",
      "Ready.\n",
      "Creating RawArray with float64 data, n_channels=62, n_times=1622040\n",
      "    Range : 0 ... 1622039 =      0.000 ...  1622.039 secs\n",
      "Ready.\n",
      "Overwriting existing file.\n",
      "Overwriting existing file.\n"
     ]
    },
    {
     "name": "stderr",
     "output_type": "stream",
     "text": [
      "/tmp/ipykernel_383656/3899056146.py:73: RuntimeWarning: EDF format requires equal-length data blocks, so 0.48 seconds of zeros were appended to all channels when writing the final block.\n",
      "  train_raw.export(train_output_filepath, overwrite=overwrite)\n",
      "/tmp/ipykernel_383656/3899056146.py:74: RuntimeWarning: EDF format requires equal-length data blocks, so 0.96 seconds of zeros were appended to all channels when writing the final block.\n",
      "  test_raw.export(test_output_filepath, overwrite=overwrite)\n"
     ]
    },
    {
     "name": "stdout",
     "output_type": "stream",
     "text": [
      "Writing to (PosixPath('/home/paulo/Documents/datasets/OpenBMI/edf/session1/36_train.edf'), PosixPath('/home/paulo/Documents/datasets/OpenBMI/edf/session1/36_test.edf'))\n",
      "Creating RawArray with float64 data, n_channels=62, n_times=1349760\n",
      "    Range : 0 ... 1349759 =      0.000 ...  1349.759 secs\n",
      "Ready.\n",
      "Creating RawArray with float64 data, n_channels=62, n_times=1544120\n",
      "    Range : 0 ... 1544119 =      0.000 ...  1544.119 secs\n",
      "Ready.\n",
      "Overwriting existing file.\n",
      "Overwriting existing file.\n"
     ]
    },
    {
     "name": "stderr",
     "output_type": "stream",
     "text": [
      "/tmp/ipykernel_383656/3899056146.py:73: RuntimeWarning: EDF format requires equal-length data blocks, so 0.24 seconds of zeros were appended to all channels when writing the final block.\n",
      "  train_raw.export(train_output_filepath, overwrite=overwrite)\n",
      "/tmp/ipykernel_383656/3899056146.py:74: RuntimeWarning: EDF format requires equal-length data blocks, so 0.88 seconds of zeros were appended to all channels when writing the final block.\n",
      "  test_raw.export(test_output_filepath, overwrite=overwrite)\n"
     ]
    },
    {
     "name": "stdout",
     "output_type": "stream",
     "text": [
      "Writing to (PosixPath('/home/paulo/Documents/datasets/OpenBMI/edf/session2/17_train.edf'), PosixPath('/home/paulo/Documents/datasets/OpenBMI/edf/session2/17_test.edf'))\n",
      "Creating RawArray with float64 data, n_channels=62, n_times=1580080\n",
      "    Range : 0 ... 1580079 =      0.000 ...  1580.079 secs\n",
      "Ready.\n",
      "Creating RawArray with float64 data, n_channels=62, n_times=1622560\n",
      "    Range : 0 ... 1622559 =      0.000 ...  1622.559 secs\n",
      "Ready.\n",
      "Overwriting existing file.\n"
     ]
    },
    {
     "name": "stderr",
     "output_type": "stream",
     "text": [
      "/tmp/ipykernel_383656/3899056146.py:73: RuntimeWarning: EDF format requires equal-length data blocks, so 0.92 seconds of zeros were appended to all channels when writing the final block.\n",
      "  train_raw.export(train_output_filepath, overwrite=overwrite)\n"
     ]
    },
    {
     "name": "stdout",
     "output_type": "stream",
     "text": [
      "Overwriting existing file.\n"
     ]
    },
    {
     "name": "stderr",
     "output_type": "stream",
     "text": [
      "/tmp/ipykernel_383656/3899056146.py:74: RuntimeWarning: EDF format requires equal-length data blocks, so 0.44 seconds of zeros were appended to all channels when writing the final block.\n",
      "  test_raw.export(test_output_filepath, overwrite=overwrite)\n"
     ]
    },
    {
     "name": "stdout",
     "output_type": "stream",
     "text": [
      "Writing to (PosixPath('/home/paulo/Documents/datasets/OpenBMI/edf/session1/5_train.edf'), PosixPath('/home/paulo/Documents/datasets/OpenBMI/edf/session1/5_test.edf'))\n",
      "Creating RawArray with float64 data, n_channels=62, n_times=1424680\n",
      "    Range : 0 ... 1424679 =      0.000 ...  1424.679 secs\n",
      "Ready.\n",
      "Creating RawArray with float64 data, n_channels=62, n_times=1614440\n",
      "    Range : 0 ... 1614439 =      0.000 ...  1614.439 secs\n",
      "Ready.\n",
      "Overwriting existing file.\n",
      "Overwriting existing file.\n"
     ]
    },
    {
     "name": "stderr",
     "output_type": "stream",
     "text": [
      "/tmp/ipykernel_383656/3899056146.py:73: RuntimeWarning: EDF format requires equal-length data blocks, so 0.32 seconds of zeros were appended to all channels when writing the final block.\n",
      "  train_raw.export(train_output_filepath, overwrite=overwrite)\n",
      "/tmp/ipykernel_383656/3899056146.py:74: RuntimeWarning: EDF format requires equal-length data blocks, so 0.56 seconds of zeros were appended to all channels when writing the final block.\n",
      "  test_raw.export(test_output_filepath, overwrite=overwrite)\n"
     ]
    },
    {
     "name": "stdout",
     "output_type": "stream",
     "text": [
      "Writing to (PosixPath('/home/paulo/Documents/datasets/OpenBMI/edf/session1/37_train.edf'), PosixPath('/home/paulo/Documents/datasets/OpenBMI/edf/session1/37_test.edf'))\n",
      "Creating RawArray with float64 data, n_channels=62, n_times=1445920\n",
      "    Range : 0 ... 1445919 =      0.000 ...  1445.919 secs\n",
      "Ready.\n",
      "Creating RawArray with float64 data, n_channels=62, n_times=1598080\n",
      "    Range : 0 ... 1598079 =      0.000 ...  1598.079 secs\n",
      "Ready.\n",
      "Overwriting existing file.\n"
     ]
    },
    {
     "name": "stderr",
     "output_type": "stream",
     "text": [
      "/tmp/ipykernel_383656/3899056146.py:73: RuntimeWarning: EDF format requires equal-length data blocks, so 0.08 seconds of zeros were appended to all channels when writing the final block.\n",
      "  train_raw.export(train_output_filepath, overwrite=overwrite)\n"
     ]
    },
    {
     "name": "stdout",
     "output_type": "stream",
     "text": [
      "Overwriting existing file.\n"
     ]
    },
    {
     "name": "stderr",
     "output_type": "stream",
     "text": [
      "/tmp/ipykernel_383656/3899056146.py:74: RuntimeWarning: EDF format requires equal-length data blocks, so 0.92 seconds of zeros were appended to all channels when writing the final block.\n",
      "  test_raw.export(test_output_filepath, overwrite=overwrite)\n"
     ]
    },
    {
     "name": "stdout",
     "output_type": "stream",
     "text": [
      "Writing to (PosixPath('/home/paulo/Documents/datasets/OpenBMI/edf/session1/20_train.edf'), PosixPath('/home/paulo/Documents/datasets/OpenBMI/edf/session1/20_test.edf'))\n",
      "Creating RawArray with float64 data, n_channels=62, n_times=1459120\n",
      "    Range : 0 ... 1459119 =      0.000 ...  1459.119 secs\n",
      "Ready.\n",
      "Creating RawArray with float64 data, n_channels=62, n_times=1608640\n",
      "    Range : 0 ... 1608639 =      0.000 ...  1608.639 secs\n",
      "Ready.\n",
      "Overwriting existing file.\n",
      "Overwriting existing file.\n"
     ]
    },
    {
     "name": "stderr",
     "output_type": "stream",
     "text": [
      "/tmp/ipykernel_383656/3899056146.py:73: RuntimeWarning: EDF format requires equal-length data blocks, so 0.88 seconds of zeros were appended to all channels when writing the final block.\n",
      "  train_raw.export(train_output_filepath, overwrite=overwrite)\n",
      "/tmp/ipykernel_383656/3899056146.py:74: RuntimeWarning: EDF format requires equal-length data blocks, so 0.36 seconds of zeros were appended to all channels when writing the final block.\n",
      "  test_raw.export(test_output_filepath, overwrite=overwrite)\n"
     ]
    },
    {
     "name": "stdout",
     "output_type": "stream",
     "text": [
      "Writing to (PosixPath('/home/paulo/Documents/datasets/OpenBMI/edf/session2/34_train.edf'), PosixPath('/home/paulo/Documents/datasets/OpenBMI/edf/session2/34_test.edf'))\n",
      "Creating RawArray with float64 data, n_channels=62, n_times=1375880\n",
      "    Range : 0 ... 1375879 =      0.000 ...  1375.879 secs\n",
      "Ready.\n",
      "Creating RawArray with float64 data, n_channels=62, n_times=1546200\n",
      "    Range : 0 ... 1546199 =      0.000 ...  1546.199 secs\n",
      "Ready.\n",
      "Overwriting existing file.\n"
     ]
    },
    {
     "name": "stderr",
     "output_type": "stream",
     "text": [
      "/tmp/ipykernel_383656/3899056146.py:73: RuntimeWarning: EDF format requires equal-length data blocks, so 0.12 seconds of zeros were appended to all channels when writing the final block.\n",
      "  train_raw.export(train_output_filepath, overwrite=overwrite)\n"
     ]
    },
    {
     "name": "stdout",
     "output_type": "stream",
     "text": [
      "Overwriting existing file.\n"
     ]
    },
    {
     "name": "stderr",
     "output_type": "stream",
     "text": [
      "/tmp/ipykernel_383656/3899056146.py:74: RuntimeWarning: EDF format requires equal-length data blocks, so 0.8 seconds of zeros were appended to all channels when writing the final block.\n",
      "  test_raw.export(test_output_filepath, overwrite=overwrite)\n"
     ]
    },
    {
     "name": "stdout",
     "output_type": "stream",
     "text": [
      "Writing to (PosixPath('/home/paulo/Documents/datasets/OpenBMI/edf/session2/52_train.edf'), PosixPath('/home/paulo/Documents/datasets/OpenBMI/edf/session2/52_test.edf'))\n",
      "Creating RawArray with float64 data, n_channels=62, n_times=1356880\n",
      "    Range : 0 ... 1356879 =      0.000 ...  1356.879 secs\n",
      "Ready.\n",
      "Creating RawArray with float64 data, n_channels=62, n_times=1579000\n",
      "    Range : 0 ... 1578999 =      0.000 ...  1578.999 secs\n",
      "Ready.\n",
      "Overwriting existing file.\n",
      "Overwriting existing file.\n"
     ]
    },
    {
     "name": "stderr",
     "output_type": "stream",
     "text": [
      "/tmp/ipykernel_383656/3899056146.py:73: RuntimeWarning: EDF format requires equal-length data blocks, so 0.12 seconds of zeros were appended to all channels when writing the final block.\n",
      "  train_raw.export(train_output_filepath, overwrite=overwrite)\n"
     ]
    },
    {
     "name": "stdout",
     "output_type": "stream",
     "text": [
      "Writing to (PosixPath('/home/paulo/Documents/datasets/OpenBMI/edf/session2/11_train.edf'), PosixPath('/home/paulo/Documents/datasets/OpenBMI/edf/session2/11_test.edf'))\n",
      "Creating RawArray with float64 data, n_channels=62, n_times=1353360\n",
      "    Range : 0 ... 1353359 =      0.000 ...  1353.359 secs\n",
      "Ready.\n",
      "Creating RawArray with float64 data, n_channels=62, n_times=1574480\n",
      "    Range : 0 ... 1574479 =      0.000 ...  1574.479 secs\n",
      "Ready.\n",
      "Overwriting existing file.\n"
     ]
    },
    {
     "name": "stderr",
     "output_type": "stream",
     "text": [
      "/tmp/ipykernel_383656/3899056146.py:73: RuntimeWarning: EDF format requires equal-length data blocks, so 0.64 seconds of zeros were appended to all channels when writing the final block.\n",
      "  train_raw.export(train_output_filepath, overwrite=overwrite)\n"
     ]
    },
    {
     "name": "stdout",
     "output_type": "stream",
     "text": [
      "Overwriting existing file.\n"
     ]
    },
    {
     "name": "stderr",
     "output_type": "stream",
     "text": [
      "/tmp/ipykernel_383656/3899056146.py:74: RuntimeWarning: EDF format requires equal-length data blocks, so 0.52 seconds of zeros were appended to all channels when writing the final block.\n",
      "  test_raw.export(test_output_filepath, overwrite=overwrite)\n"
     ]
    },
    {
     "name": "stdout",
     "output_type": "stream",
     "text": [
      "Writing to (PosixPath('/home/paulo/Documents/datasets/OpenBMI/edf/session2/18_train.edf'), PosixPath('/home/paulo/Documents/datasets/OpenBMI/edf/session2/18_test.edf'))\n",
      "Creating RawArray with float64 data, n_channels=62, n_times=1367000\n",
      "    Range : 0 ... 1366999 =      0.000 ...  1366.999 secs\n",
      "Ready.\n",
      "Creating RawArray with float64 data, n_channels=62, n_times=1573240\n",
      "    Range : 0 ... 1573239 =      0.000 ...  1573.239 secs\n",
      "Ready.\n",
      "Overwriting existing file.\n",
      "Overwriting existing file.\n"
     ]
    },
    {
     "name": "stderr",
     "output_type": "stream",
     "text": [
      "/tmp/ipykernel_383656/3899056146.py:74: RuntimeWarning: EDF format requires equal-length data blocks, so 0.76 seconds of zeros were appended to all channels when writing the final block.\n",
      "  test_raw.export(test_output_filepath, overwrite=overwrite)\n"
     ]
    },
    {
     "name": "stdout",
     "output_type": "stream",
     "text": [
      "Writing to (PosixPath('/home/paulo/Documents/datasets/OpenBMI/edf/session1/16_train.edf'), PosixPath('/home/paulo/Documents/datasets/OpenBMI/edf/session1/16_test.edf'))\n",
      "Creating RawArray with float64 data, n_channels=62, n_times=1341680\n",
      "    Range : 0 ... 1341679 =      0.000 ...  1341.679 secs\n",
      "Ready.\n",
      "Creating RawArray with float64 data, n_channels=62, n_times=1582480\n",
      "    Range : 0 ... 1582479 =      0.000 ...  1582.479 secs\n",
      "Ready.\n",
      "Overwriting existing file.\n",
      "Overwriting existing file.\n"
     ]
    },
    {
     "name": "stderr",
     "output_type": "stream",
     "text": [
      "/tmp/ipykernel_383656/3899056146.py:73: RuntimeWarning: EDF format requires equal-length data blocks, so 0.32 seconds of zeros were appended to all channels when writing the final block.\n",
      "  train_raw.export(train_output_filepath, overwrite=overwrite)\n",
      "/tmp/ipykernel_383656/3899056146.py:74: RuntimeWarning: EDF format requires equal-length data blocks, so 0.52 seconds of zeros were appended to all channels when writing the final block.\n",
      "  test_raw.export(test_output_filepath, overwrite=overwrite)\n"
     ]
    },
    {
     "name": "stdout",
     "output_type": "stream",
     "text": [
      "Writing to (PosixPath('/home/paulo/Documents/datasets/OpenBMI/edf/session2/35_train.edf'), PosixPath('/home/paulo/Documents/datasets/OpenBMI/edf/session2/35_test.edf'))\n",
      "Creating RawArray with float64 data, n_channels=62, n_times=1382880\n",
      "    Range : 0 ... 1382879 =      0.000 ...  1382.879 secs\n",
      "Ready.\n",
      "Creating RawArray with float64 data, n_channels=62, n_times=1559040\n",
      "    Range : 0 ... 1559039 =      0.000 ...  1559.039 secs\n",
      "Ready.\n",
      "Overwriting existing file.\n",
      "Overwriting existing file.\n"
     ]
    },
    {
     "name": "stderr",
     "output_type": "stream",
     "text": [
      "/tmp/ipykernel_383656/3899056146.py:73: RuntimeWarning: EDF format requires equal-length data blocks, so 0.12 seconds of zeros were appended to all channels when writing the final block.\n",
      "  train_raw.export(train_output_filepath, overwrite=overwrite)\n",
      "/tmp/ipykernel_383656/3899056146.py:74: RuntimeWarning: EDF format requires equal-length data blocks, so 0.96 seconds of zeros were appended to all channels when writing the final block.\n",
      "  test_raw.export(test_output_filepath, overwrite=overwrite)\n"
     ]
    },
    {
     "name": "stdout",
     "output_type": "stream",
     "text": [
      "Writing to (PosixPath('/home/paulo/Documents/datasets/OpenBMI/edf/session2/14_train.edf'), PosixPath('/home/paulo/Documents/datasets/OpenBMI/edf/session2/14_test.edf'))\n",
      "Creating RawArray with float64 data, n_channels=62, n_times=1373880\n",
      "    Range : 0 ... 1373879 =      0.000 ...  1373.879 secs\n",
      "Ready.\n",
      "Creating RawArray with float64 data, n_channels=62, n_times=1579560\n",
      "    Range : 0 ... 1579559 =      0.000 ...  1579.559 secs\n",
      "Ready.\n",
      "Overwriting existing file.\n",
      "Overwriting existing file.\n"
     ]
    },
    {
     "name": "stderr",
     "output_type": "stream",
     "text": [
      "/tmp/ipykernel_383656/3899056146.py:73: RuntimeWarning: EDF format requires equal-length data blocks, so 0.12 seconds of zeros were appended to all channels when writing the final block.\n",
      "  train_raw.export(train_output_filepath, overwrite=overwrite)\n",
      "/tmp/ipykernel_383656/3899056146.py:74: RuntimeWarning: EDF format requires equal-length data blocks, so 0.44 seconds of zeros were appended to all channels when writing the final block.\n",
      "  test_raw.export(test_output_filepath, overwrite=overwrite)\n"
     ]
    },
    {
     "name": "stdout",
     "output_type": "stream",
     "text": [
      "Writing to (PosixPath('/home/paulo/Documents/datasets/OpenBMI/edf/session1/45_train.edf'), PosixPath('/home/paulo/Documents/datasets/OpenBMI/edf/session1/45_test.edf'))\n",
      "Creating RawArray with float64 data, n_channels=62, n_times=1788480\n",
      "    Range : 0 ... 1788479 =      0.000 ...  1788.479 secs\n",
      "Ready.\n",
      "Creating RawArray with float64 data, n_channels=62, n_times=1672120\n",
      "    Range : 0 ... 1672119 =      0.000 ...  1672.119 secs\n",
      "Ready.\n",
      "Overwriting existing file.\n"
     ]
    },
    {
     "name": "stderr",
     "output_type": "stream",
     "text": [
      "/tmp/ipykernel_383656/3899056146.py:73: RuntimeWarning: EDF format requires equal-length data blocks, so 0.52 seconds of zeros were appended to all channels when writing the final block.\n",
      "  train_raw.export(train_output_filepath, overwrite=overwrite)\n"
     ]
    },
    {
     "name": "stdout",
     "output_type": "stream",
     "text": [
      "Overwriting existing file.\n"
     ]
    },
    {
     "name": "stderr",
     "output_type": "stream",
     "text": [
      "/tmp/ipykernel_383656/3899056146.py:74: RuntimeWarning: EDF format requires equal-length data blocks, so 0.88 seconds of zeros were appended to all channels when writing the final block.\n",
      "  test_raw.export(test_output_filepath, overwrite=overwrite)\n"
     ]
    },
    {
     "name": "stdout",
     "output_type": "stream",
     "text": [
      "Writing to (PosixPath('/home/paulo/Documents/datasets/OpenBMI/edf/session1/40_train.edf'), PosixPath('/home/paulo/Documents/datasets/OpenBMI/edf/session1/40_test.edf'))\n",
      "Creating RawArray with float64 data, n_channels=62, n_times=1439360\n",
      "    Range : 0 ... 1439359 =      0.000 ...  1439.359 secs\n",
      "Ready.\n",
      "Creating RawArray with float64 data, n_channels=62, n_times=1698040\n",
      "    Range : 0 ... 1698039 =      0.000 ...  1698.039 secs\n",
      "Ready.\n",
      "Overwriting existing file.\n"
     ]
    },
    {
     "name": "stderr",
     "output_type": "stream",
     "text": [
      "/tmp/ipykernel_383656/3899056146.py:73: RuntimeWarning: EDF format requires equal-length data blocks, so 0.64 seconds of zeros were appended to all channels when writing the final block.\n",
      "  train_raw.export(train_output_filepath, overwrite=overwrite)\n"
     ]
    },
    {
     "name": "stdout",
     "output_type": "stream",
     "text": [
      "Overwriting existing file.\n"
     ]
    },
    {
     "name": "stderr",
     "output_type": "stream",
     "text": [
      "/tmp/ipykernel_383656/3899056146.py:74: RuntimeWarning: EDF format requires equal-length data blocks, so 0.96 seconds of zeros were appended to all channels when writing the final block.\n",
      "  test_raw.export(test_output_filepath, overwrite=overwrite)\n"
     ]
    },
    {
     "name": "stdout",
     "output_type": "stream",
     "text": [
      "Writing to (PosixPath('/home/paulo/Documents/datasets/OpenBMI/edf/session2/30_train.edf'), PosixPath('/home/paulo/Documents/datasets/OpenBMI/edf/session2/30_test.edf'))\n",
      "Creating RawArray with float64 data, n_channels=62, n_times=1411760\n",
      "    Range : 0 ... 1411759 =      0.000 ...  1411.759 secs\n",
      "Ready.\n",
      "Creating RawArray with float64 data, n_channels=62, n_times=1676640\n",
      "    Range : 0 ... 1676639 =      0.000 ...  1676.639 secs\n",
      "Ready.\n",
      "Overwriting existing file.\n",
      "Overwriting existing file.\n"
     ]
    },
    {
     "name": "stderr",
     "output_type": "stream",
     "text": [
      "/tmp/ipykernel_383656/3899056146.py:73: RuntimeWarning: EDF format requires equal-length data blocks, so 0.24 seconds of zeros were appended to all channels when writing the final block.\n",
      "  train_raw.export(train_output_filepath, overwrite=overwrite)\n",
      "/tmp/ipykernel_383656/3899056146.py:74: RuntimeWarning: EDF format requires equal-length data blocks, so 0.36 seconds of zeros were appended to all channels when writing the final block.\n",
      "  test_raw.export(test_output_filepath, overwrite=overwrite)\n"
     ]
    },
    {
     "name": "stdout",
     "output_type": "stream",
     "text": [
      "Writing to (PosixPath('/home/paulo/Documents/datasets/OpenBMI/edf/session2/9_train.edf'), PosixPath('/home/paulo/Documents/datasets/OpenBMI/edf/session2/9_test.edf'))\n",
      "Creating RawArray with float64 data, n_channels=62, n_times=1362880\n",
      "    Range : 0 ... 1362879 =      0.000 ...  1362.879 secs\n",
      "Ready.\n",
      "Creating RawArray with float64 data, n_channels=62, n_times=1540760\n",
      "    Range : 0 ... 1540759 =      0.000 ...  1540.759 secs\n",
      "Ready.\n",
      "Overwriting existing file.\n"
     ]
    },
    {
     "name": "stderr",
     "output_type": "stream",
     "text": [
      "/tmp/ipykernel_383656/3899056146.py:73: RuntimeWarning: EDF format requires equal-length data blocks, so 0.12 seconds of zeros were appended to all channels when writing the final block.\n",
      "  train_raw.export(train_output_filepath, overwrite=overwrite)\n"
     ]
    },
    {
     "name": "stdout",
     "output_type": "stream",
     "text": [
      "Overwriting existing file.\n"
     ]
    },
    {
     "name": "stderr",
     "output_type": "stream",
     "text": [
      "/tmp/ipykernel_383656/3899056146.py:74: RuntimeWarning: EDF format requires equal-length data blocks, so 0.24 seconds of zeros were appended to all channels when writing the final block.\n",
      "  test_raw.export(test_output_filepath, overwrite=overwrite)\n"
     ]
    },
    {
     "name": "stdout",
     "output_type": "stream",
     "text": [
      "Writing to (PosixPath('/home/paulo/Documents/datasets/OpenBMI/edf/session1/3_train.edf'), PosixPath('/home/paulo/Documents/datasets/OpenBMI/edf/session1/3_test.edf'))\n",
      "Creating RawArray with float64 data, n_channels=62, n_times=1341200\n",
      "    Range : 0 ... 1341199 =      0.000 ...  1341.199 secs\n",
      "Ready.\n",
      "Creating RawArray with float64 data, n_channels=62, n_times=1545960\n",
      "    Range : 0 ... 1545959 =      0.000 ...  1545.959 secs\n",
      "Ready.\n",
      "Overwriting existing file.\n",
      "Overwriting existing file.\n"
     ]
    },
    {
     "name": "stderr",
     "output_type": "stream",
     "text": [
      "/tmp/ipykernel_383656/3899056146.py:73: RuntimeWarning: EDF format requires equal-length data blocks, so 0.8 seconds of zeros were appended to all channels when writing the final block.\n",
      "  train_raw.export(train_output_filepath, overwrite=overwrite)\n",
      "/tmp/ipykernel_383656/3899056146.py:74: RuntimeWarning: EDF format requires equal-length data blocks, so 0.04 seconds of zeros were appended to all channels when writing the final block.\n",
      "  test_raw.export(test_output_filepath, overwrite=overwrite)\n"
     ]
    },
    {
     "name": "stdout",
     "output_type": "stream",
     "text": [
      "Writing to (PosixPath('/home/paulo/Documents/datasets/OpenBMI/edf/session1/53_train.edf'), PosixPath('/home/paulo/Documents/datasets/OpenBMI/edf/session1/53_test.edf'))\n",
      "Creating RawArray with float64 data, n_channels=62, n_times=1367400\n",
      "    Range : 0 ... 1367399 =      0.000 ...  1367.399 secs\n",
      "Ready.\n",
      "Creating RawArray with float64 data, n_channels=62, n_times=1577040\n",
      "    Range : 0 ... 1577039 =      0.000 ...  1577.039 secs\n",
      "Ready.\n",
      "Overwriting existing file.\n",
      "Overwriting existing file.\n"
     ]
    },
    {
     "name": "stderr",
     "output_type": "stream",
     "text": [
      "/tmp/ipykernel_383656/3899056146.py:73: RuntimeWarning: EDF format requires equal-length data blocks, so 0.6 seconds of zeros were appended to all channels when writing the final block.\n",
      "  train_raw.export(train_output_filepath, overwrite=overwrite)\n",
      "/tmp/ipykernel_383656/3899056146.py:74: RuntimeWarning: EDF format requires equal-length data blocks, so 0.96 seconds of zeros were appended to all channels when writing the final block.\n",
      "  test_raw.export(test_output_filepath, overwrite=overwrite)\n"
     ]
    },
    {
     "name": "stdout",
     "output_type": "stream",
     "text": [
      "Writing to (PosixPath('/home/paulo/Documents/datasets/OpenBMI/edf/session1/17_train.edf'), PosixPath('/home/paulo/Documents/datasets/OpenBMI/edf/session1/17_test.edf'))\n",
      "Creating RawArray with float64 data, n_channels=62, n_times=1404160\n",
      "    Range : 0 ... 1404159 =      0.000 ...  1404.159 secs\n",
      "Ready.\n",
      "Creating RawArray with float64 data, n_channels=62, n_times=1636720\n",
      "    Range : 0 ... 1636719 =      0.000 ...  1636.719 secs\n",
      "Ready.\n",
      "Overwriting existing file.\n",
      "Overwriting existing file.\n"
     ]
    },
    {
     "name": "stderr",
     "output_type": "stream",
     "text": [
      "/tmp/ipykernel_383656/3899056146.py:73: RuntimeWarning: EDF format requires equal-length data blocks, so 0.84 seconds of zeros were appended to all channels when writing the final block.\n",
      "  train_raw.export(train_output_filepath, overwrite=overwrite)\n",
      "/tmp/ipykernel_383656/3899056146.py:74: RuntimeWarning: EDF format requires equal-length data blocks, so 0.28 seconds of zeros were appended to all channels when writing the final block.\n",
      "  test_raw.export(test_output_filepath, overwrite=overwrite)\n"
     ]
    },
    {
     "name": "stdout",
     "output_type": "stream",
     "text": [
      "Writing to (PosixPath('/home/paulo/Documents/datasets/OpenBMI/edf/session1/10_train.edf'), PosixPath('/home/paulo/Documents/datasets/OpenBMI/edf/session1/10_test.edf'))\n",
      "Creating RawArray with float64 data, n_channels=62, n_times=1521880\n",
      "    Range : 0 ... 1521879 =      0.000 ...  1521.879 secs\n",
      "Ready.\n",
      "Creating RawArray with float64 data, n_channels=62, n_times=1711200\n",
      "    Range : 0 ... 1711199 =      0.000 ...  1711.199 secs\n",
      "Ready.\n",
      "Overwriting existing file.\n"
     ]
    },
    {
     "name": "stderr",
     "output_type": "stream",
     "text": [
      "/tmp/ipykernel_383656/3899056146.py:73: RuntimeWarning: EDF format requires equal-length data blocks, so 0.12 seconds of zeros were appended to all channels when writing the final block.\n",
      "  train_raw.export(train_output_filepath, overwrite=overwrite)\n"
     ]
    },
    {
     "name": "stdout",
     "output_type": "stream",
     "text": [
      "Overwriting existing file.\n"
     ]
    },
    {
     "name": "stderr",
     "output_type": "stream",
     "text": [
      "/tmp/ipykernel_383656/3899056146.py:74: RuntimeWarning: EDF format requires equal-length data blocks, so 0.8 seconds of zeros were appended to all channels when writing the final block.\n",
      "  test_raw.export(test_output_filepath, overwrite=overwrite)\n"
     ]
    },
    {
     "name": "stdout",
     "output_type": "stream",
     "text": [
      "Writing to (PosixPath('/home/paulo/Documents/datasets/OpenBMI/edf/session2/20_train.edf'), PosixPath('/home/paulo/Documents/datasets/OpenBMI/edf/session2/20_test.edf'))\n",
      "Creating RawArray with float64 data, n_channels=62, n_times=1335600\n",
      "    Range : 0 ... 1335599 =      0.000 ...  1335.599 secs\n",
      "Ready.\n",
      "Creating RawArray with float64 data, n_channels=62, n_times=1552120\n",
      "    Range : 0 ... 1552119 =      0.000 ...  1552.119 secs\n",
      "Ready.\n",
      "Overwriting existing file.\n"
     ]
    },
    {
     "name": "stderr",
     "output_type": "stream",
     "text": [
      "/tmp/ipykernel_383656/3899056146.py:73: RuntimeWarning: EDF format requires equal-length data blocks, so 0.4 seconds of zeros were appended to all channels when writing the final block.\n",
      "  train_raw.export(train_output_filepath, overwrite=overwrite)\n"
     ]
    },
    {
     "name": "stdout",
     "output_type": "stream",
     "text": [
      "Overwriting existing file.\n"
     ]
    },
    {
     "name": "stderr",
     "output_type": "stream",
     "text": [
      "/tmp/ipykernel_383656/3899056146.py:74: RuntimeWarning: EDF format requires equal-length data blocks, so 0.88 seconds of zeros were appended to all channels when writing the final block.\n",
      "  test_raw.export(test_output_filepath, overwrite=overwrite)\n"
     ]
    },
    {
     "name": "stdout",
     "output_type": "stream",
     "text": [
      "Writing to (PosixPath('/home/paulo/Documents/datasets/OpenBMI/edf/session2/49_train.edf'), PosixPath('/home/paulo/Documents/datasets/OpenBMI/edf/session2/49_test.edf'))\n",
      "Creating RawArray with float64 data, n_channels=62, n_times=1382440\n",
      "    Range : 0 ... 1382439 =      0.000 ...  1382.439 secs\n",
      "Ready.\n",
      "Creating RawArray with float64 data, n_channels=62, n_times=1563520\n",
      "    Range : 0 ... 1563519 =      0.000 ...  1563.519 secs\n",
      "Ready.\n",
      "Overwriting existing file.\n"
     ]
    },
    {
     "name": "stderr",
     "output_type": "stream",
     "text": [
      "/tmp/ipykernel_383656/3899056146.py:73: RuntimeWarning: EDF format requires equal-length data blocks, so 0.56 seconds of zeros were appended to all channels when writing the final block.\n",
      "  train_raw.export(train_output_filepath, overwrite=overwrite)\n"
     ]
    },
    {
     "name": "stdout",
     "output_type": "stream",
     "text": [
      "Overwriting existing file.\n"
     ]
    },
    {
     "name": "stderr",
     "output_type": "stream",
     "text": [
      "/tmp/ipykernel_383656/3899056146.py:74: RuntimeWarning: EDF format requires equal-length data blocks, so 0.48 seconds of zeros were appended to all channels when writing the final block.\n",
      "  test_raw.export(test_output_filepath, overwrite=overwrite)\n"
     ]
    },
    {
     "name": "stdout",
     "output_type": "stream",
     "text": [
      "Writing to (PosixPath('/home/paulo/Documents/datasets/OpenBMI/edf/session1/46_train.edf'), PosixPath('/home/paulo/Documents/datasets/OpenBMI/edf/session1/46_test.edf'))\n",
      "Creating RawArray with float64 data, n_channels=62, n_times=1555560\n",
      "    Range : 0 ... 1555559 =      0.000 ...  1555.559 secs\n",
      "Ready.\n",
      "Creating RawArray with float64 data, n_channels=62, n_times=1569120\n",
      "    Range : 0 ... 1569119 =      0.000 ...  1569.119 secs\n",
      "Ready.\n",
      "Overwriting existing file.\n",
      "Overwriting existing file.\n"
     ]
    },
    {
     "name": "stderr",
     "output_type": "stream",
     "text": [
      "/tmp/ipykernel_383656/3899056146.py:73: RuntimeWarning: EDF format requires equal-length data blocks, so 0.44 seconds of zeros were appended to all channels when writing the final block.\n",
      "  train_raw.export(train_output_filepath, overwrite=overwrite)\n",
      "/tmp/ipykernel_383656/3899056146.py:74: RuntimeWarning: EDF format requires equal-length data blocks, so 0.88 seconds of zeros were appended to all channels when writing the final block.\n",
      "  test_raw.export(test_output_filepath, overwrite=overwrite)\n"
     ]
    },
    {
     "name": "stdout",
     "output_type": "stream",
     "text": [
      "Writing to (PosixPath('/home/paulo/Documents/datasets/OpenBMI/edf/session1/27_train.edf'), PosixPath('/home/paulo/Documents/datasets/OpenBMI/edf/session1/27_test.edf'))\n",
      "Creating RawArray with float64 data, n_channels=62, n_times=1356560\n",
      "    Range : 0 ... 1356559 =      0.000 ...  1356.559 secs\n",
      "Ready.\n",
      "Creating RawArray with float64 data, n_channels=62, n_times=1696360\n",
      "    Range : 0 ... 1696359 =      0.000 ...  1696.359 secs\n",
      "Ready.\n",
      "Overwriting existing file.\n"
     ]
    },
    {
     "name": "stderr",
     "output_type": "stream",
     "text": [
      "/tmp/ipykernel_383656/3899056146.py:73: RuntimeWarning: EDF format requires equal-length data blocks, so 0.44 seconds of zeros were appended to all channels when writing the final block.\n",
      "  train_raw.export(train_output_filepath, overwrite=overwrite)\n"
     ]
    },
    {
     "name": "stdout",
     "output_type": "stream",
     "text": [
      "Overwriting existing file.\n"
     ]
    },
    {
     "name": "stderr",
     "output_type": "stream",
     "text": [
      "/tmp/ipykernel_383656/3899056146.py:74: RuntimeWarning: EDF format requires equal-length data blocks, so 0.64 seconds of zeros were appended to all channels when writing the final block.\n",
      "  test_raw.export(test_output_filepath, overwrite=overwrite)\n"
     ]
    },
    {
     "name": "stdout",
     "output_type": "stream",
     "text": [
      "Writing to (PosixPath('/home/paulo/Documents/datasets/OpenBMI/edf/session2/43_train.edf'), PosixPath('/home/paulo/Documents/datasets/OpenBMI/edf/session2/43_test.edf'))\n",
      "Creating RawArray with float64 data, n_channels=62, n_times=1337080\n",
      "    Range : 0 ... 1337079 =      0.000 ...  1337.079 secs\n",
      "Ready.\n",
      "Creating RawArray with float64 data, n_channels=62, n_times=1560480\n",
      "    Range : 0 ... 1560479 =      0.000 ...  1560.479 secs\n",
      "Ready.\n",
      "Overwriting existing file.\n",
      "Overwriting existing file.\n"
     ]
    },
    {
     "name": "stderr",
     "output_type": "stream",
     "text": [
      "/tmp/ipykernel_383656/3899056146.py:73: RuntimeWarning: EDF format requires equal-length data blocks, so 0.92 seconds of zeros were appended to all channels when writing the final block.\n",
      "  train_raw.export(train_output_filepath, overwrite=overwrite)\n",
      "/tmp/ipykernel_383656/3899056146.py:74: RuntimeWarning: EDF format requires equal-length data blocks, so 0.52 seconds of zeros were appended to all channels when writing the final block.\n",
      "  test_raw.export(test_output_filepath, overwrite=overwrite)\n"
     ]
    },
    {
     "name": "stdout",
     "output_type": "stream",
     "text": [
      "Writing to (PosixPath('/home/paulo/Documents/datasets/OpenBMI/edf/session1/9_train.edf'), PosixPath('/home/paulo/Documents/datasets/OpenBMI/edf/session1/9_test.edf'))\n",
      "Creating RawArray with float64 data, n_channels=62, n_times=1624520\n",
      "    Range : 0 ... 1624519 =      0.000 ...  1624.519 secs\n",
      "Ready.\n",
      "Creating RawArray with float64 data, n_channels=62, n_times=1798560\n",
      "    Range : 0 ... 1798559 =      0.000 ...  1798.559 secs\n",
      "Ready.\n",
      "Overwriting existing file.\n"
     ]
    },
    {
     "name": "stderr",
     "output_type": "stream",
     "text": [
      "/tmp/ipykernel_383656/3899056146.py:73: RuntimeWarning: EDF format requires equal-length data blocks, so 0.48 seconds of zeros were appended to all channels when writing the final block.\n",
      "  train_raw.export(train_output_filepath, overwrite=overwrite)\n"
     ]
    },
    {
     "name": "stdout",
     "output_type": "stream",
     "text": [
      "Overwriting existing file.\n"
     ]
    },
    {
     "name": "stderr",
     "output_type": "stream",
     "text": [
      "/tmp/ipykernel_383656/3899056146.py:74: RuntimeWarning: EDF format requires equal-length data blocks, so 0.44 seconds of zeros were appended to all channels when writing the final block.\n",
      "  test_raw.export(test_output_filepath, overwrite=overwrite)\n"
     ]
    },
    {
     "name": "stdout",
     "output_type": "stream",
     "text": [
      "Writing to (PosixPath('/home/paulo/Documents/datasets/OpenBMI/edf/session2/24_train.edf'), PosixPath('/home/paulo/Documents/datasets/OpenBMI/edf/session2/24_test.edf'))\n",
      "Creating RawArray with float64 data, n_channels=62, n_times=1383320\n",
      "    Range : 0 ... 1383319 =      0.000 ...  1383.319 secs\n",
      "Ready.\n",
      "Creating RawArray with float64 data, n_channels=62, n_times=1607320\n",
      "    Range : 0 ... 1607319 =      0.000 ...  1607.319 secs\n",
      "Ready.\n",
      "Overwriting existing file.\n",
      "Overwriting existing file.\n"
     ]
    },
    {
     "name": "stderr",
     "output_type": "stream",
     "text": [
      "/tmp/ipykernel_383656/3899056146.py:73: RuntimeWarning: EDF format requires equal-length data blocks, so 0.68 seconds of zeros were appended to all channels when writing the final block.\n",
      "  train_raw.export(train_output_filepath, overwrite=overwrite)\n",
      "/tmp/ipykernel_383656/3899056146.py:74: RuntimeWarning: EDF format requires equal-length data blocks, so 0.68 seconds of zeros were appended to all channels when writing the final block.\n",
      "  test_raw.export(test_output_filepath, overwrite=overwrite)\n"
     ]
    },
    {
     "name": "stdout",
     "output_type": "stream",
     "text": [
      "Writing to (PosixPath('/home/paulo/Documents/datasets/OpenBMI/edf/session2/23_train.edf'), PosixPath('/home/paulo/Documents/datasets/OpenBMI/edf/session2/23_test.edf'))\n",
      "Creating RawArray with float64 data, n_channels=62, n_times=1381800\n",
      "    Range : 0 ... 1381799 =      0.000 ...  1381.799 secs\n",
      "Ready.\n",
      "Creating RawArray with float64 data, n_channels=62, n_times=1564880\n",
      "    Range : 0 ... 1564879 =      0.000 ...  1564.879 secs\n",
      "Ready.\n",
      "Overwriting existing file.\n"
     ]
    },
    {
     "name": "stderr",
     "output_type": "stream",
     "text": [
      "/tmp/ipykernel_383656/3899056146.py:73: RuntimeWarning: EDF format requires equal-length data blocks, so 0.2 seconds of zeros were appended to all channels when writing the final block.\n",
      "  train_raw.export(train_output_filepath, overwrite=overwrite)\n"
     ]
    },
    {
     "name": "stdout",
     "output_type": "stream",
     "text": [
      "Overwriting existing file.\n"
     ]
    },
    {
     "name": "stderr",
     "output_type": "stream",
     "text": [
      "/tmp/ipykernel_383656/3899056146.py:74: RuntimeWarning: EDF format requires equal-length data blocks, so 0.12 seconds of zeros were appended to all channels when writing the final block.\n",
      "  test_raw.export(test_output_filepath, overwrite=overwrite)\n"
     ]
    },
    {
     "name": "stdout",
     "output_type": "stream",
     "text": [
      "Writing to (PosixPath('/home/paulo/Documents/datasets/OpenBMI/edf/session2/39_train.edf'), PosixPath('/home/paulo/Documents/datasets/OpenBMI/edf/session2/39_test.edf'))\n",
      "Creating RawArray with float64 data, n_channels=62, n_times=1343880\n",
      "    Range : 0 ... 1343879 =      0.000 ...  1343.879 secs\n",
      "Ready.\n",
      "Creating RawArray with float64 data, n_channels=62, n_times=1640000\n",
      "    Range : 0 ... 1639999 =      0.000 ...  1639.999 secs\n",
      "Ready.\n",
      "Overwriting existing file.\n",
      "Overwriting existing file.\n"
     ]
    },
    {
     "name": "stderr",
     "output_type": "stream",
     "text": [
      "/tmp/ipykernel_383656/3899056146.py:73: RuntimeWarning: EDF format requires equal-length data blocks, so 0.12 seconds of zeros were appended to all channels when writing the final block.\n",
      "  train_raw.export(train_output_filepath, overwrite=overwrite)\n"
     ]
    },
    {
     "name": "stdout",
     "output_type": "stream",
     "text": [
      "Writing to (PosixPath('/home/paulo/Documents/datasets/OpenBMI/edf/session1/47_train.edf'), PosixPath('/home/paulo/Documents/datasets/OpenBMI/edf/session1/47_test.edf'))\n",
      "Creating RawArray with float64 data, n_channels=62, n_times=1365040\n",
      "    Range : 0 ... 1365039 =      0.000 ...  1365.039 secs\n",
      "Ready.\n",
      "Creating RawArray with float64 data, n_channels=62, n_times=1895800\n",
      "    Range : 0 ... 1895799 =      0.000 ...  1895.799 secs\n",
      "Ready.\n",
      "Overwriting existing file.\n"
     ]
    },
    {
     "name": "stderr",
     "output_type": "stream",
     "text": [
      "/tmp/ipykernel_383656/3899056146.py:73: RuntimeWarning: EDF format requires equal-length data blocks, so 0.96 seconds of zeros were appended to all channels when writing the final block.\n",
      "  train_raw.export(train_output_filepath, overwrite=overwrite)\n"
     ]
    },
    {
     "name": "stdout",
     "output_type": "stream",
     "text": [
      "Overwriting existing file.\n"
     ]
    },
    {
     "name": "stderr",
     "output_type": "stream",
     "text": [
      "/tmp/ipykernel_383656/3899056146.py:74: RuntimeWarning: EDF format requires equal-length data blocks, so 0.2 seconds of zeros were appended to all channels when writing the final block.\n",
      "  test_raw.export(test_output_filepath, overwrite=overwrite)\n"
     ]
    },
    {
     "name": "stdout",
     "output_type": "stream",
     "text": [
      "Writing to (PosixPath('/home/paulo/Documents/datasets/OpenBMI/edf/session1/52_train.edf'), PosixPath('/home/paulo/Documents/datasets/OpenBMI/edf/session1/52_test.edf'))\n",
      "Creating RawArray with float64 data, n_channels=62, n_times=1695800\n",
      "    Range : 0 ... 1695799 =      0.000 ...  1695.799 secs\n",
      "Ready.\n",
      "Creating RawArray with float64 data, n_channels=62, n_times=1903040\n",
      "    Range : 0 ... 1903039 =      0.000 ...  1903.039 secs\n",
      "Ready.\n",
      "Overwriting existing file.\n"
     ]
    },
    {
     "name": "stderr",
     "output_type": "stream",
     "text": [
      "/tmp/ipykernel_383656/3899056146.py:73: RuntimeWarning: EDF format requires equal-length data blocks, so 0.2 seconds of zeros were appended to all channels when writing the final block.\n",
      "  train_raw.export(train_output_filepath, overwrite=overwrite)\n"
     ]
    },
    {
     "name": "stdout",
     "output_type": "stream",
     "text": [
      "Overwriting existing file.\n"
     ]
    },
    {
     "name": "stderr",
     "output_type": "stream",
     "text": [
      "/tmp/ipykernel_383656/3899056146.py:74: RuntimeWarning: EDF format requires equal-length data blocks, so 0.96 seconds of zeros were appended to all channels when writing the final block.\n",
      "  test_raw.export(test_output_filepath, overwrite=overwrite)\n"
     ]
    },
    {
     "name": "stdout",
     "output_type": "stream",
     "text": [
      "Writing to (PosixPath('/home/paulo/Documents/datasets/OpenBMI/edf/session2/8_train.edf'), PosixPath('/home/paulo/Documents/datasets/OpenBMI/edf/session2/8_test.edf'))\n",
      "Creating RawArray with float64 data, n_channels=62, n_times=1348920\n",
      "    Range : 0 ... 1348919 =      0.000 ...  1348.919 secs\n",
      "Ready.\n",
      "Creating RawArray with float64 data, n_channels=62, n_times=1560520\n",
      "    Range : 0 ... 1560519 =      0.000 ...  1560.519 secs\n",
      "Ready.\n",
      "Overwriting existing file.\n",
      "Overwriting existing file.\n"
     ]
    },
    {
     "name": "stderr",
     "output_type": "stream",
     "text": [
      "/tmp/ipykernel_383656/3899056146.py:73: RuntimeWarning: EDF format requires equal-length data blocks, so 0.08 seconds of zeros were appended to all channels when writing the final block.\n",
      "  train_raw.export(train_output_filepath, overwrite=overwrite)\n",
      "/tmp/ipykernel_383656/3899056146.py:74: RuntimeWarning: EDF format requires equal-length data blocks, so 0.48 seconds of zeros were appended to all channels when writing the final block.\n",
      "  test_raw.export(test_output_filepath, overwrite=overwrite)\n"
     ]
    },
    {
     "name": "stdout",
     "output_type": "stream",
     "text": [
      "Writing to (PosixPath('/home/paulo/Documents/datasets/OpenBMI/edf/session1/6_train.edf'), PosixPath('/home/paulo/Documents/datasets/OpenBMI/edf/session1/6_test.edf'))\n",
      "Creating RawArray with float64 data, n_channels=62, n_times=1464560\n",
      "    Range : 0 ... 1464559 =      0.000 ...  1464.559 secs\n",
      "Ready.\n",
      "Creating RawArray with float64 data, n_channels=62, n_times=1560320\n",
      "    Range : 0 ... 1560319 =      0.000 ...  1560.319 secs\n",
      "Ready.\n",
      "Overwriting existing file.\n"
     ]
    },
    {
     "name": "stderr",
     "output_type": "stream",
     "text": [
      "/tmp/ipykernel_383656/3899056146.py:73: RuntimeWarning: EDF format requires equal-length data blocks, so 0.44 seconds of zeros were appended to all channels when writing the final block.\n",
      "  train_raw.export(train_output_filepath, overwrite=overwrite)\n"
     ]
    },
    {
     "name": "stdout",
     "output_type": "stream",
     "text": [
      "Overwriting existing file.\n"
     ]
    },
    {
     "name": "stderr",
     "output_type": "stream",
     "text": [
      "/tmp/ipykernel_383656/3899056146.py:74: RuntimeWarning: EDF format requires equal-length data blocks, so 0.68 seconds of zeros were appended to all channels when writing the final block.\n",
      "  test_raw.export(test_output_filepath, overwrite=overwrite)\n"
     ]
    },
    {
     "name": "stdout",
     "output_type": "stream",
     "text": [
      "Writing to (PosixPath('/home/paulo/Documents/datasets/OpenBMI/edf/session1/32_train.edf'), PosixPath('/home/paulo/Documents/datasets/OpenBMI/edf/session1/32_test.edf'))\n",
      "Creating RawArray with float64 data, n_channels=62, n_times=1458240\n",
      "    Range : 0 ... 1458239 =      0.000 ...  1458.239 secs\n",
      "Ready.\n",
      "Creating RawArray with float64 data, n_channels=62, n_times=1674440\n",
      "    Range : 0 ... 1674439 =      0.000 ...  1674.439 secs\n",
      "Ready.\n",
      "Overwriting existing file.\n",
      "Overwriting existing file.\n"
     ]
    },
    {
     "name": "stderr",
     "output_type": "stream",
     "text": [
      "/tmp/ipykernel_383656/3899056146.py:73: RuntimeWarning: EDF format requires equal-length data blocks, so 0.76 seconds of zeros were appended to all channels when writing the final block.\n",
      "  train_raw.export(train_output_filepath, overwrite=overwrite)\n",
      "/tmp/ipykernel_383656/3899056146.py:74: RuntimeWarning: EDF format requires equal-length data blocks, so 0.56 seconds of zeros were appended to all channels when writing the final block.\n",
      "  test_raw.export(test_output_filepath, overwrite=overwrite)\n"
     ]
    },
    {
     "name": "stdout",
     "output_type": "stream",
     "text": [
      "Writing to (PosixPath('/home/paulo/Documents/datasets/OpenBMI/edf/session1/44_train.edf'), PosixPath('/home/paulo/Documents/datasets/OpenBMI/edf/session1/44_test.edf'))\n",
      "Creating RawArray with float64 data, n_channels=62, n_times=1454600\n",
      "    Range : 0 ... 1454599 =      0.000 ...  1454.599 secs\n",
      "Ready.\n",
      "Creating RawArray with float64 data, n_channels=62, n_times=1570440\n",
      "    Range : 0 ... 1570439 =      0.000 ...  1570.439 secs\n",
      "Ready.\n",
      "Overwriting existing file.\n"
     ]
    },
    {
     "name": "stderr",
     "output_type": "stream",
     "text": [
      "/tmp/ipykernel_383656/3899056146.py:73: RuntimeWarning: EDF format requires equal-length data blocks, so 0.4 seconds of zeros were appended to all channels when writing the final block.\n",
      "  train_raw.export(train_output_filepath, overwrite=overwrite)\n"
     ]
    },
    {
     "name": "stdout",
     "output_type": "stream",
     "text": [
      "Overwriting existing file.\n"
     ]
    },
    {
     "name": "stderr",
     "output_type": "stream",
     "text": [
      "/tmp/ipykernel_383656/3899056146.py:74: RuntimeWarning: EDF format requires equal-length data blocks, so 0.56 seconds of zeros were appended to all channels when writing the final block.\n",
      "  test_raw.export(test_output_filepath, overwrite=overwrite)\n"
     ]
    },
    {
     "name": "stdout",
     "output_type": "stream",
     "text": [
      "Writing to (PosixPath('/home/paulo/Documents/datasets/OpenBMI/edf/session2/29_train.edf'), PosixPath('/home/paulo/Documents/datasets/OpenBMI/edf/session2/29_test.edf'))\n",
      "Creating RawArray with float64 data, n_channels=62, n_times=1390320\n",
      "    Range : 0 ... 1390319 =      0.000 ...  1390.319 secs\n",
      "Ready.\n",
      "Creating RawArray with float64 data, n_channels=62, n_times=1541320\n",
      "    Range : 0 ... 1541319 =      0.000 ...  1541.319 secs\n",
      "Ready.\n",
      "Overwriting existing file.\n",
      "Overwriting existing file.\n"
     ]
    },
    {
     "name": "stderr",
     "output_type": "stream",
     "text": [
      "/tmp/ipykernel_383656/3899056146.py:73: RuntimeWarning: EDF format requires equal-length data blocks, so 0.68 seconds of zeros were appended to all channels when writing the final block.\n",
      "  train_raw.export(train_output_filepath, overwrite=overwrite)\n",
      "/tmp/ipykernel_383656/3899056146.py:74: RuntimeWarning: EDF format requires equal-length data blocks, so 0.68 seconds of zeros were appended to all channels when writing the final block.\n",
      "  test_raw.export(test_output_filepath, overwrite=overwrite)\n"
     ]
    },
    {
     "name": "stdout",
     "output_type": "stream",
     "text": [
      "Writing to (PosixPath('/home/paulo/Documents/datasets/OpenBMI/edf/session2/21_train.edf'), PosixPath('/home/paulo/Documents/datasets/OpenBMI/edf/session2/21_test.edf'))\n",
      "Creating RawArray with float64 data, n_channels=62, n_times=1408920\n",
      "    Range : 0 ... 1408919 =      0.000 ...  1408.919 secs\n",
      "Ready.\n",
      "Creating RawArray with float64 data, n_channels=62, n_times=1629680\n",
      "    Range : 0 ... 1629679 =      0.000 ...  1629.679 secs\n",
      "Ready.\n",
      "Overwriting existing file.\n"
     ]
    },
    {
     "name": "stderr",
     "output_type": "stream",
     "text": [
      "/tmp/ipykernel_383656/3899056146.py:73: RuntimeWarning: EDF format requires equal-length data blocks, so 0.08 seconds of zeros were appended to all channels when writing the final block.\n",
      "  train_raw.export(train_output_filepath, overwrite=overwrite)\n"
     ]
    },
    {
     "name": "stdout",
     "output_type": "stream",
     "text": [
      "Overwriting existing file.\n"
     ]
    },
    {
     "name": "stderr",
     "output_type": "stream",
     "text": [
      "/tmp/ipykernel_383656/3899056146.py:74: RuntimeWarning: EDF format requires equal-length data blocks, so 0.32 seconds of zeros were appended to all channels when writing the final block.\n",
      "  test_raw.export(test_output_filepath, overwrite=overwrite)\n"
     ]
    },
    {
     "name": "stdout",
     "output_type": "stream",
     "text": [
      "Writing to (PosixPath('/home/paulo/Documents/datasets/OpenBMI/edf/session1/24_train.edf'), PosixPath('/home/paulo/Documents/datasets/OpenBMI/edf/session1/24_test.edf'))\n",
      "Creating RawArray with float64 data, n_channels=62, n_times=1453320\n",
      "    Range : 0 ... 1453319 =      0.000 ...  1453.319 secs\n",
      "Ready.\n",
      "Creating RawArray with float64 data, n_channels=62, n_times=1617640\n",
      "    Range : 0 ... 1617639 =      0.000 ...  1617.639 secs\n",
      "Ready.\n",
      "Overwriting existing file.\n",
      "Overwriting existing file.\n"
     ]
    },
    {
     "name": "stderr",
     "output_type": "stream",
     "text": [
      "/tmp/ipykernel_383656/3899056146.py:73: RuntimeWarning: EDF format requires equal-length data blocks, so 0.68 seconds of zeros were appended to all channels when writing the final block.\n",
      "  train_raw.export(train_output_filepath, overwrite=overwrite)\n",
      "/tmp/ipykernel_383656/3899056146.py:74: RuntimeWarning: EDF format requires equal-length data blocks, so 0.36 seconds of zeros were appended to all channels when writing the final block.\n",
      "  test_raw.export(test_output_filepath, overwrite=overwrite)\n"
     ]
    },
    {
     "name": "stdout",
     "output_type": "stream",
     "text": [
      "Writing to (PosixPath('/home/paulo/Documents/datasets/OpenBMI/edf/session1/21_train.edf'), PosixPath('/home/paulo/Documents/datasets/OpenBMI/edf/session1/21_test.edf'))\n",
      "Creating RawArray with float64 data, n_channels=62, n_times=1397200\n",
      "    Range : 0 ... 1397199 =      0.000 ...  1397.199 secs\n",
      "Ready.\n",
      "Creating RawArray with float64 data, n_channels=62, n_times=1673640\n",
      "    Range : 0 ... 1673639 =      0.000 ...  1673.639 secs\n",
      "Ready.\n",
      "Overwriting existing file.\n"
     ]
    },
    {
     "name": "stderr",
     "output_type": "stream",
     "text": [
      "/tmp/ipykernel_383656/3899056146.py:73: RuntimeWarning: EDF format requires equal-length data blocks, so 0.8 seconds of zeros were appended to all channels when writing the final block.\n",
      "  train_raw.export(train_output_filepath, overwrite=overwrite)\n"
     ]
    },
    {
     "name": "stdout",
     "output_type": "stream",
     "text": [
      "Overwriting existing file.\n"
     ]
    },
    {
     "name": "stderr",
     "output_type": "stream",
     "text": [
      "/tmp/ipykernel_383656/3899056146.py:74: RuntimeWarning: EDF format requires equal-length data blocks, so 0.36 seconds of zeros were appended to all channels when writing the final block.\n",
      "  test_raw.export(test_output_filepath, overwrite=overwrite)\n"
     ]
    },
    {
     "name": "stdout",
     "output_type": "stream",
     "text": [
      "Writing to (PosixPath('/home/paulo/Documents/datasets/OpenBMI/edf/session2/6_train.edf'), PosixPath('/home/paulo/Documents/datasets/OpenBMI/edf/session2/6_test.edf'))\n",
      "Creating RawArray with float64 data, n_channels=62, n_times=1394520\n",
      "    Range : 0 ... 1394519 =      0.000 ...  1394.519 secs\n",
      "Ready.\n",
      "Creating RawArray with float64 data, n_channels=62, n_times=1698040\n",
      "    Range : 0 ... 1698039 =      0.000 ...  1698.039 secs\n",
      "Ready.\n",
      "Overwriting existing file.\n",
      "Overwriting existing file.\n"
     ]
    },
    {
     "name": "stderr",
     "output_type": "stream",
     "text": [
      "/tmp/ipykernel_383656/3899056146.py:73: RuntimeWarning: EDF format requires equal-length data blocks, so 0.48 seconds of zeros were appended to all channels when writing the final block.\n",
      "  train_raw.export(train_output_filepath, overwrite=overwrite)\n",
      "/tmp/ipykernel_383656/3899056146.py:74: RuntimeWarning: EDF format requires equal-length data blocks, so 0.96 seconds of zeros were appended to all channels when writing the final block.\n",
      "  test_raw.export(test_output_filepath, overwrite=overwrite)\n"
     ]
    },
    {
     "name": "stdout",
     "output_type": "stream",
     "text": [
      "Writing to (PosixPath('/home/paulo/Documents/datasets/OpenBMI/edf/session2/33_train.edf'), PosixPath('/home/paulo/Documents/datasets/OpenBMI/edf/session2/33_test.edf'))\n",
      "Creating RawArray with float64 data, n_channels=62, n_times=1561680\n",
      "    Range : 0 ... 1561679 =      0.000 ...  1561.679 secs\n",
      "Ready.\n",
      "Creating RawArray with float64 data, n_channels=62, n_times=1649320\n",
      "    Range : 0 ... 1649319 =      0.000 ...  1649.319 secs\n",
      "Ready.\n",
      "Overwriting existing file.\n",
      "Overwriting existing file.\n"
     ]
    },
    {
     "name": "stderr",
     "output_type": "stream",
     "text": [
      "/tmp/ipykernel_383656/3899056146.py:73: RuntimeWarning: EDF format requires equal-length data blocks, so 0.32 seconds of zeros were appended to all channels when writing the final block.\n",
      "  train_raw.export(train_output_filepath, overwrite=overwrite)\n",
      "/tmp/ipykernel_383656/3899056146.py:74: RuntimeWarning: EDF format requires equal-length data blocks, so 0.68 seconds of zeros were appended to all channels when writing the final block.\n",
      "  test_raw.export(test_output_filepath, overwrite=overwrite)\n"
     ]
    },
    {
     "name": "stdout",
     "output_type": "stream",
     "text": [
      "Writing to (PosixPath('/home/paulo/Documents/datasets/OpenBMI/edf/session1/15_train.edf'), PosixPath('/home/paulo/Documents/datasets/OpenBMI/edf/session1/15_test.edf'))\n",
      "Creating RawArray with float64 data, n_channels=62, n_times=1541400\n",
      "    Range : 0 ... 1541399 =      0.000 ...  1541.399 secs\n",
      "Ready.\n",
      "Creating RawArray with float64 data, n_channels=62, n_times=1534720\n",
      "    Range : 0 ... 1534719 =      0.000 ...  1534.719 secs\n",
      "Ready.\n",
      "Overwriting existing file.\n",
      "Overwriting existing file.\n"
     ]
    },
    {
     "name": "stderr",
     "output_type": "stream",
     "text": [
      "/tmp/ipykernel_383656/3899056146.py:73: RuntimeWarning: EDF format requires equal-length data blocks, so 0.6 seconds of zeros were appended to all channels when writing the final block.\n",
      "  train_raw.export(train_output_filepath, overwrite=overwrite)\n",
      "/tmp/ipykernel_383656/3899056146.py:74: RuntimeWarning: EDF format requires equal-length data blocks, so 0.28 seconds of zeros were appended to all channels when writing the final block.\n",
      "  test_raw.export(test_output_filepath, overwrite=overwrite)\n"
     ]
    },
    {
     "name": "stdout",
     "output_type": "stream",
     "text": [
      "Writing to (PosixPath('/home/paulo/Documents/datasets/OpenBMI/edf/session1/29_train.edf'), PosixPath('/home/paulo/Documents/datasets/OpenBMI/edf/session1/29_test.edf'))\n",
      "Creating RawArray with float64 data, n_channels=62, n_times=1353080\n",
      "    Range : 0 ... 1353079 =      0.000 ...  1353.079 secs\n",
      "Ready.\n",
      "Creating RawArray with float64 data, n_channels=62, n_times=1660520\n",
      "    Range : 0 ... 1660519 =      0.000 ...  1660.519 secs\n",
      "Ready.\n",
      "Overwriting existing file.\n"
     ]
    },
    {
     "name": "stderr",
     "output_type": "stream",
     "text": [
      "/tmp/ipykernel_383656/3899056146.py:73: RuntimeWarning: EDF format requires equal-length data blocks, so 0.92 seconds of zeros were appended to all channels when writing the final block.\n",
      "  train_raw.export(train_output_filepath, overwrite=overwrite)\n"
     ]
    },
    {
     "name": "stdout",
     "output_type": "stream",
     "text": [
      "Overwriting existing file.\n"
     ]
    },
    {
     "name": "stderr",
     "output_type": "stream",
     "text": [
      "/tmp/ipykernel_383656/3899056146.py:74: RuntimeWarning: EDF format requires equal-length data blocks, so 0.48 seconds of zeros were appended to all channels when writing the final block.\n",
      "  test_raw.export(test_output_filepath, overwrite=overwrite)\n"
     ]
    },
    {
     "name": "stdout",
     "output_type": "stream",
     "text": [
      "Writing to (PosixPath('/home/paulo/Documents/datasets/OpenBMI/edf/session2/4_train.edf'), PosixPath('/home/paulo/Documents/datasets/OpenBMI/edf/session2/4_test.edf'))\n",
      "Creating RawArray with float64 data, n_channels=62, n_times=1376040\n",
      "    Range : 0 ... 1376039 =      0.000 ...  1376.039 secs\n",
      "Ready.\n",
      "Creating RawArray with float64 data, n_channels=62, n_times=1578040\n",
      "    Range : 0 ... 1578039 =      0.000 ...  1578.039 secs\n",
      "Ready.\n",
      "Overwriting existing file.\n"
     ]
    },
    {
     "name": "stderr",
     "output_type": "stream",
     "text": [
      "/tmp/ipykernel_383656/3899056146.py:73: RuntimeWarning: EDF format requires equal-length data blocks, so 0.96 seconds of zeros were appended to all channels when writing the final block.\n",
      "  train_raw.export(train_output_filepath, overwrite=overwrite)\n"
     ]
    },
    {
     "name": "stdout",
     "output_type": "stream",
     "text": [
      "Overwriting existing file.\n"
     ]
    },
    {
     "name": "stderr",
     "output_type": "stream",
     "text": [
      "/tmp/ipykernel_383656/3899056146.py:74: RuntimeWarning: EDF format requires equal-length data blocks, so 0.96 seconds of zeros were appended to all channels when writing the final block.\n",
      "  test_raw.export(test_output_filepath, overwrite=overwrite)\n"
     ]
    },
    {
     "name": "stdout",
     "output_type": "stream",
     "text": [
      "Writing to (PosixPath('/home/paulo/Documents/datasets/OpenBMI/edf/session2/46_train.edf'), PosixPath('/home/paulo/Documents/datasets/OpenBMI/edf/session2/46_test.edf'))\n",
      "Creating RawArray with float64 data, n_channels=62, n_times=1370600\n",
      "    Range : 0 ... 1370599 =      0.000 ...  1370.599 secs\n",
      "Ready.\n",
      "Creating RawArray with float64 data, n_channels=62, n_times=1659080\n",
      "    Range : 0 ... 1659079 =      0.000 ...  1659.079 secs\n",
      "Ready.\n",
      "Overwriting existing file.\n",
      "Overwriting existing file.\n"
     ]
    },
    {
     "name": "stderr",
     "output_type": "stream",
     "text": [
      "/tmp/ipykernel_383656/3899056146.py:73: RuntimeWarning: EDF format requires equal-length data blocks, so 0.4 seconds of zeros were appended to all channels when writing the final block.\n",
      "  train_raw.export(train_output_filepath, overwrite=overwrite)\n",
      "/tmp/ipykernel_383656/3899056146.py:74: RuntimeWarning: EDF format requires equal-length data blocks, so 0.92 seconds of zeros were appended to all channels when writing the final block.\n",
      "  test_raw.export(test_output_filepath, overwrite=overwrite)\n"
     ]
    },
    {
     "name": "stdout",
     "output_type": "stream",
     "text": [
      "Writing to (PosixPath('/home/paulo/Documents/datasets/OpenBMI/edf/session2/50_train.edf'), PosixPath('/home/paulo/Documents/datasets/OpenBMI/edf/session2/50_test.edf'))\n",
      "Creating RawArray with float64 data, n_channels=62, n_times=1777240\n",
      "    Range : 0 ... 1777239 =      0.000 ...  1777.239 secs\n",
      "Ready.\n",
      "Creating RawArray with float64 data, n_channels=62, n_times=1573920\n",
      "    Range : 0 ... 1573919 =      0.000 ...  1573.919 secs\n",
      "Ready.\n",
      "Overwriting existing file.\n"
     ]
    },
    {
     "name": "stderr",
     "output_type": "stream",
     "text": [
      "/tmp/ipykernel_383656/3899056146.py:73: RuntimeWarning: EDF format requires equal-length data blocks, so 0.76 seconds of zeros were appended to all channels when writing the final block.\n",
      "  train_raw.export(train_output_filepath, overwrite=overwrite)\n"
     ]
    },
    {
     "name": "stdout",
     "output_type": "stream",
     "text": [
      "Overwriting existing file.\n"
     ]
    },
    {
     "name": "stderr",
     "output_type": "stream",
     "text": [
      "/tmp/ipykernel_383656/3899056146.py:74: RuntimeWarning: EDF format requires equal-length data blocks, so 0.08 seconds of zeros were appended to all channels when writing the final block.\n",
      "  test_raw.export(test_output_filepath, overwrite=overwrite)\n"
     ]
    },
    {
     "name": "stdout",
     "output_type": "stream",
     "text": [
      "Writing to (PosixPath('/home/paulo/Documents/datasets/OpenBMI/edf/session1/23_train.edf'), PosixPath('/home/paulo/Documents/datasets/OpenBMI/edf/session1/23_test.edf'))\n",
      "Creating RawArray with float64 data, n_channels=62, n_times=1387040\n",
      "    Range : 0 ... 1387039 =      0.000 ...  1387.039 secs\n",
      "Ready.\n",
      "Creating RawArray with float64 data, n_channels=62, n_times=1622880\n",
      "    Range : 0 ... 1622879 =      0.000 ...  1622.879 secs\n",
      "Ready.\n",
      "Overwriting existing file.\n"
     ]
    },
    {
     "name": "stderr",
     "output_type": "stream",
     "text": [
      "/tmp/ipykernel_383656/3899056146.py:73: RuntimeWarning: EDF format requires equal-length data blocks, so 0.96 seconds of zeros were appended to all channels when writing the final block.\n",
      "  train_raw.export(train_output_filepath, overwrite=overwrite)\n"
     ]
    },
    {
     "name": "stdout",
     "output_type": "stream",
     "text": [
      "Overwriting existing file.\n"
     ]
    },
    {
     "name": "stderr",
     "output_type": "stream",
     "text": [
      "/tmp/ipykernel_383656/3899056146.py:74: RuntimeWarning: EDF format requires equal-length data blocks, so 0.12 seconds of zeros were appended to all channels when writing the final block.\n",
      "  test_raw.export(test_output_filepath, overwrite=overwrite)\n"
     ]
    },
    {
     "name": "stdout",
     "output_type": "stream",
     "text": [
      "Writing to (PosixPath('/home/paulo/Documents/datasets/OpenBMI/edf/session2/28_train.edf'), PosixPath('/home/paulo/Documents/datasets/OpenBMI/edf/session2/28_test.edf'))\n",
      "Creating RawArray with float64 data, n_channels=62, n_times=1343520\n",
      "    Range : 0 ... 1343519 =      0.000 ...  1343.519 secs\n",
      "Ready.\n",
      "Creating RawArray with float64 data, n_channels=62, n_times=1596080\n",
      "    Range : 0 ... 1596079 =      0.000 ...  1596.079 secs\n",
      "Ready.\n",
      "Overwriting existing file.\n",
      "Overwriting existing file.\n"
     ]
    },
    {
     "name": "stderr",
     "output_type": "stream",
     "text": [
      "/tmp/ipykernel_383656/3899056146.py:73: RuntimeWarning: EDF format requires equal-length data blocks, so 0.48 seconds of zeros were appended to all channels when writing the final block.\n",
      "  train_raw.export(train_output_filepath, overwrite=overwrite)\n",
      "/tmp/ipykernel_383656/3899056146.py:74: RuntimeWarning: EDF format requires equal-length data blocks, so 0.92 seconds of zeros were appended to all channels when writing the final block.\n",
      "  test_raw.export(test_output_filepath, overwrite=overwrite)\n"
     ]
    },
    {
     "name": "stdout",
     "output_type": "stream",
     "text": [
      "Writing to (PosixPath('/home/paulo/Documents/datasets/OpenBMI/edf/session1/8_train.edf'), PosixPath('/home/paulo/Documents/datasets/OpenBMI/edf/session1/8_test.edf'))\n",
      "Creating RawArray with float64 data, n_channels=62, n_times=1421120\n",
      "    Range : 0 ... 1421119 =      0.000 ...  1421.119 secs\n",
      "Ready.\n",
      "Creating RawArray with float64 data, n_channels=62, n_times=1773160\n",
      "    Range : 0 ... 1773159 =      0.000 ...  1773.159 secs\n",
      "Ready.\n",
      "Overwriting existing file.\n"
     ]
    },
    {
     "name": "stderr",
     "output_type": "stream",
     "text": [
      "/tmp/ipykernel_383656/3899056146.py:73: RuntimeWarning: EDF format requires equal-length data blocks, so 0.88 seconds of zeros were appended to all channels when writing the final block.\n",
      "  train_raw.export(train_output_filepath, overwrite=overwrite)\n"
     ]
    },
    {
     "name": "stdout",
     "output_type": "stream",
     "text": [
      "Overwriting existing file.\n"
     ]
    },
    {
     "name": "stderr",
     "output_type": "stream",
     "text": [
      "/tmp/ipykernel_383656/3899056146.py:74: RuntimeWarning: EDF format requires equal-length data blocks, so 0.84 seconds of zeros were appended to all channels when writing the final block.\n",
      "  test_raw.export(test_output_filepath, overwrite=overwrite)\n"
     ]
    },
    {
     "name": "stdout",
     "output_type": "stream",
     "text": [
      "Writing to (PosixPath('/home/paulo/Documents/datasets/OpenBMI/edf/session2/3_train.edf'), PosixPath('/home/paulo/Documents/datasets/OpenBMI/edf/session2/3_test.edf'))\n",
      "Creating RawArray with float64 data, n_channels=62, n_times=1371000\n",
      "    Range : 0 ... 1370999 =      0.000 ...  1370.999 secs\n",
      "Ready.\n",
      "Creating RawArray with float64 data, n_channels=62, n_times=1583440\n",
      "    Range : 0 ... 1583439 =      0.000 ...  1583.439 secs\n",
      "Ready.\n",
      "Overwriting existing file.\n",
      "Overwriting existing file.\n"
     ]
    },
    {
     "name": "stderr",
     "output_type": "stream",
     "text": [
      "/tmp/ipykernel_383656/3899056146.py:74: RuntimeWarning: EDF format requires equal-length data blocks, so 0.56 seconds of zeros were appended to all channels when writing the final block.\n",
      "  test_raw.export(test_output_filepath, overwrite=overwrite)\n"
     ]
    },
    {
     "name": "stdout",
     "output_type": "stream",
     "text": [
      "Writing to (PosixPath('/home/paulo/Documents/datasets/OpenBMI/edf/session2/53_train.edf'), PosixPath('/home/paulo/Documents/datasets/OpenBMI/edf/session2/53_test.edf'))\n",
      "Creating RawArray with float64 data, n_channels=62, n_times=1368160\n",
      "    Range : 0 ... 1368159 =      0.000 ...  1368.159 secs\n",
      "Ready.\n",
      "Creating RawArray with float64 data, n_channels=62, n_times=1571240\n",
      "    Range : 0 ... 1571239 =      0.000 ...  1571.239 secs\n",
      "Ready.\n",
      "Overwriting existing file.\n",
      "Overwriting existing file.\n"
     ]
    },
    {
     "name": "stderr",
     "output_type": "stream",
     "text": [
      "/tmp/ipykernel_383656/3899056146.py:73: RuntimeWarning: EDF format requires equal-length data blocks, so 0.84 seconds of zeros were appended to all channels when writing the final block.\n",
      "  train_raw.export(train_output_filepath, overwrite=overwrite)\n",
      "/tmp/ipykernel_383656/3899056146.py:74: RuntimeWarning: EDF format requires equal-length data blocks, so 0.76 seconds of zeros were appended to all channels when writing the final block.\n",
      "  test_raw.export(test_output_filepath, overwrite=overwrite)\n"
     ]
    },
    {
     "name": "stdout",
     "output_type": "stream",
     "text": [
      "Writing to (PosixPath('/home/paulo/Documents/datasets/OpenBMI/edf/session2/32_train.edf'), PosixPath('/home/paulo/Documents/datasets/OpenBMI/edf/session2/32_test.edf'))\n",
      "Creating RawArray with float64 data, n_channels=62, n_times=1367760\n",
      "    Range : 0 ... 1367759 =      0.000 ...  1367.759 secs\n",
      "Ready.\n",
      "Creating RawArray with float64 data, n_channels=62, n_times=1574880\n",
      "    Range : 0 ... 1574879 =      0.000 ...  1574.879 secs\n",
      "Ready.\n",
      "Overwriting existing file.\n",
      "Overwriting existing file.\n"
     ]
    },
    {
     "name": "stderr",
     "output_type": "stream",
     "text": [
      "/tmp/ipykernel_383656/3899056146.py:73: RuntimeWarning: EDF format requires equal-length data blocks, so 0.24 seconds of zeros were appended to all channels when writing the final block.\n",
      "  train_raw.export(train_output_filepath, overwrite=overwrite)\n",
      "/tmp/ipykernel_383656/3899056146.py:74: RuntimeWarning: EDF format requires equal-length data blocks, so 0.12 seconds of zeros were appended to all channels when writing the final block.\n",
      "  test_raw.export(test_output_filepath, overwrite=overwrite)\n"
     ]
    },
    {
     "name": "stdout",
     "output_type": "stream",
     "text": [
      "Writing to (PosixPath('/home/paulo/Documents/datasets/OpenBMI/edf/session2/27_train.edf'), PosixPath('/home/paulo/Documents/datasets/OpenBMI/edf/session2/27_test.edf'))\n",
      "Creating RawArray with float64 data, n_channels=62, n_times=1347720\n",
      "    Range : 0 ... 1347719 =      0.000 ...  1347.719 secs\n",
      "Ready.\n",
      "Creating RawArray with float64 data, n_channels=62, n_times=1532360\n",
      "    Range : 0 ... 1532359 =      0.000 ...  1532.359 secs\n",
      "Ready.\n",
      "Overwriting existing file.\n",
      "Overwriting existing file.\n"
     ]
    },
    {
     "name": "stderr",
     "output_type": "stream",
     "text": [
      "/tmp/ipykernel_383656/3899056146.py:73: RuntimeWarning: EDF format requires equal-length data blocks, so 0.28 seconds of zeros were appended to all channels when writing the final block.\n",
      "  train_raw.export(train_output_filepath, overwrite=overwrite)\n",
      "/tmp/ipykernel_383656/3899056146.py:74: RuntimeWarning: EDF format requires equal-length data blocks, so 0.64 seconds of zeros were appended to all channels when writing the final block.\n",
      "  test_raw.export(test_output_filepath, overwrite=overwrite)\n"
     ]
    },
    {
     "name": "stdout",
     "output_type": "stream",
     "text": [
      "Writing to (PosixPath('/home/paulo/Documents/datasets/OpenBMI/edf/session1/41_train.edf'), PosixPath('/home/paulo/Documents/datasets/OpenBMI/edf/session1/41_test.edf'))\n",
      "Creating RawArray with float64 data, n_channels=62, n_times=1385520\n",
      "    Range : 0 ... 1385519 =      0.000 ...  1385.519 secs\n",
      "Ready.\n",
      "Creating RawArray with float64 data, n_channels=62, n_times=1595560\n",
      "    Range : 0 ... 1595559 =      0.000 ...  1595.559 secs\n",
      "Ready.\n",
      "Overwriting existing file.\n"
     ]
    },
    {
     "name": "stderr",
     "output_type": "stream",
     "text": [
      "/tmp/ipykernel_383656/3899056146.py:73: RuntimeWarning: EDF format requires equal-length data blocks, so 0.48 seconds of zeros were appended to all channels when writing the final block.\n",
      "  train_raw.export(train_output_filepath, overwrite=overwrite)\n"
     ]
    },
    {
     "name": "stdout",
     "output_type": "stream",
     "text": [
      "Overwriting existing file.\n"
     ]
    },
    {
     "name": "stderr",
     "output_type": "stream",
     "text": [
      "/tmp/ipykernel_383656/3899056146.py:74: RuntimeWarning: EDF format requires equal-length data blocks, so 0.44 seconds of zeros were appended to all channels when writing the final block.\n",
      "  test_raw.export(test_output_filepath, overwrite=overwrite)\n"
     ]
    },
    {
     "name": "stdout",
     "output_type": "stream",
     "text": [
      "Writing to (PosixPath('/home/paulo/Documents/datasets/OpenBMI/edf/session1/33_train.edf'), PosixPath('/home/paulo/Documents/datasets/OpenBMI/edf/session1/33_test.edf'))\n",
      "Creating RawArray with float64 data, n_channels=62, n_times=1504520\n",
      "    Range : 0 ... 1504519 =      0.000 ...  1504.519 secs\n",
      "Ready.\n",
      "Creating RawArray with float64 data, n_channels=62, n_times=1720120\n",
      "    Range : 0 ... 1720119 =      0.000 ...  1720.119 secs\n",
      "Ready.\n",
      "Overwriting existing file.\n",
      "Overwriting existing file.\n"
     ]
    },
    {
     "name": "stderr",
     "output_type": "stream",
     "text": [
      "/tmp/ipykernel_383656/3899056146.py:73: RuntimeWarning: EDF format requires equal-length data blocks, so 0.48 seconds of zeros were appended to all channels when writing the final block.\n",
      "  train_raw.export(train_output_filepath, overwrite=overwrite)\n",
      "/tmp/ipykernel_383656/3899056146.py:74: RuntimeWarning: EDF format requires equal-length data blocks, so 0.88 seconds of zeros were appended to all channels when writing the final block.\n",
      "  test_raw.export(test_output_filepath, overwrite=overwrite)\n"
     ]
    },
    {
     "name": "stdout",
     "output_type": "stream",
     "text": [
      "Writing to (PosixPath('/home/paulo/Documents/datasets/OpenBMI/edf/session2/44_train.edf'), PosixPath('/home/paulo/Documents/datasets/OpenBMI/edf/session2/44_test.edf'))\n",
      "Creating RawArray with float64 data, n_channels=62, n_times=1346880\n",
      "    Range : 0 ... 1346879 =      0.000 ...  1346.879 secs\n",
      "Ready.\n",
      "Creating RawArray with float64 data, n_channels=62, n_times=1603720\n",
      "    Range : 0 ... 1603719 =      0.000 ...  1603.719 secs\n",
      "Ready.\n",
      "Overwriting existing file.\n"
     ]
    },
    {
     "name": "stderr",
     "output_type": "stream",
     "text": [
      "/tmp/ipykernel_383656/3899056146.py:73: RuntimeWarning: EDF format requires equal-length data blocks, so 0.12 seconds of zeros were appended to all channels when writing the final block.\n",
      "  train_raw.export(train_output_filepath, overwrite=overwrite)\n"
     ]
    },
    {
     "name": "stdout",
     "output_type": "stream",
     "text": [
      "Overwriting existing file.\n"
     ]
    },
    {
     "name": "stderr",
     "output_type": "stream",
     "text": [
      "/tmp/ipykernel_383656/3899056146.py:74: RuntimeWarning: EDF format requires equal-length data blocks, so 0.28 seconds of zeros were appended to all channels when writing the final block.\n",
      "  test_raw.export(test_output_filepath, overwrite=overwrite)\n"
     ]
    },
    {
     "name": "stdout",
     "output_type": "stream",
     "text": [
      "Writing to (PosixPath('/home/paulo/Documents/datasets/OpenBMI/edf/session2/41_train.edf'), PosixPath('/home/paulo/Documents/datasets/OpenBMI/edf/session2/41_test.edf'))\n",
      "Creating RawArray with float64 data, n_channels=62, n_times=1447120\n",
      "    Range : 0 ... 1447119 =      0.000 ...  1447.119 secs\n",
      "Ready.\n",
      "Creating RawArray with float64 data, n_channels=62, n_times=1641240\n",
      "    Range : 0 ... 1641239 =      0.000 ...  1641.239 secs\n",
      "Ready.\n",
      "Overwriting existing file.\n",
      "Overwriting existing file.\n"
     ]
    },
    {
     "name": "stderr",
     "output_type": "stream",
     "text": [
      "/tmp/ipykernel_383656/3899056146.py:73: RuntimeWarning: EDF format requires equal-length data blocks, so 0.88 seconds of zeros were appended to all channels when writing the final block.\n",
      "  train_raw.export(train_output_filepath, overwrite=overwrite)\n",
      "/tmp/ipykernel_383656/3899056146.py:74: RuntimeWarning: EDF format requires equal-length data blocks, so 0.76 seconds of zeros were appended to all channels when writing the final block.\n",
      "  test_raw.export(test_output_filepath, overwrite=overwrite)\n"
     ]
    },
    {
     "name": "stdout",
     "output_type": "stream",
     "text": [
      "Writing to (PosixPath('/home/paulo/Documents/datasets/OpenBMI/edf/session1/26_train.edf'), PosixPath('/home/paulo/Documents/datasets/OpenBMI/edf/session1/26_test.edf'))\n",
      "Creating RawArray with float64 data, n_channels=62, n_times=1505000\n",
      "    Range : 0 ... 1504999 =      0.000 ...  1504.999 secs\n",
      "Ready.\n",
      "Creating RawArray with float64 data, n_channels=62, n_times=1636400\n",
      "    Range : 0 ... 1636399 =      0.000 ...  1636.399 secs\n",
      "Ready.\n",
      "Overwriting existing file.\n",
      "Overwriting existing file.\n"
     ]
    },
    {
     "name": "stderr",
     "output_type": "stream",
     "text": [
      "/tmp/ipykernel_383656/3899056146.py:74: RuntimeWarning: EDF format requires equal-length data blocks, so 0.6 seconds of zeros were appended to all channels when writing the final block.\n",
      "  test_raw.export(test_output_filepath, overwrite=overwrite)\n"
     ]
    },
    {
     "name": "stdout",
     "output_type": "stream",
     "text": [
      "Writing to (PosixPath('/home/paulo/Documents/datasets/OpenBMI/edf/session2/22_train.edf'), PosixPath('/home/paulo/Documents/datasets/OpenBMI/edf/session2/22_test.edf'))\n",
      "Creating RawArray with float64 data, n_channels=62, n_times=1388600\n",
      "    Range : 0 ... 1388599 =      0.000 ...  1388.599 secs\n",
      "Ready.\n",
      "Creating RawArray with float64 data, n_channels=62, n_times=1556360\n",
      "    Range : 0 ... 1556359 =      0.000 ...  1556.359 secs\n",
      "Ready.\n",
      "Overwriting existing file.\n",
      "Overwriting existing file.\n"
     ]
    },
    {
     "name": "stderr",
     "output_type": "stream",
     "text": [
      "/tmp/ipykernel_383656/3899056146.py:73: RuntimeWarning: EDF format requires equal-length data blocks, so 0.4 seconds of zeros were appended to all channels when writing the final block.\n",
      "  train_raw.export(train_output_filepath, overwrite=overwrite)\n",
      "/tmp/ipykernel_383656/3899056146.py:74: RuntimeWarning: EDF format requires equal-length data blocks, so 0.64 seconds of zeros were appended to all channels when writing the final block.\n",
      "  test_raw.export(test_output_filepath, overwrite=overwrite)\n"
     ]
    },
    {
     "name": "stdout",
     "output_type": "stream",
     "text": [
      "Writing to (PosixPath('/home/paulo/Documents/datasets/OpenBMI/edf/session1/48_train.edf'), PosixPath('/home/paulo/Documents/datasets/OpenBMI/edf/session1/48_test.edf'))\n",
      "Creating RawArray with float64 data, n_channels=62, n_times=1337240\n",
      "    Range : 0 ... 1337239 =      0.000 ...  1337.239 secs\n",
      "Ready.\n",
      "Creating RawArray with float64 data, n_channels=62, n_times=1561120\n",
      "    Range : 0 ... 1561119 =      0.000 ...  1561.119 secs\n",
      "Ready.\n",
      "Overwriting existing file.\n"
     ]
    },
    {
     "name": "stderr",
     "output_type": "stream",
     "text": [
      "/tmp/ipykernel_383656/3899056146.py:73: RuntimeWarning: EDF format requires equal-length data blocks, so 0.76 seconds of zeros were appended to all channels when writing the final block.\n",
      "  train_raw.export(train_output_filepath, overwrite=overwrite)\n"
     ]
    },
    {
     "name": "stdout",
     "output_type": "stream",
     "text": [
      "Overwriting existing file.\n"
     ]
    },
    {
     "name": "stderr",
     "output_type": "stream",
     "text": [
      "/tmp/ipykernel_383656/3899056146.py:74: RuntimeWarning: EDF format requires equal-length data blocks, so 0.88 seconds of zeros were appended to all channels when writing the final block.\n",
      "  test_raw.export(test_output_filepath, overwrite=overwrite)\n"
     ]
    },
    {
     "name": "stdout",
     "output_type": "stream",
     "text": [
      "Writing to (PosixPath('/home/paulo/Documents/datasets/OpenBMI/edf/session2/25_train.edf'), PosixPath('/home/paulo/Documents/datasets/OpenBMI/edf/session2/25_test.edf'))\n",
      "Creating RawArray with float64 data, n_channels=62, n_times=1359280\n",
      "    Range : 0 ... 1359279 =      0.000 ...  1359.279 secs\n",
      "Ready.\n",
      "Creating RawArray with float64 data, n_channels=62, n_times=1857360\n",
      "    Range : 0 ... 1857359 =      0.000 ...  1857.359 secs\n",
      "Ready.\n",
      "Overwriting existing file.\n"
     ]
    },
    {
     "name": "stderr",
     "output_type": "stream",
     "text": [
      "/tmp/ipykernel_383656/3899056146.py:73: RuntimeWarning: EDF format requires equal-length data blocks, so 0.72 seconds of zeros were appended to all channels when writing the final block.\n",
      "  train_raw.export(train_output_filepath, overwrite=overwrite)\n"
     ]
    },
    {
     "name": "stdout",
     "output_type": "stream",
     "text": [
      "Overwriting existing file.\n"
     ]
    },
    {
     "name": "stderr",
     "output_type": "stream",
     "text": [
      "/tmp/ipykernel_383656/3899056146.py:74: RuntimeWarning: EDF format requires equal-length data blocks, so 0.64 seconds of zeros were appended to all channels when writing the final block.\n",
      "  test_raw.export(test_output_filepath, overwrite=overwrite)\n"
     ]
    },
    {
     "name": "stdout",
     "output_type": "stream",
     "text": [
      "Writing to (PosixPath('/home/paulo/Documents/datasets/OpenBMI/edf/session1/4_train.edf'), PosixPath('/home/paulo/Documents/datasets/OpenBMI/edf/session1/4_test.edf'))\n",
      "Creating RawArray with float64 data, n_channels=62, n_times=1384720\n",
      "    Range : 0 ... 1384719 =      0.000 ...  1384.719 secs\n",
      "Ready.\n",
      "Creating RawArray with float64 data, n_channels=62, n_times=1577480\n",
      "    Range : 0 ... 1577479 =      0.000 ...  1577.479 secs\n",
      "Ready.\n",
      "Overwriting existing file.\n"
     ]
    },
    {
     "name": "stderr",
     "output_type": "stream",
     "text": [
      "/tmp/ipykernel_383656/3899056146.py:73: RuntimeWarning: EDF format requires equal-length data blocks, so 0.28 seconds of zeros were appended to all channels when writing the final block.\n",
      "  train_raw.export(train_output_filepath, overwrite=overwrite)\n"
     ]
    },
    {
     "name": "stdout",
     "output_type": "stream",
     "text": [
      "Overwriting existing file.\n"
     ]
    },
    {
     "name": "stderr",
     "output_type": "stream",
     "text": [
      "/tmp/ipykernel_383656/3899056146.py:74: RuntimeWarning: EDF format requires equal-length data blocks, so 0.52 seconds of zeros were appended to all channels when writing the final block.\n",
      "  test_raw.export(test_output_filepath, overwrite=overwrite)\n"
     ]
    },
    {
     "name": "stdout",
     "output_type": "stream",
     "text": [
      "Writing to (PosixPath('/home/paulo/Documents/datasets/OpenBMI/edf/session2/45_train.edf'), PosixPath('/home/paulo/Documents/datasets/OpenBMI/edf/session2/45_test.edf'))\n",
      "Creating RawArray with float64 data, n_channels=62, n_times=1370000\n",
      "    Range : 0 ... 1369999 =      0.000 ...  1369.999 secs\n",
      "Ready.\n",
      "Creating RawArray with float64 data, n_channels=62, n_times=1815800\n",
      "    Range : 0 ... 1815799 =      0.000 ...  1815.799 secs\n",
      "Ready.\n",
      "Overwriting existing file.\n",
      "Overwriting existing file.\n"
     ]
    },
    {
     "name": "stderr",
     "output_type": "stream",
     "text": [
      "/tmp/ipykernel_383656/3899056146.py:74: RuntimeWarning: EDF format requires equal-length data blocks, so 0.2 seconds of zeros were appended to all channels when writing the final block.\n",
      "  test_raw.export(test_output_filepath, overwrite=overwrite)\n"
     ]
    },
    {
     "name": "stdout",
     "output_type": "stream",
     "text": [
      "Writing to (PosixPath('/home/paulo/Documents/datasets/OpenBMI/edf/session1/54_train.edf'), PosixPath('/home/paulo/Documents/datasets/OpenBMI/edf/session1/54_test.edf'))\n",
      "Creating RawArray with float64 data, n_channels=62, n_times=1400840\n",
      "    Range : 0 ... 1400839 =      0.000 ...  1400.839 secs\n",
      "Ready.\n",
      "Creating RawArray with float64 data, n_channels=62, n_times=1584320\n",
      "    Range : 0 ... 1584319 =      0.000 ...  1584.319 secs\n",
      "Ready.\n",
      "Overwriting existing file.\n"
     ]
    },
    {
     "name": "stderr",
     "output_type": "stream",
     "text": [
      "/tmp/ipykernel_383656/3899056146.py:73: RuntimeWarning: EDF format requires equal-length data blocks, so 0.16 seconds of zeros were appended to all channels when writing the final block.\n",
      "  train_raw.export(train_output_filepath, overwrite=overwrite)\n"
     ]
    },
    {
     "name": "stdout",
     "output_type": "stream",
     "text": [
      "Overwriting existing file.\n"
     ]
    },
    {
     "name": "stderr",
     "output_type": "stream",
     "text": [
      "/tmp/ipykernel_383656/3899056146.py:74: RuntimeWarning: EDF format requires equal-length data blocks, so 0.68 seconds of zeros were appended to all channels when writing the final block.\n",
      "  test_raw.export(test_output_filepath, overwrite=overwrite)\n"
     ]
    },
    {
     "name": "stdout",
     "output_type": "stream",
     "text": [
      "Writing to (PosixPath('/home/paulo/Documents/datasets/OpenBMI/edf/session2/13_train.edf'), PosixPath('/home/paulo/Documents/datasets/OpenBMI/edf/session2/13_test.edf'))\n",
      "Creating RawArray with float64 data, n_channels=62, n_times=1503520\n",
      "    Range : 0 ... 1503519 =      0.000 ...  1503.519 secs\n",
      "Ready.\n",
      "Creating RawArray with float64 data, n_channels=62, n_times=1646840\n",
      "    Range : 0 ... 1646839 =      0.000 ...  1646.839 secs\n",
      "Ready.\n",
      "Overwriting existing file.\n",
      "Overwriting existing file.\n"
     ]
    },
    {
     "name": "stderr",
     "output_type": "stream",
     "text": [
      "/tmp/ipykernel_383656/3899056146.py:73: RuntimeWarning: EDF format requires equal-length data blocks, so 0.48 seconds of zeros were appended to all channels when writing the final block.\n",
      "  train_raw.export(train_output_filepath, overwrite=overwrite)\n",
      "/tmp/ipykernel_383656/3899056146.py:74: RuntimeWarning: EDF format requires equal-length data blocks, so 0.16 seconds of zeros were appended to all channels when writing the final block.\n",
      "  test_raw.export(test_output_filepath, overwrite=overwrite)\n"
     ]
    },
    {
     "name": "stdout",
     "output_type": "stream",
     "text": [
      "Writing to (PosixPath('/home/paulo/Documents/datasets/OpenBMI/edf/session2/16_train.edf'), PosixPath('/home/paulo/Documents/datasets/OpenBMI/edf/session2/16_test.edf'))\n",
      "Creating RawArray with float64 data, n_channels=62, n_times=1358000\n",
      "    Range : 0 ... 1357999 =      0.000 ...  1357.999 secs\n",
      "Ready.\n",
      "Creating RawArray with float64 data, n_channels=62, n_times=1544520\n",
      "    Range : 0 ... 1544519 =      0.000 ...  1544.519 secs\n",
      "Ready.\n",
      "Overwriting existing file.\n",
      "Overwriting existing file.\n"
     ]
    },
    {
     "name": "stderr",
     "output_type": "stream",
     "text": [
      "/tmp/ipykernel_383656/3899056146.py:74: RuntimeWarning: EDF format requires equal-length data blocks, so 0.48 seconds of zeros were appended to all channels when writing the final block.\n",
      "  test_raw.export(test_output_filepath, overwrite=overwrite)\n"
     ]
    },
    {
     "name": "stdout",
     "output_type": "stream",
     "text": [
      "Writing to (PosixPath('/home/paulo/Documents/datasets/OpenBMI/edf/session1/12_train.edf'), PosixPath('/home/paulo/Documents/datasets/OpenBMI/edf/session1/12_test.edf'))\n",
      "Creating RawArray with float64 data, n_channels=62, n_times=1392280\n",
      "    Range : 0 ... 1392279 =      0.000 ...  1392.279 secs\n",
      "Ready.\n",
      "Creating RawArray with float64 data, n_channels=62, n_times=1564040\n",
      "    Range : 0 ... 1564039 =      0.000 ...  1564.039 secs\n",
      "Ready.\n",
      "Overwriting existing file.\n",
      "Overwriting existing file.\n"
     ]
    },
    {
     "name": "stderr",
     "output_type": "stream",
     "text": [
      "/tmp/ipykernel_383656/3899056146.py:73: RuntimeWarning: EDF format requires equal-length data blocks, so 0.72 seconds of zeros were appended to all channels when writing the final block.\n",
      "  train_raw.export(train_output_filepath, overwrite=overwrite)\n",
      "/tmp/ipykernel_383656/3899056146.py:74: RuntimeWarning: EDF format requires equal-length data blocks, so 0.96 seconds of zeros were appended to all channels when writing the final block.\n",
      "  test_raw.export(test_output_filepath, overwrite=overwrite)\n"
     ]
    },
    {
     "name": "stdout",
     "output_type": "stream",
     "text": [
      "Writing to (PosixPath('/home/paulo/Documents/datasets/OpenBMI/edf/session1/2_train.edf'), PosixPath('/home/paulo/Documents/datasets/OpenBMI/edf/session1/2_test.edf'))\n",
      "Creating RawArray with float64 data, n_channels=62, n_times=1434800\n",
      "    Range : 0 ... 1434799 =      0.000 ...  1434.799 secs\n",
      "Ready.\n",
      "Creating RawArray with float64 data, n_channels=62, n_times=1768160\n",
      "    Range : 0 ... 1768159 =      0.000 ...  1768.159 secs\n",
      "Ready.\n",
      "Overwriting existing file.\n",
      "Overwriting existing file.\n"
     ]
    },
    {
     "name": "stderr",
     "output_type": "stream",
     "text": [
      "/tmp/ipykernel_383656/3899056146.py:73: RuntimeWarning: EDF format requires equal-length data blocks, so 0.2 seconds of zeros were appended to all channels when writing the final block.\n",
      "  train_raw.export(train_output_filepath, overwrite=overwrite)\n",
      "/tmp/ipykernel_383656/3899056146.py:74: RuntimeWarning: EDF format requires equal-length data blocks, so 0.84 seconds of zeros were appended to all channels when writing the final block.\n",
      "  test_raw.export(test_output_filepath, overwrite=overwrite)\n"
     ]
    },
    {
     "name": "stdout",
     "output_type": "stream",
     "text": [
      "Writing to (PosixPath('/home/paulo/Documents/datasets/OpenBMI/edf/session1/42_train.edf'), PosixPath('/home/paulo/Documents/datasets/OpenBMI/edf/session1/42_test.edf'))\n",
      "Creating RawArray with float64 data, n_channels=62, n_times=1393600\n",
      "    Range : 0 ... 1393599 =      0.000 ...  1393.599 secs\n",
      "Ready.\n",
      "Creating RawArray with float64 data, n_channels=62, n_times=1628560\n",
      "    Range : 0 ... 1628559 =      0.000 ...  1628.559 secs\n",
      "Ready.\n",
      "Overwriting existing file.\n"
     ]
    },
    {
     "name": "stderr",
     "output_type": "stream",
     "text": [
      "/tmp/ipykernel_383656/3899056146.py:73: RuntimeWarning: EDF format requires equal-length data blocks, so 0.4 seconds of zeros were appended to all channels when writing the final block.\n",
      "  train_raw.export(train_output_filepath, overwrite=overwrite)\n"
     ]
    },
    {
     "name": "stdout",
     "output_type": "stream",
     "text": [
      "Overwriting existing file.\n"
     ]
    },
    {
     "name": "stderr",
     "output_type": "stream",
     "text": [
      "/tmp/ipykernel_383656/3899056146.py:74: RuntimeWarning: EDF format requires equal-length data blocks, so 0.44 seconds of zeros were appended to all channels when writing the final block.\n",
      "  test_raw.export(test_output_filepath, overwrite=overwrite)\n"
     ]
    },
    {
     "name": "stdout",
     "output_type": "stream",
     "text": [
      "Writing to (PosixPath('/home/paulo/Documents/datasets/OpenBMI/edf/session1/18_train.edf'), PosixPath('/home/paulo/Documents/datasets/OpenBMI/edf/session1/18_test.edf'))\n",
      "Creating RawArray with float64 data, n_channels=62, n_times=1623120\n",
      "    Range : 0 ... 1623119 =      0.000 ...  1623.119 secs\n",
      "Ready.\n",
      "Creating RawArray with float64 data, n_channels=62, n_times=1578720\n",
      "    Range : 0 ... 1578719 =      0.000 ...  1578.719 secs\n",
      "Ready.\n",
      "Overwriting existing file.\n",
      "Overwriting existing file.\n"
     ]
    },
    {
     "name": "stderr",
     "output_type": "stream",
     "text": [
      "/tmp/ipykernel_383656/3899056146.py:73: RuntimeWarning: EDF format requires equal-length data blocks, so 0.88 seconds of zeros were appended to all channels when writing the final block.\n",
      "  train_raw.export(train_output_filepath, overwrite=overwrite)\n",
      "/tmp/ipykernel_383656/3899056146.py:74: RuntimeWarning: EDF format requires equal-length data blocks, so 0.28 seconds of zeros were appended to all channels when writing the final block.\n",
      "  test_raw.export(test_output_filepath, overwrite=overwrite)\n"
     ]
    },
    {
     "name": "stdout",
     "output_type": "stream",
     "text": [
      "Writing to (PosixPath('/home/paulo/Documents/datasets/OpenBMI/edf/session2/2_train.edf'), PosixPath('/home/paulo/Documents/datasets/OpenBMI/edf/session2/2_test.edf'))\n",
      "Creating RawArray with float64 data, n_channels=62, n_times=1373920\n",
      "    Range : 0 ... 1373919 =      0.000 ...  1373.919 secs\n",
      "Ready.\n",
      "Creating RawArray with float64 data, n_channels=62, n_times=1710720\n",
      "    Range : 0 ... 1710719 =      0.000 ...  1710.719 secs\n",
      "Ready.\n",
      "Overwriting existing file.\n",
      "Overwriting existing file.\n"
     ]
    },
    {
     "name": "stderr",
     "output_type": "stream",
     "text": [
      "/tmp/ipykernel_383656/3899056146.py:73: RuntimeWarning: EDF format requires equal-length data blocks, so 0.08 seconds of zeros were appended to all channels when writing the final block.\n",
      "  train_raw.export(train_output_filepath, overwrite=overwrite)\n",
      "/tmp/ipykernel_383656/3899056146.py:74: RuntimeWarning: EDF format requires equal-length data blocks, so 0.28 seconds of zeros were appended to all channels when writing the final block.\n",
      "  test_raw.export(test_output_filepath, overwrite=overwrite)\n"
     ]
    },
    {
     "name": "stdout",
     "output_type": "stream",
     "text": [
      "Writing to (PosixPath('/home/paulo/Documents/datasets/OpenBMI/edf/session2/12_train.edf'), PosixPath('/home/paulo/Documents/datasets/OpenBMI/edf/session2/12_test.edf'))\n",
      "Creating RawArray with float64 data, n_channels=62, n_times=1376640\n",
      "    Range : 0 ... 1376639 =      0.000 ...  1376.639 secs\n",
      "Ready.\n",
      "Creating RawArray with float64 data, n_channels=62, n_times=1581320\n",
      "    Range : 0 ... 1581319 =      0.000 ...  1581.319 secs\n",
      "Ready.\n",
      "Overwriting existing file.\n"
     ]
    },
    {
     "name": "stderr",
     "output_type": "stream",
     "text": [
      "/tmp/ipykernel_383656/3899056146.py:73: RuntimeWarning: EDF format requires equal-length data blocks, so 0.36 seconds of zeros were appended to all channels when writing the final block.\n",
      "  train_raw.export(train_output_filepath, overwrite=overwrite)\n"
     ]
    },
    {
     "name": "stdout",
     "output_type": "stream",
     "text": [
      "Overwriting existing file.\n"
     ]
    },
    {
     "name": "stderr",
     "output_type": "stream",
     "text": [
      "/tmp/ipykernel_383656/3899056146.py:74: RuntimeWarning: EDF format requires equal-length data blocks, so 0.68 seconds of zeros were appended to all channels when writing the final block.\n",
      "  test_raw.export(test_output_filepath, overwrite=overwrite)\n"
     ]
    },
    {
     "name": "stdout",
     "output_type": "stream",
     "text": [
      "Writing to (PosixPath('/home/paulo/Documents/datasets/OpenBMI/edf/session1/31_train.edf'), PosixPath('/home/paulo/Documents/datasets/OpenBMI/edf/session1/31_test.edf'))\n",
      "Creating RawArray with float64 data, n_channels=62, n_times=1682240\n",
      "    Range : 0 ... 1682239 =      0.000 ...  1682.239 secs\n",
      "Ready.\n",
      "Creating RawArray with float64 data, n_channels=62, n_times=1655240\n",
      "    Range : 0 ... 1655239 =      0.000 ...  1655.239 secs\n",
      "Ready.\n",
      "Overwriting existing file.\n",
      "Overwriting existing file.\n"
     ]
    },
    {
     "name": "stderr",
     "output_type": "stream",
     "text": [
      "/tmp/ipykernel_383656/3899056146.py:73: RuntimeWarning: EDF format requires equal-length data blocks, so 0.76 seconds of zeros were appended to all channels when writing the final block.\n",
      "  train_raw.export(train_output_filepath, overwrite=overwrite)\n",
      "/tmp/ipykernel_383656/3899056146.py:74: RuntimeWarning: EDF format requires equal-length data blocks, so 0.76 seconds of zeros were appended to all channels when writing the final block.\n",
      "  test_raw.export(test_output_filepath, overwrite=overwrite)\n"
     ]
    },
    {
     "name": "stdout",
     "output_type": "stream",
     "text": [
      "Writing to (PosixPath('/home/paulo/Documents/datasets/OpenBMI/edf/session2/40_train.edf'), PosixPath('/home/paulo/Documents/datasets/OpenBMI/edf/session2/40_test.edf'))\n",
      "Creating RawArray with float64 data, n_channels=62, n_times=1452920\n",
      "    Range : 0 ... 1452919 =      0.000 ...  1452.919 secs\n",
      "Ready.\n",
      "Creating RawArray with float64 data, n_channels=62, n_times=1592440\n",
      "    Range : 0 ... 1592439 =      0.000 ...  1592.439 secs\n",
      "Ready.\n",
      "Overwriting existing file.\n"
     ]
    },
    {
     "name": "stderr",
     "output_type": "stream",
     "text": [
      "/tmp/ipykernel_383656/3899056146.py:73: RuntimeWarning: EDF format requires equal-length data blocks, so 0.08 seconds of zeros were appended to all channels when writing the final block.\n",
      "  train_raw.export(train_output_filepath, overwrite=overwrite)\n"
     ]
    },
    {
     "name": "stdout",
     "output_type": "stream",
     "text": [
      "Overwriting existing file.\n"
     ]
    },
    {
     "name": "stderr",
     "output_type": "stream",
     "text": [
      "/tmp/ipykernel_383656/3899056146.py:74: RuntimeWarning: EDF format requires equal-length data blocks, so 0.56 seconds of zeros were appended to all channels when writing the final block.\n",
      "  test_raw.export(test_output_filepath, overwrite=overwrite)\n"
     ]
    },
    {
     "name": "stdout",
     "output_type": "stream",
     "text": [
      "Writing to (PosixPath('/home/paulo/Documents/datasets/OpenBMI/edf/session2/42_train.edf'), PosixPath('/home/paulo/Documents/datasets/OpenBMI/edf/session2/42_test.edf'))\n",
      "Creating RawArray with float64 data, n_channels=62, n_times=1353000\n",
      "    Range : 0 ... 1352999 =      0.000 ...  1352.999 secs\n",
      "Ready.\n",
      "Creating RawArray with float64 data, n_channels=62, n_times=1586600\n",
      "    Range : 0 ... 1586599 =      0.000 ...  1586.599 secs\n",
      "Ready.\n",
      "Overwriting existing file.\n",
      "Overwriting existing file.\n"
     ]
    },
    {
     "name": "stderr",
     "output_type": "stream",
     "text": [
      "/tmp/ipykernel_383656/3899056146.py:74: RuntimeWarning: EDF format requires equal-length data blocks, so 0.4 seconds of zeros were appended to all channels when writing the final block.\n",
      "  test_raw.export(test_output_filepath, overwrite=overwrite)\n"
     ]
    },
    {
     "name": "stdout",
     "output_type": "stream",
     "text": [
      "Writing to (PosixPath('/home/paulo/Documents/datasets/OpenBMI/edf/session2/48_train.edf'), PosixPath('/home/paulo/Documents/datasets/OpenBMI/edf/session2/48_test.edf'))\n",
      "Creating RawArray with float64 data, n_channels=62, n_times=1354080\n",
      "    Range : 0 ... 1354079 =      0.000 ...  1354.079 secs\n",
      "Ready.\n",
      "Creating RawArray with float64 data, n_channels=62, n_times=1616640\n",
      "    Range : 0 ... 1616639 =      0.000 ...  1616.639 secs\n",
      "Ready.\n",
      "Overwriting existing file.\n"
     ]
    },
    {
     "name": "stderr",
     "output_type": "stream",
     "text": [
      "/tmp/ipykernel_383656/3899056146.py:73: RuntimeWarning: EDF format requires equal-length data blocks, so 0.92 seconds of zeros were appended to all channels when writing the final block.\n",
      "  train_raw.export(train_output_filepath, overwrite=overwrite)\n"
     ]
    },
    {
     "name": "stdout",
     "output_type": "stream",
     "text": [
      "Overwriting existing file.\n"
     ]
    },
    {
     "name": "stderr",
     "output_type": "stream",
     "text": [
      "/tmp/ipykernel_383656/3899056146.py:74: RuntimeWarning: EDF format requires equal-length data blocks, so 0.36 seconds of zeros were appended to all channels when writing the final block.\n",
      "  test_raw.export(test_output_filepath, overwrite=overwrite)\n"
     ]
    },
    {
     "name": "stdout",
     "output_type": "stream",
     "text": [
      "Writing to (PosixPath('/home/paulo/Documents/datasets/OpenBMI/edf/session2/1_train.edf'), PosixPath('/home/paulo/Documents/datasets/OpenBMI/edf/session2/1_test.edf'))\n",
      "Creating RawArray with float64 data, n_channels=62, n_times=1519160\n",
      "    Range : 0 ... 1519159 =      0.000 ...  1519.159 secs\n",
      "Ready.\n",
      "Creating RawArray with float64 data, n_channels=62, n_times=1548480\n",
      "    Range : 0 ... 1548479 =      0.000 ...  1548.479 secs\n",
      "Ready.\n",
      "Overwriting existing file.\n",
      "Overwriting existing file.\n"
     ]
    },
    {
     "name": "stderr",
     "output_type": "stream",
     "text": [
      "/tmp/ipykernel_383656/3899056146.py:73: RuntimeWarning: EDF format requires equal-length data blocks, so 0.84 seconds of zeros were appended to all channels when writing the final block.\n",
      "  train_raw.export(train_output_filepath, overwrite=overwrite)\n",
      "/tmp/ipykernel_383656/3899056146.py:74: RuntimeWarning: EDF format requires equal-length data blocks, so 0.52 seconds of zeros were appended to all channels when writing the final block.\n",
      "  test_raw.export(test_output_filepath, overwrite=overwrite)\n"
     ]
    },
    {
     "name": "stdout",
     "output_type": "stream",
     "text": [
      "Writing to (PosixPath('/home/paulo/Documents/datasets/OpenBMI/edf/session1/11_train.edf'), PosixPath('/home/paulo/Documents/datasets/OpenBMI/edf/session1/11_test.edf'))\n",
      "Creating RawArray with float64 data, n_channels=62, n_times=1653400\n",
      "    Range : 0 ... 1653399 =      0.000 ...  1653.399 secs\n",
      "Ready.\n",
      "Creating RawArray with float64 data, n_channels=62, n_times=1608360\n",
      "    Range : 0 ... 1608359 =      0.000 ...  1608.359 secs\n",
      "Ready.\n",
      "Overwriting existing file.\n"
     ]
    },
    {
     "name": "stderr",
     "output_type": "stream",
     "text": [
      "/tmp/ipykernel_383656/3899056146.py:73: RuntimeWarning: EDF format requires equal-length data blocks, so 0.6 seconds of zeros were appended to all channels when writing the final block.\n",
      "  train_raw.export(train_output_filepath, overwrite=overwrite)\n"
     ]
    },
    {
     "name": "stdout",
     "output_type": "stream",
     "text": [
      "Overwriting existing file.\n"
     ]
    },
    {
     "name": "stderr",
     "output_type": "stream",
     "text": [
      "/tmp/ipykernel_383656/3899056146.py:74: RuntimeWarning: EDF format requires equal-length data blocks, so 0.64 seconds of zeros were appended to all channels when writing the final block.\n",
      "  test_raw.export(test_output_filepath, overwrite=overwrite)\n"
     ]
    },
    {
     "name": "stdout",
     "output_type": "stream",
     "text": [
      "Writing to (PosixPath('/home/paulo/Documents/datasets/OpenBMI/edf/session2/19_train.edf'), PosixPath('/home/paulo/Documents/datasets/OpenBMI/edf/session2/19_test.edf'))\n",
      "Creating RawArray with float64 data, n_channels=62, n_times=1335360\n",
      "    Range : 0 ... 1335359 =      0.000 ...  1335.359 secs\n",
      "Ready.\n",
      "Creating RawArray with float64 data, n_channels=62, n_times=1570720\n",
      "    Range : 0 ... 1570719 =      0.000 ...  1570.719 secs\n",
      "Ready.\n",
      "Overwriting existing file.\n",
      "Overwriting existing file.\n"
     ]
    },
    {
     "name": "stderr",
     "output_type": "stream",
     "text": [
      "/tmp/ipykernel_383656/3899056146.py:73: RuntimeWarning: EDF format requires equal-length data blocks, so 0.64 seconds of zeros were appended to all channels when writing the final block.\n",
      "  train_raw.export(train_output_filepath, overwrite=overwrite)\n",
      "/tmp/ipykernel_383656/3899056146.py:74: RuntimeWarning: EDF format requires equal-length data blocks, so 0.28 seconds of zeros were appended to all channels when writing the final block.\n",
      "  test_raw.export(test_output_filepath, overwrite=overwrite)\n"
     ]
    },
    {
     "name": "stdout",
     "output_type": "stream",
     "text": [
      "Writing to (PosixPath('/home/paulo/Documents/datasets/OpenBMI/edf/session1/1_train.edf'), PosixPath('/home/paulo/Documents/datasets/OpenBMI/edf/session1/1_test.edf'))\n",
      "Creating RawArray with float64 data, n_channels=62, n_times=1418040\n",
      "    Range : 0 ... 1418039 =      0.000 ...  1418.039 secs\n",
      "Ready.\n",
      "Creating RawArray with float64 data, n_channels=62, n_times=1596520\n",
      "    Range : 0 ... 1596519 =      0.000 ...  1596.519 secs\n",
      "Ready.\n",
      "Overwriting existing file.\n",
      "Overwriting existing file.\n"
     ]
    },
    {
     "name": "stderr",
     "output_type": "stream",
     "text": [
      "/tmp/ipykernel_383656/3899056146.py:73: RuntimeWarning: EDF format requires equal-length data blocks, so 0.96 seconds of zeros were appended to all channels when writing the final block.\n",
      "  train_raw.export(train_output_filepath, overwrite=overwrite)\n",
      "/tmp/ipykernel_383656/3899056146.py:74: RuntimeWarning: EDF format requires equal-length data blocks, so 0.48 seconds of zeros were appended to all channels when writing the final block.\n",
      "  test_raw.export(test_output_filepath, overwrite=overwrite)\n"
     ]
    },
    {
     "name": "stdout",
     "output_type": "stream",
     "text": [
      "Writing to (PosixPath('/home/paulo/Documents/datasets/OpenBMI/edf/session1/7_train.edf'), PosixPath('/home/paulo/Documents/datasets/OpenBMI/edf/session1/7_test.edf'))\n",
      "Creating RawArray with float64 data, n_channels=62, n_times=1420160\n",
      "    Range : 0 ... 1420159 =      0.000 ...  1420.159 secs\n",
      "Ready.\n",
      "Creating RawArray with float64 data, n_channels=62, n_times=1616000\n",
      "    Range : 0 ... 1615999 =      0.000 ...  1615.999 secs\n",
      "Ready.\n",
      "Overwriting existing file.\n",
      "Overwriting existing file.\n"
     ]
    },
    {
     "name": "stderr",
     "output_type": "stream",
     "text": [
      "/tmp/ipykernel_383656/3899056146.py:73: RuntimeWarning: EDF format requires equal-length data blocks, so 0.84 seconds of zeros were appended to all channels when writing the final block.\n",
      "  train_raw.export(train_output_filepath, overwrite=overwrite)\n"
     ]
    },
    {
     "name": "stdout",
     "output_type": "stream",
     "text": [
      "Writing to (PosixPath('/home/paulo/Documents/datasets/OpenBMI/edf/session2/15_train.edf'), PosixPath('/home/paulo/Documents/datasets/OpenBMI/edf/session2/15_test.edf'))\n",
      "Creating RawArray with float64 data, n_channels=62, n_times=1450560\n",
      "    Range : 0 ... 1450559 =      0.000 ...  1450.559 secs\n",
      "Ready.\n",
      "Creating RawArray with float64 data, n_channels=62, n_times=1676520\n",
      "    Range : 0 ... 1676519 =      0.000 ...  1676.519 secs\n",
      "Ready.\n",
      "Overwriting existing file.\n",
      "Overwriting existing file.\n"
     ]
    },
    {
     "name": "stderr",
     "output_type": "stream",
     "text": [
      "/tmp/ipykernel_383656/3899056146.py:73: RuntimeWarning: EDF format requires equal-length data blocks, so 0.44 seconds of zeros were appended to all channels when writing the final block.\n",
      "  train_raw.export(train_output_filepath, overwrite=overwrite)\n",
      "/tmp/ipykernel_383656/3899056146.py:74: RuntimeWarning: EDF format requires equal-length data blocks, so 0.48 seconds of zeros were appended to all channels when writing the final block.\n",
      "  test_raw.export(test_output_filepath, overwrite=overwrite)\n"
     ]
    },
    {
     "name": "stdout",
     "output_type": "stream",
     "text": [
      "Writing to (PosixPath('/home/paulo/Documents/datasets/OpenBMI/edf/session1/28_train.edf'), PosixPath('/home/paulo/Documents/datasets/OpenBMI/edf/session1/28_test.edf'))\n",
      "Creating RawArray with float64 data, n_channels=62, n_times=1440240\n",
      "    Range : 0 ... 1440239 =      0.000 ...  1440.239 secs\n",
      "Ready.\n",
      "Creating RawArray with float64 data, n_channels=62, n_times=1638680\n",
      "    Range : 0 ... 1638679 =      0.000 ...  1638.679 secs\n",
      "Ready.\n",
      "Overwriting existing file.\n"
     ]
    },
    {
     "name": "stderr",
     "output_type": "stream",
     "text": [
      "/tmp/ipykernel_383656/3899056146.py:73: RuntimeWarning: EDF format requires equal-length data blocks, so 0.76 seconds of zeros were appended to all channels when writing the final block.\n",
      "  train_raw.export(train_output_filepath, overwrite=overwrite)\n"
     ]
    },
    {
     "name": "stdout",
     "output_type": "stream",
     "text": [
      "Overwriting existing file.\n"
     ]
    },
    {
     "name": "stderr",
     "output_type": "stream",
     "text": [
      "/tmp/ipykernel_383656/3899056146.py:74: RuntimeWarning: EDF format requires equal-length data blocks, so 0.32 seconds of zeros were appended to all channels when writing the final block.\n",
      "  test_raw.export(test_output_filepath, overwrite=overwrite)\n"
     ]
    },
    {
     "name": "stdout",
     "output_type": "stream",
     "text": [
      "Writing to (PosixPath('/home/paulo/Documents/datasets/OpenBMI/edf/session1/49_train.edf'), PosixPath('/home/paulo/Documents/datasets/OpenBMI/edf/session1/49_test.edf'))\n",
      "Creating RawArray with float64 data, n_channels=62, n_times=1375840\n",
      "    Range : 0 ... 1375839 =      0.000 ...  1375.839 secs\n",
      "Ready.\n",
      "Creating RawArray with float64 data, n_channels=62, n_times=1562040\n",
      "    Range : 0 ... 1562039 =      0.000 ...  1562.039 secs\n",
      "Ready.\n",
      "Overwriting existing file.\n",
      "Overwriting existing file.\n"
     ]
    },
    {
     "name": "stderr",
     "output_type": "stream",
     "text": [
      "/tmp/ipykernel_383656/3899056146.py:73: RuntimeWarning: EDF format requires equal-length data blocks, so 0.16 seconds of zeros were appended to all channels when writing the final block.\n",
      "  train_raw.export(train_output_filepath, overwrite=overwrite)\n",
      "/tmp/ipykernel_383656/3899056146.py:74: RuntimeWarning: EDF format requires equal-length data blocks, so 0.96 seconds of zeros were appended to all channels when writing the final block.\n",
      "  test_raw.export(test_output_filepath, overwrite=overwrite)\n"
     ]
    },
    {
     "name": "stdout",
     "output_type": "stream",
     "text": [
      "Writing to (PosixPath('/home/paulo/Documents/datasets/OpenBMI/edf/session2/36_train.edf'), PosixPath('/home/paulo/Documents/datasets/OpenBMI/edf/session2/36_test.edf'))\n",
      "Creating RawArray with float64 data, n_channels=62, n_times=1378800\n",
      "    Range : 0 ... 1378799 =      0.000 ...  1378.799 secs\n",
      "Ready.\n",
      "Creating RawArray with float64 data, n_channels=62, n_times=1564280\n",
      "    Range : 0 ... 1564279 =      0.000 ...  1564.279 secs\n",
      "Ready.\n",
      "Overwriting existing file.\n",
      "Overwriting existing file.\n"
     ]
    },
    {
     "name": "stderr",
     "output_type": "stream",
     "text": [
      "/tmp/ipykernel_383656/3899056146.py:73: RuntimeWarning: EDF format requires equal-length data blocks, so 0.2 seconds of zeros were appended to all channels when writing the final block.\n",
      "  train_raw.export(train_output_filepath, overwrite=overwrite)\n",
      "/tmp/ipykernel_383656/3899056146.py:74: RuntimeWarning: EDF format requires equal-length data blocks, so 0.72 seconds of zeros were appended to all channels when writing the final block.\n",
      "  test_raw.export(test_output_filepath, overwrite=overwrite)\n"
     ]
    },
    {
     "name": "stdout",
     "output_type": "stream",
     "text": [
      "Writing to (PosixPath('/home/paulo/Documents/datasets/OpenBMI/edf/session1/13_train.edf'), PosixPath('/home/paulo/Documents/datasets/OpenBMI/edf/session1/13_test.edf'))\n",
      "Creating RawArray with float64 data, n_channels=62, n_times=1469280\n",
      "    Range : 0 ... 1469279 =      0.000 ...  1469.279 secs\n",
      "Ready.\n",
      "Creating RawArray with float64 data, n_channels=62, n_times=1716360\n",
      "    Range : 0 ... 1716359 =      0.000 ...  1716.359 secs\n",
      "Ready.\n",
      "Overwriting existing file.\n",
      "Overwriting existing file.\n"
     ]
    },
    {
     "name": "stderr",
     "output_type": "stream",
     "text": [
      "/tmp/ipykernel_383656/3899056146.py:73: RuntimeWarning: EDF format requires equal-length data blocks, so 0.72 seconds of zeros were appended to all channels when writing the final block.\n",
      "  train_raw.export(train_output_filepath, overwrite=overwrite)\n",
      "/tmp/ipykernel_383656/3899056146.py:74: RuntimeWarning: EDF format requires equal-length data blocks, so 0.64 seconds of zeros were appended to all channels when writing the final block.\n",
      "  test_raw.export(test_output_filepath, overwrite=overwrite)\n"
     ]
    },
    {
     "name": "stdout",
     "output_type": "stream",
     "text": [
      "Writing to (PosixPath('/home/paulo/Documents/datasets/OpenBMI/edf/session2/37_train.edf'), PosixPath('/home/paulo/Documents/datasets/OpenBMI/edf/session2/37_test.edf'))\n",
      "Creating RawArray with float64 data, n_channels=62, n_times=1486720\n",
      "    Range : 0 ... 1486719 =      0.000 ...  1486.719 secs\n",
      "Ready.\n",
      "Creating RawArray with float64 data, n_channels=62, n_times=1557240\n",
      "    Range : 0 ... 1557239 =      0.000 ...  1557.239 secs\n",
      "Ready.\n",
      "Overwriting existing file.\n"
     ]
    },
    {
     "name": "stderr",
     "output_type": "stream",
     "text": [
      "/tmp/ipykernel_383656/3899056146.py:73: RuntimeWarning: EDF format requires equal-length data blocks, so 0.28 seconds of zeros were appended to all channels when writing the final block.\n",
      "  train_raw.export(train_output_filepath, overwrite=overwrite)\n"
     ]
    },
    {
     "name": "stdout",
     "output_type": "stream",
     "text": [
      "Overwriting existing file.\n"
     ]
    },
    {
     "name": "stderr",
     "output_type": "stream",
     "text": [
      "/tmp/ipykernel_383656/3899056146.py:74: RuntimeWarning: EDF format requires equal-length data blocks, so 0.76 seconds of zeros were appended to all channels when writing the final block.\n",
      "  test_raw.export(test_output_filepath, overwrite=overwrite)\n"
     ]
    },
    {
     "name": "stdout",
     "output_type": "stream",
     "text": [
      "Writing to (PosixPath('/home/paulo/Documents/datasets/OpenBMI/edf/session1/34_train.edf'), PosixPath('/home/paulo/Documents/datasets/OpenBMI/edf/session1/34_test.edf'))\n",
      "Creating RawArray with float64 data, n_channels=62, n_times=1591680\n",
      "    Range : 0 ... 1591679 =      0.000 ...  1591.679 secs\n",
      "Ready.\n",
      "Creating RawArray with float64 data, n_channels=62, n_times=1616480\n",
      "    Range : 0 ... 1616479 =      0.000 ...  1616.479 secs\n",
      "Ready.\n",
      "Overwriting existing file.\n",
      "Overwriting existing file.\n"
     ]
    },
    {
     "name": "stderr",
     "output_type": "stream",
     "text": [
      "/tmp/ipykernel_383656/3899056146.py:73: RuntimeWarning: EDF format requires equal-length data blocks, so 0.32 seconds of zeros were appended to all channels when writing the final block.\n",
      "  train_raw.export(train_output_filepath, overwrite=overwrite)\n",
      "/tmp/ipykernel_383656/3899056146.py:74: RuntimeWarning: EDF format requires equal-length data blocks, so 0.52 seconds of zeros were appended to all channels when writing the final block.\n",
      "  test_raw.export(test_output_filepath, overwrite=overwrite)\n"
     ]
    },
    {
     "name": "stdout",
     "output_type": "stream",
     "text": [
      "Writing to (PosixPath('/home/paulo/Documents/datasets/OpenBMI/edf/session1/38_train.edf'), PosixPath('/home/paulo/Documents/datasets/OpenBMI/edf/session1/38_test.edf'))\n",
      "Creating RawArray with float64 data, n_channels=62, n_times=1474360\n",
      "    Range : 0 ... 1474359 =      0.000 ...  1474.359 secs\n",
      "Ready.\n",
      "Creating RawArray with float64 data, n_channels=62, n_times=1720920\n",
      "    Range : 0 ... 1720919 =      0.000 ...  1720.919 secs\n",
      "Ready.\n",
      "Overwriting existing file.\n",
      "Overwriting existing file.\n"
     ]
    },
    {
     "name": "stderr",
     "output_type": "stream",
     "text": [
      "/tmp/ipykernel_383656/3899056146.py:73: RuntimeWarning: EDF format requires equal-length data blocks, so 0.64 seconds of zeros were appended to all channels when writing the final block.\n",
      "  train_raw.export(train_output_filepath, overwrite=overwrite)\n",
      "/tmp/ipykernel_383656/3899056146.py:74: RuntimeWarning: EDF format requires equal-length data blocks, so 0.08 seconds of zeros were appended to all channels when writing the final block.\n",
      "  test_raw.export(test_output_filepath, overwrite=overwrite)\n"
     ]
    },
    {
     "name": "stdout",
     "output_type": "stream",
     "text": [
      "Writing to (PosixPath('/home/paulo/Documents/datasets/OpenBMI/edf/session2/38_train.edf'), PosixPath('/home/paulo/Documents/datasets/OpenBMI/edf/session2/38_test.edf'))\n",
      "Creating RawArray with float64 data, n_channels=62, n_times=1487360\n",
      "    Range : 0 ... 1487359 =      0.000 ...  1487.359 secs\n",
      "Ready.\n",
      "Creating RawArray with float64 data, n_channels=62, n_times=1703600\n",
      "    Range : 0 ... 1703599 =      0.000 ...  1703.599 secs\n",
      "Ready.\n",
      "Overwriting existing file.\n"
     ]
    },
    {
     "name": "stderr",
     "output_type": "stream",
     "text": [
      "/tmp/ipykernel_383656/3899056146.py:73: RuntimeWarning: EDF format requires equal-length data blocks, so 0.64 seconds of zeros were appended to all channels when writing the final block.\n",
      "  train_raw.export(train_output_filepath, overwrite=overwrite)\n"
     ]
    },
    {
     "name": "stdout",
     "output_type": "stream",
     "text": [
      "Overwriting existing file.\n"
     ]
    },
    {
     "name": "stderr",
     "output_type": "stream",
     "text": [
      "/tmp/ipykernel_383656/3899056146.py:74: RuntimeWarning: EDF format requires equal-length data blocks, so 0.4 seconds of zeros were appended to all channels when writing the final block.\n",
      "  test_raw.export(test_output_filepath, overwrite=overwrite)\n"
     ]
    },
    {
     "name": "stdout",
     "output_type": "stream",
     "text": [
      "Writing to (PosixPath('/home/paulo/Documents/datasets/OpenBMI/edf/session1/30_train.edf'), PosixPath('/home/paulo/Documents/datasets/OpenBMI/edf/session1/30_test.edf'))\n",
      "Creating RawArray with float64 data, n_channels=62, n_times=1582560\n",
      "    Range : 0 ... 1582559 =      0.000 ...  1582.559 secs\n",
      "Ready.\n",
      "Creating RawArray with float64 data, n_channels=62, n_times=1678840\n",
      "    Range : 0 ... 1678839 =      0.000 ...  1678.839 secs\n",
      "Ready.\n",
      "Overwriting existing file.\n",
      "Overwriting existing file.\n"
     ]
    },
    {
     "name": "stderr",
     "output_type": "stream",
     "text": [
      "/tmp/ipykernel_383656/3899056146.py:73: RuntimeWarning: EDF format requires equal-length data blocks, so 0.44 seconds of zeros were appended to all channels when writing the final block.\n",
      "  train_raw.export(train_output_filepath, overwrite=overwrite)\n",
      "/tmp/ipykernel_383656/3899056146.py:74: RuntimeWarning: EDF format requires equal-length data blocks, so 0.16 seconds of zeros were appended to all channels when writing the final block.\n",
      "  test_raw.export(test_output_filepath, overwrite=overwrite)\n"
     ]
    }
   ],
   "source": [
    "path = Path(\"/home/paulo/Documents/datasets/OpenBMI/\")\n",
    "edf_path = path / \"edf\"\n",
    "edf_path.mkdir(exist_ok=True)\n",
    "\n",
    "session1_path = edf_path / \"session1\"\n",
    "session2_path = edf_path / \"session2\"\n",
    "\n",
    "session1_path.mkdir(exist_ok=True)\n",
    "session2_path.mkdir(exist_ok=True)\n",
    "uids = list()\n",
    "# for filepath in [Path(\"/home/paulo/Documents/datasets/OpenBMI/sess01_subj18_EEG_MI.mat\")]:#path.glob(\"*.mat\"):\n",
    "for filepath in path.glob(\"*.mat\"):\n",
    "\n",
    "    if not filepath.name.startswith(\"sess\"):\n",
    "        continue\n",
    "    session = int(filepath.name.split(\"_\")[0][-2:])\n",
    "    uid = int(filepath.name.split(\"_\")[1][-2:])\n",
    "    \n",
    "    session_path = session1_path if session == 1 else session2_path\n",
    "\n",
    "    output_filepaths = (session_path / f\"{uid}_train.edf\", session_path / f\"{uid}_test.edf\",)\n",
    "    print(\"Writing to\", output_filepaths)\n",
    "    mat_to_edf(filepath, output_filepaths, overwrite=True)\n"
   ]
  },
  {
   "cell_type": "code",
   "execution_count": 7,
   "id": "849c7968",
   "metadata": {},
   "outputs": [
    {
     "name": "stdout",
     "output_type": "stream",
     "text": [
      "/home/paulo/Documents/datasets/OpenBMI/sess01_subj51_EEG_MI.mat\n",
      "/home/paulo/Documents/datasets/OpenBMI/sess02_subj31_EEG_MI.mat\n",
      "/home/paulo/Documents/datasets/OpenBMI/sess01_subj14_EEG_MI.mat\n",
      "/home/paulo/Documents/datasets/OpenBMI/sess02_subj10_EEG_MI.mat\n",
      "/home/paulo/Documents/datasets/OpenBMI/sess01_subj35_EEG_MI.mat\n",
      "/home/paulo/Documents/datasets/OpenBMI/sess02_subj47_EEG_MI.mat\n",
      "/home/paulo/Documents/datasets/OpenBMI/sess01_subj50_EEG_MI.mat\n",
      "/home/paulo/Documents/datasets/OpenBMI/sess02_subj26_EEG_MI.mat\n",
      "/home/paulo/Documents/datasets/OpenBMI/sess01_subj19_EEG_MI.mat\n",
      "/home/paulo/Documents/datasets/OpenBMI/sess01_subj22_EEG_MI.mat\n",
      "/home/paulo/Documents/datasets/OpenBMI/sess01_subj25_EEG_MI.mat\n",
      "/home/paulo/Documents/datasets/OpenBMI/sess02_subj07_EEG_MI.mat\n",
      "/home/paulo/Documents/datasets/OpenBMI/sess01_subj39_EEG_MI.mat\n",
      "/home/paulo/Documents/datasets/OpenBMI/sess01_subj43_EEG_MI.mat\n",
      "/home/paulo/Documents/datasets/OpenBMI/sess02_subj05_EEG_MI.mat\n",
      "/home/paulo/Documents/datasets/OpenBMI/sess02_subj54_EEG_MI.mat\n",
      "/home/paulo/Documents/datasets/OpenBMI/sess02_subj51_EEG_MI.mat\n",
      "/home/paulo/Documents/datasets/OpenBMI/sess01_subj36_EEG_MI.mat\n",
      "/home/paulo/Documents/datasets/OpenBMI/sess02_subj17_EEG_MI.mat\n",
      "/home/paulo/Documents/datasets/OpenBMI/sess01_subj05_EEG_MI.mat\n",
      "/home/paulo/Documents/datasets/OpenBMI/sess01_subj37_EEG_MI.mat\n",
      "/home/paulo/Documents/datasets/OpenBMI/sess01_subj20_EEG_MI.mat\n",
      "/home/paulo/Documents/datasets/OpenBMI/sess02_subj34_EEG_MI.mat\n",
      "/home/paulo/Documents/datasets/OpenBMI/sess02_subj52_EEG_MI.mat\n",
      "/home/paulo/Documents/datasets/OpenBMI/sess02_subj11_EEG_MI.mat\n",
      "/home/paulo/Documents/datasets/OpenBMI/sess02_subj18_EEG_MI.mat\n",
      "/home/paulo/Documents/datasets/OpenBMI/sess01_subj16_EEG_MI.mat\n",
      "/home/paulo/Documents/datasets/OpenBMI/sess02_subj35_EEG_MI.mat\n",
      "/home/paulo/Documents/datasets/OpenBMI/sess02_subj14_EEG_MI.mat\n",
      "/home/paulo/Documents/datasets/OpenBMI/sess01_subj45_EEG_MI.mat\n",
      "/home/paulo/Documents/datasets/OpenBMI/sess01_subj40_EEG_MI.mat\n",
      "/home/paulo/Documents/datasets/OpenBMI/sess02_subj30_EEG_MI.mat\n",
      "/home/paulo/Documents/datasets/OpenBMI/sess02_subj09_EEG_MI.mat\n",
      "/home/paulo/Documents/datasets/OpenBMI/sess01_subj03_EEG_MI.mat\n",
      "/home/paulo/Documents/datasets/OpenBMI/sess01_subj53_EEG_MI.mat\n",
      "/home/paulo/Documents/datasets/OpenBMI/sess01_subj17_EEG_MI.mat\n",
      "/home/paulo/Documents/datasets/OpenBMI/sess01_subj10_EEG_MI.mat\n",
      "/home/paulo/Documents/datasets/OpenBMI/sess02_subj20_EEG_MI.mat\n",
      "/home/paulo/Documents/datasets/OpenBMI/sess02_subj49_EEG_MI.mat\n",
      "/home/paulo/Documents/datasets/OpenBMI/sess01_subj46_EEG_MI.mat\n",
      "/home/paulo/Documents/datasets/OpenBMI/sess01_subj27_EEG_MI.mat\n",
      "/home/paulo/Documents/datasets/OpenBMI/sess02_subj43_EEG_MI.mat\n",
      "/home/paulo/Documents/datasets/OpenBMI/sess01_subj09_EEG_MI.mat\n",
      "/home/paulo/Documents/datasets/OpenBMI/sess02_subj24_EEG_MI.mat\n",
      "/home/paulo/Documents/datasets/OpenBMI/sess02_subj23_EEG_MI.mat\n",
      "/home/paulo/Documents/datasets/OpenBMI/sess02_subj39_EEG_MI.mat\n",
      "/home/paulo/Documents/datasets/OpenBMI/sess01_subj47_EEG_MI.mat\n",
      "/home/paulo/Documents/datasets/OpenBMI/sess01_subj52_EEG_MI.mat\n",
      "/home/paulo/Documents/datasets/OpenBMI/sess02_subj08_EEG_MI.mat\n",
      "/home/paulo/Documents/datasets/OpenBMI/sess01_subj06_EEG_MI.mat\n",
      "/home/paulo/Documents/datasets/OpenBMI/sess01_subj32_EEG_MI.mat\n",
      "/home/paulo/Documents/datasets/OpenBMI/random_cell_order.mat\n",
      "/home/paulo/Documents/datasets/OpenBMI/sess01_subj44_EEG_MI.mat\n",
      "/home/paulo/Documents/datasets/OpenBMI/sess02_subj29_EEG_MI.mat\n",
      "/home/paulo/Documents/datasets/OpenBMI/sess02_subj21_EEG_MI.mat\n",
      "/home/paulo/Documents/datasets/OpenBMI/sess01_subj24_EEG_MI.mat\n",
      "/home/paulo/Documents/datasets/OpenBMI/sess01_subj21_EEG_MI.mat\n",
      "/home/paulo/Documents/datasets/OpenBMI/sess02_subj06_EEG_MI.mat\n",
      "/home/paulo/Documents/datasets/OpenBMI/sess02_subj33_EEG_MI.mat\n",
      "/home/paulo/Documents/datasets/OpenBMI/sess01_subj15_EEG_MI.mat\n",
      "/home/paulo/Documents/datasets/OpenBMI/sess01_subj29_EEG_MI.mat\n",
      "/home/paulo/Documents/datasets/OpenBMI/sess02_subj04_EEG_MI.mat\n",
      "/home/paulo/Documents/datasets/OpenBMI/sess02_subj46_EEG_MI.mat\n",
      "/home/paulo/Documents/datasets/OpenBMI/sess02_subj50_EEG_MI.mat\n",
      "/home/paulo/Documents/datasets/OpenBMI/sess01_subj23_EEG_MI.mat\n",
      "/home/paulo/Documents/datasets/OpenBMI/sess02_subj28_EEG_MI.mat\n",
      "/home/paulo/Documents/datasets/OpenBMI/sess01_subj08_EEG_MI.mat\n",
      "/home/paulo/Documents/datasets/OpenBMI/sess02_subj03_EEG_MI.mat\n",
      "/home/paulo/Documents/datasets/OpenBMI/sess02_subj53_EEG_MI.mat\n",
      "/home/paulo/Documents/datasets/OpenBMI/sess02_subj32_EEG_MI.mat\n",
      "/home/paulo/Documents/datasets/OpenBMI/sess02_subj27_EEG_MI.mat\n",
      "/home/paulo/Documents/datasets/OpenBMI/sess01_subj41_EEG_MI.mat\n",
      "/home/paulo/Documents/datasets/OpenBMI/sess01_subj33_EEG_MI.mat\n",
      "/home/paulo/Documents/datasets/OpenBMI/sess02_subj44_EEG_MI.mat\n",
      "/home/paulo/Documents/datasets/OpenBMI/sess02_subj41_EEG_MI.mat\n",
      "/home/paulo/Documents/datasets/OpenBMI/sess01_subj26_EEG_MI.mat\n",
      "/home/paulo/Documents/datasets/OpenBMI/sess02_subj22_EEG_MI.mat\n",
      "/home/paulo/Documents/datasets/OpenBMI/sess01_subj48_EEG_MI.mat\n",
      "/home/paulo/Documents/datasets/OpenBMI/sess02_subj25_EEG_MI.mat\n",
      "/home/paulo/Documents/datasets/OpenBMI/sess01_subj04_EEG_MI.mat\n",
      "/home/paulo/Documents/datasets/OpenBMI/sess02_subj45_EEG_MI.mat\n",
      "/home/paulo/Documents/datasets/OpenBMI/sess01_subj54_EEG_MI.mat\n",
      "/home/paulo/Documents/datasets/OpenBMI/sess02_subj13_EEG_MI.mat\n",
      "/home/paulo/Documents/datasets/OpenBMI/sess02_subj16_EEG_MI.mat\n",
      "/home/paulo/Documents/datasets/OpenBMI/sess01_subj12_EEG_MI.mat\n",
      "/home/paulo/Documents/datasets/OpenBMI/sess01_subj02_EEG_MI.mat\n",
      "/home/paulo/Documents/datasets/OpenBMI/sess01_subj42_EEG_MI.mat\n",
      "/home/paulo/Documents/datasets/OpenBMI/sess01_subj18_EEG_MI.mat\n",
      "/home/paulo/Documents/datasets/OpenBMI/sess02_subj02_EEG_MI.mat\n",
      "/home/paulo/Documents/datasets/OpenBMI/sess02_subj12_EEG_MI.mat\n",
      "/home/paulo/Documents/datasets/OpenBMI/sess01_subj31_EEG_MI.mat\n",
      "/home/paulo/Documents/datasets/OpenBMI/sess02_subj40_EEG_MI.mat\n",
      "/home/paulo/Documents/datasets/OpenBMI/sess02_subj42_EEG_MI.mat\n",
      "/home/paulo/Documents/datasets/OpenBMI/sess02_subj48_EEG_MI.mat\n",
      "/home/paulo/Documents/datasets/OpenBMI/sess02_subj01_EEG_MI.mat\n",
      "/home/paulo/Documents/datasets/OpenBMI/sess01_subj11_EEG_MI.mat\n",
      "/home/paulo/Documents/datasets/OpenBMI/sess02_subj19_EEG_MI.mat\n",
      "/home/paulo/Documents/datasets/OpenBMI/sess01_subj01_EEG_MI.mat\n",
      "/home/paulo/Documents/datasets/OpenBMI/sess01_subj07_EEG_MI.mat\n",
      "/home/paulo/Documents/datasets/OpenBMI/sess02_subj15_EEG_MI.mat\n",
      "/home/paulo/Documents/datasets/OpenBMI/sess01_subj28_EEG_MI.mat\n",
      "/home/paulo/Documents/datasets/OpenBMI/sess01_subj49_EEG_MI.mat\n",
      "/home/paulo/Documents/datasets/OpenBMI/sess02_subj36_EEG_MI.mat\n",
      "/home/paulo/Documents/datasets/OpenBMI/sess01_subj13_EEG_MI.mat\n",
      "/home/paulo/Documents/datasets/OpenBMI/sess02_subj37_EEG_MI.mat\n",
      "/home/paulo/Documents/datasets/OpenBMI/sess01_subj34_EEG_MI.mat\n",
      "/home/paulo/Documents/datasets/OpenBMI/sess01_subj38_EEG_MI.mat\n",
      "/home/paulo/Documents/datasets/OpenBMI/sess02_subj38_EEG_MI.mat\n",
      "/home/paulo/Documents/datasets/OpenBMI/sess01_subj30_EEG_MI.mat\n"
     ]
    }
   ],
   "source": [
    "path = Path(\"/home/paulo/Documents/datasets/OpenBMI/\")\n",
    "edf_path = path / \"edf\"\n",
    "edf_path.mkdir(exist_ok=True)\n",
    "\n",
    "session1_path = edf_path / \"session1\"\n",
    "session2_path = edf_path / \"session2\"\n",
    "\n",
    "session1_path.mkdir(exist_ok=True)\n",
    "session2_path.mkdir(exist_ok=True)\n",
    "\n",
    "for filepath in path.glob(\"*.mat\"):\n",
    "    print(filepath)"
   ]
  }
 ],
 "metadata": {
  "kernelspec": {
   "display_name": "Python 3 (ipykernel)",
   "language": "python",
   "name": "python3"
  },
  "language_info": {
   "codemirror_mode": {
    "name": "ipython",
    "version": 3
   },
   "file_extension": ".py",
   "mimetype": "text/x-python",
   "name": "python",
   "nbconvert_exporter": "python",
   "pygments_lexer": "ipython3",
   "version": "3.9.0"
  }
 },
 "nbformat": 4,
 "nbformat_minor": 5
}
