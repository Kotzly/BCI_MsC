{
 "cells": [
  {
   "cell_type": "code",
   "execution_count": 1,
   "id": "leading-burlington",
   "metadata": {},
   "outputs": [],
   "source": [
    "from ica_benchmark.scoring import mutual_information, coherence, correntropy, apply_pairwise, apply_pairwise_parallel, SCORING_FN_DICT\n",
    "from ica_benchmark.processing.ica import get_ica_transformers\n",
    "import time\n",
    "from ica_benchmark.io.load import join_gdfs_to_numpy, load_subjects_data, load_subject_data\n",
    "from ica_benchmark.processing.label import get_annotations\n",
    "from mne import find_events, events_from_annotations\n",
    "from mne.viz import plot_events\n",
    "from mne.io import read_raw_gdf\n"
   ]
  },
  {
   "cell_type": "code",
   "execution_count": 2,
   "id": "demographic-mistake",
   "metadata": {},
   "outputs": [],
   "source": [
    "from pathlib import Path\n",
    "\n",
    "root = Path(\"C:/Users/paull/Documents/GIT/BCI_MsC/notebooks/BCI_Comp_IV_2a/BCICIV_2a_gdf\")\n",
    "\n",
    "subjects =  {\n",
    "    \"A01\": [\n",
    "        \"C:\\\\Users\\\\paull\\\\Documents\\\\GIT\\\\BCI_MsC\\\\notebooks\\\\BCI_Comp_IV_2a\\\\BCICIV_2a_gdf\\\\A01E.gdf\",\n",
    "        \"C:\\\\Users\\\\paull\\\\Documents\\\\GIT\\\\BCI_MsC\\\\notebooks\\\\BCI_Comp_IV_2a\\\\BCICIV_2a_gdf\\\\A01T.gdf\"\n",
    "    ]\n",
    "}\n"
   ]
  },
  {
   "cell_type": "code",
   "execution_count": 3,
   "id": "prostate-petersburg",
   "metadata": {},
   "outputs": [],
   "source": [
    "data = load_subjects_data(root, subjects)"
   ]
  },
  {
   "cell_type": "code",
   "execution_count": 4,
   "id": "approximate-verse",
   "metadata": {},
   "outputs": [
    {
     "data": {
      "text/plain": [
       "((1359528, 22), (1359528, 11))"
      ]
     },
     "execution_count": 4,
     "metadata": {},
     "output_type": "execute_result"
    }
   ],
   "source": [
    "arr = data[\"A01\"][\"gdf\"]._data.T\n",
    "labels = data[\"A01\"][\"labels\"]\n",
    "arr.shape, labels.shape"
   ]
  },
  {
   "cell_type": "code",
   "execution_count": 5,
   "id": "surprising-dover",
   "metadata": {},
   "outputs": [],
   "source": [
    "from mne.time_frequency import psd_multitaper, tfr_array_multitaper, psd_array_multitaper\n",
    "import numpy as np\n",
    "import matplotlib.pyplot as plt\n",
    "from ica_benchmark.processing.ica import create_gdf_obj"
   ]
  },
  {
   "cell_type": "code",
   "execution_count": 7,
   "id": "personalized-modeling",
   "metadata": {},
   "outputs": [
    {
     "data": {
      "text/plain": [
       "(1, 22, 1359528)"
      ]
     },
     "execution_count": 7,
     "metadata": {},
     "output_type": "execute_result"
    }
   ],
   "source": [
    "arr = np.expand_dims(arr.T, axis=0)\n",
    "arr.shape"
   ]
  },
  {
   "cell_type": "code",
   "execution_count": 10,
   "id": "convinced-angle",
   "metadata": {},
   "outputs": [],
   "source": [
    "res = tfr_array_multitaper(arr, 250, np.linspace(1, 12, 12), output=\"power\", n_cycles=3, decim=10)\n",
    "res = res.squeeze()"
   ]
  },
  {
   "cell_type": "code",
   "execution_count": null,
   "id": "paperback-delay",
   "metadata": {},
   "outputs": [],
   "source": [
    "plt.figure(figsize=(30, 5))\n",
    "plt.imshow(res[0, :, :])"
   ]
  },
  {
   "cell_type": "code",
   "execution_count": 14,
   "id": "polish-october",
   "metadata": {},
   "outputs": [
    {
     "data": {
      "text/plain": [
       "[<matplotlib.lines.Line2D at 0x1d03714b2e0>]"
      ]
     },
     "execution_count": 14,
     "metadata": {},
     "output_type": "execute_result"
    },
    {
     "data": {
      "image/png": "[encoded data removed]",
      "text/plain": [
       "<Figure size 432x288 with 1 Axes>"
      ]
     },
     "metadata": {
      "needs_background": "light"
     },
     "output_type": "display_data"
    }
   ],
   "source": [
    "plt.plot(arr[0, 0, :])"
   ]
  },
  {
   "cell_type": "code",
   "execution_count": 239,
   "id": "allied-tobacco",
   "metadata": {},
   "outputs": [],
   "source": [
    "from torch.utils.data import IterableDataset, DataLoader\n",
    "import torch\n",
    "from statistics import mode\n",
    "\n",
    "DEFAULT_FREQUENCIES = np.linspace(1, 30, 30)\n",
    "\n",
    "DEFAULT_TRF_KWARGS = dict(\n",
    "    sfreq=250.0,\n",
    "    freqs=DEFAULT_FREQUENCIES, \n",
    "#     n_cycles=7.0,\n",
    "    n_cycles=3.0,\n",
    "    zero_mean=True,\n",
    "    time_bandwidth=4,\n",
    "#     use_fft=True,\n",
    "    decim=1,\n",
    "    output='power',\n",
    "    n_jobs=1,\n",
    ")\n",
    "\n",
    "DEFAULT_PSD_KWARGS = dict(\n",
    "    sfreq=250.0,\n",
    "    fmin=0,\n",
    "    fmax=np.inf,\n",
    "    bandwidth=None,\n",
    "    verbose=0,\n",
    ")\n",
    "\n",
    "def tfr_multitaper(\n",
    "    arr,\n",
    "    epochs_mode=False,\n",
    "    feature_format=None,\n",
    "    **mne_kwargs\n",
    "):\n",
    "    \n",
    "    if not mne_kwargs:\n",
    "        mne_kwargs = DEFAULT_TRF_KWARGS\n",
    "    \n",
    "    # arr is (n_times, n_channels)\n",
    "    if not epochs_mode:\n",
    "        assert arr.ndim == 2, \"The input array must be of shape (n_times, n_channels)\"\n",
    "        # to (n_channels, n_times)\n",
    "        arr = np.expand_dims(arr.T, axis=0)\n",
    "    else:\n",
    "        assert arr.ndim == 3, \"The input array must be of shape (n_epochs, n_times, n_channels)\"\n",
    "        # to (n_epochs, n_channels, n_times)\n",
    "        arr = arr.transpose(0, 2, 1)\n",
    "    \n",
    "    # input (n_epochs, n_channels, n_times)\n",
    "    tfr_psd = tfr_array_multitaper(\n",
    "        arr,\n",
    "        **mne_kwargs\n",
    "    )\n",
    "    # output = (n_epochs, n_chans, n_freqs, n_times)\n",
    "    \n",
    "    if feature_format is None:\n",
    "        return tfr_psd\n",
    "    \n",
    "    n_epochs, n_chans, n_freqs, n_times = tfr_psd.shape\n",
    "    if feature_format:\n",
    "        #(n_epochs, n_chans, n_freqs, n_times) -> (size, features)\n",
    "        tfr_psd = tfr_psd\\\n",
    "            .transpose(0, 3, 1, 2)\\\n",
    "            .reshape(n_epochs, n_times, n_chans * n_freqs)\n",
    "    else:\n",
    "        tfr_psd = tfr_psd.transpose(0, 3, 1, 2)\n",
    "        \n",
    "    tfr_psd = tfr_psd.squeeze() if n_epochs == 1 else tfr_psd\n",
    "    \n",
    "    return tfr_psd\n",
    "\n",
    "def psd_multitaper(\n",
    "    arr,\n",
    "    **mne_kwargs\n",
    "    ):\n",
    "\n",
    "    if not mne_kwargs:\n",
    "        mne_kwargs = DEFAULT_PSD_KWARGS\n",
    "\n",
    "    psd, freqs = psd_array_multitaper(\n",
    "        arr.T,\n",
    "        **mne_kwargs\n",
    "    )\n",
    "    psd = np.expand_dims(psd.T, axis=0)\n",
    "    \n",
    "    return psd, freqs\n",
    "\n",
    "def with_default(value, default):\n",
    "    return value if value is not None else default\n",
    "\n",
    "class WindowTransformer():\n",
    "\n",
    "    def __init__(\n",
    "        self,\n",
    "        feature_transform_fn,\n",
    "        label_transform_fn=mode,\n",
    "        window_size=250,\n",
    "        stride=125,\n",
    "        iterator_mode=False,\n",
    "        ):\n",
    "\n",
    "        self.feature_transform_fn = feature_transform_fn\n",
    "        self.label_transform_fn = label_transform_fn\n",
    "        self.window_size = window_size\n",
    "        self.stride = stride\n",
    "        self.iterator_mode = iterator_mode\n",
    "\n",
    "    def transform(self, x, y=None, start=None, end=None):\n",
    "        \n",
    "        size = len(x)\n",
    "        start, end = with_default(start, 0), with_default(end, size)\n",
    "\n",
    "        if y is not None:\n",
    "            assert len(x) == len(y), \"X and Y must have same sizes\"\n",
    "\n",
    "        if self.iterator_mode:\n",
    "            return self._transform_iter(x, y=y, start=start, end=end)\n",
    "        else:\n",
    "            return self._transform_list(x, y=y, start=start, end=end)\n",
    "\n",
    "    def _transform_list(self, x, y=None, start=None, end=None):\n",
    "        \n",
    "        with_y = y is not None\n",
    "\n",
    "        output_x, output_y = list(), list()\n",
    "\n",
    "        for step in range(start, end, self.stride):\n",
    "\n",
    "            if step + self.window_size > end:\n",
    "                break\n",
    "\n",
    "            item_x = self.feature_transform_fn(x[step : step + self.window_size])\n",
    "            if with_y:\n",
    "                item_y = self.label_transform_fn(y[step : step + self.window_size])\n",
    "            else:\n",
    "                item_y = None\n",
    "\n",
    "            return_items = item_x if with_y else (item_x, item_y)\n",
    "\n",
    "            output_x.append(item_x)\n",
    "            output_y.append(item_y)\n",
    "        \n",
    "        output_x = np.concatenate(output_x, axis=0)\n",
    "\n",
    "        if with_y:\n",
    "            output_y = np.array(output_y)\n",
    "\n",
    "        return (output_x, output_y) if with_y else output_x\n",
    "\n",
    "    def _transform_iter(self, x, y=None, start=None, end=None):\n",
    "        \n",
    "        with_y = y is not None\n",
    "        \n",
    "        if y is not None:\n",
    "            assert len(x) == len(y), \"X and Y must have same sizes\"\n",
    "\n",
    "        output_x, output_y = list(), list()\n",
    "\n",
    "        for step in range(start, end, self.stride):\n",
    "\n",
    "            if step + self.window_size > end:\n",
    "                break\n",
    "\n",
    "            item_x = self.feature_transform_fn(x[step : step + self.window_size])\n",
    "            if with_y:\n",
    "                item_y = self.label_transform_fn(y[step : step + self.window_size])\n",
    "            else:\n",
    "                item_y = None\n",
    "\n",
    "            return_items = (item_x, item_y) if with_y else item_x\n",
    "\n",
    "            yield return_items\n",
    "\n",
    "\n",
    "class TFRDataset(IterableDataset):\n",
    "    def __init__(self, arr, start=None, end=None, window_size=250, stride=125):\n",
    "        super(TFRDataset).__init__()\n",
    "        \n",
    "        if start is None:\n",
    "            start = 0\n",
    "        if end is None:\n",
    "            end = len(arr)\n",
    "        \n",
    "        assert end > start, \"this example code only works with end >= start\"\n",
    "\n",
    "        self.start = start\n",
    "        self.end = end\n",
    "        self.arr = arr\n",
    "        self.labels = labels\n",
    "        self.window_size = window_size\n",
    "        self.stride = stride\n",
    "\n",
    "    def __iter__(self):\n",
    "        worker_info = torch.utils.data.get_worker_info()\n",
    "        if worker_info is None:  # single-process data loading, return the full iterator\n",
    "            iter_start = self.start\n",
    "            iter_end = self.end\n",
    "        else:  # in a worker process\n",
    "            # split workload\n",
    "            per_worker = int(np.ceil((self.end - self.start) / float(worker_info.num_workers)))\n",
    "            worker_id = worker_info.id\n",
    "            iter_start = self.start + worker_id * per_worker\n",
    "            iter_end = min(iter_start + per_worker, self.end)\n",
    "\n",
    "        feature_iter = window_gen(\n",
    "            self.arr,\n",
    "            start = iter_start,\n",
    "            end = iter_end,\n",
    "            window_size = self.window_size,\n",
    "            stride = self.stride\n",
    "        )\n",
    "        \n",
    "        return feature_iter"
   ]
  },
  {
   "cell_type": "code",
   "execution_count": 240,
   "id": "danish-knife",
   "metadata": {},
   "outputs": [],
   "source": [
    "arr = np.random.rand(10000, 5)\n",
    "label = np.random.randint(0, 10, 10000)\n",
    "# tfr_multitaper(arr, epochs_mode=False, iter_mode=).shape, psd_multitaper(arr)[1].shape\n",
    "f_trans = lambda x: psd_multitaper(x)[0]\n",
    "transformer = WindowTransformer(feature_transform_fn=f_trans, window_size=1000, stride=500, iterator_mode=False)\n",
    "a, b = transformer.transform(arr, label)"
   ]
  },
  {
   "cell_type": "code",
   "execution_count": 242,
   "id": "informal-kitty",
   "metadata": {},
   "outputs": [
    {
     "data": {
      "text/plain": [
       "(19, 501, 5)"
      ]
     },
     "execution_count": 242,
     "metadata": {},
     "output_type": "execute_result"
    }
   ],
   "source": [
    "a.shape"
   ]
  },
  {
   "cell_type": "code",
   "execution_count": 20,
   "id": "legendary-tactics",
   "metadata": {},
   "outputs": [
    {
     "data": {
      "text/plain": [
       "(5, 13681)"
      ]
     },
     "execution_count": 20,
     "metadata": {},
     "output_type": "execute_result"
    }
   ],
   "source": [
    "psd_array_multitaper(arr.T, sfreq=250, fmin=10, fmax=124)[0].shape\n"
   ]
  },
  {
   "cell_type": "code",
   "execution_count": 22,
   "id": "brazilian-poker",
   "metadata": {},
   "outputs": [],
   "source": [
    "a = np.sin(np.linspace(-10, 10, 1000)).reshape(1, -1) + np.sin(5 * np.linspace(-10, 10, 1000)).reshape(1, -1) + np.sin(15 * np.linspace(-10, 10, 1000)).reshape(1, -1)\n",
    "psd, freqs = psd_array_multitaper(a, sfreq=250, fmax=30)\n",
    "# psd.shape"
   ]
  },
  {
   "cell_type": "code",
   "execution_count": 23,
   "id": "asian-geometry",
   "metadata": {},
   "outputs": [
    {
     "data": {
      "text/plain": [
       "array([ 0.  ,  0.25,  0.5 ,  0.75,  1.  ,  1.25,  1.5 ,  1.75,  2.  ,\n",
       "        2.25,  2.5 ,  2.75,  3.  ,  3.25,  3.5 ,  3.75,  4.  ,  4.25,\n",
       "        4.5 ,  4.75,  5.  ,  5.25,  5.5 ,  5.75,  6.  ,  6.25,  6.5 ,\n",
       "        6.75,  7.  ,  7.25,  7.5 ,  7.75,  8.  ,  8.25,  8.5 ,  8.75,\n",
       "        9.  ,  9.25,  9.5 ,  9.75, 10.  , 10.25, 10.5 , 10.75, 11.  ,\n",
       "       11.25, 11.5 , 11.75, 12.  , 12.25, 12.5 , 12.75, 13.  , 13.25,\n",
       "       13.5 , 13.75, 14.  , 14.25, 14.5 , 14.75, 15.  , 15.25, 15.5 ,\n",
       "       15.75, 16.  , 16.25, 16.5 , 16.75, 17.  , 17.25, 17.5 , 17.75,\n",
       "       18.  , 18.25, 18.5 , 18.75, 19.  , 19.25, 19.5 , 19.75, 20.  ,\n",
       "       20.25, 20.5 , 20.75, 21.  , 21.25, 21.5 , 21.75, 22.  , 22.25,\n",
       "       22.5 , 22.75, 23.  , 23.25, 23.5 , 23.75, 24.  , 24.25, 24.5 ,\n",
       "       24.75, 25.  , 25.25, 25.5 , 25.75, 26.  , 26.25, 26.5 , 26.75,\n",
       "       27.  , 27.25, 27.5 , 27.75, 28.  , 28.25, 28.5 , 28.75, 29.  ,\n",
       "       29.25, 29.5 , 29.75, 30.  ])"
      ]
     },
     "execution_count": 23,
     "metadata": {},
     "output_type": "execute_result"
    }
   ],
   "source": [
    "freqs"
   ]
  },
  {
   "cell_type": "code",
   "execution_count": 154,
   "id": "dutch-evidence",
   "metadata": {},
   "outputs": [
    {
     "data": {
      "text/plain": [
       "[<matplotlib.lines.Line2D at 0x1d03ea88490>]"
      ]
     },
     "execution_count": 154,
     "metadata": {},
     "output_type": "execute_result"
    },
    {
     "data": {
      "image/png": "[encoded data removed]",
      "text/plain": [
       "<Figure size 432x288 with 1 Axes>"
      ]
     },
     "metadata": {
      "needs_background": "light"
     },
     "output_type": "display_data"
    }
   ],
   "source": [
    "plt.plot(psd[0, :])"
   ]
  },
  {
   "cell_type": "code",
   "execution_count": 139,
   "id": "refined-andrew",
   "metadata": {},
   "outputs": [
    {
     "data": {
      "text/plain": [
       "array([0.00000000e+00, 8.33333333e-03, 1.66666667e-02, ...,\n",
       "       1.24983333e+02, 1.24991667e+02, 1.25000000e+02])"
      ]
     },
     "execution_count": 139,
     "metadata": {},
     "output_type": "execute_result"
    }
   ],
   "source": [
    "freqs"
   ]
  },
  {
   "cell_type": "code",
   "execution_count": null,
   "id": "automotive-trading",
   "metadata": {},
   "outputs": [],
   "source": []
  }
 ],
 "metadata": {
  "kernelspec": {
   "display_name": "Python 3",
   "language": "python",
   "name": "python3"
  },
  "language_info": {
   "codemirror_mode": {
    "name": "ipython",
    "version": 3
   },
   "file_extension": ".py",
   "mimetype": "text/x-python",
   "name": "python",
   "nbconvert_exporter": "python",
   "pygments_lexer": "ipython3",
   "version": "3.8.8"
  }
 },
 "nbformat": 4,
 "nbformat_minor": 5
}
