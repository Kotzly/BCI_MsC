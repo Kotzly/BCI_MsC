{
 "cells": [
  {
   "cell_type": "code",
   "execution_count": 1,
   "metadata": {},
   "outputs": [],
   "source": [
    "import requests\n",
    "from pathlib import Path\n",
    "import multiprocessing as mp\n",
    "\n",
    "save_root = Path(\"/home/paulo/Documents/datasets\")\n",
    "\n",
    "# def download(url, save_filepath):\n",
    "#     r = requests.get(url, allow_redirects=True)\n",
    "#     open(save_filepath, 'wb').write(r.content)\n",
    "\n",
    "def download(url, save_filepath):\n",
    "    with requests.get(url, stream=True) as r:\n",
    "        r.raise_for_status()\n",
    "        with open(save_filepath, 'wb') as f:\n",
    "            for chunk in r.iter_content(chunk_size=8192): \n",
    "                # If you have chunk encoded response uncomment if\n",
    "                # and set chunk_size parameter to None.\n",
    "                #if chunk: \n",
    "                f.write(chunk)\n",
    "\n",
    "def download_parallel(urls, save_filepaths):\n",
    "    args = [(url, fpath) for url, fpath in zip(urls, save_filepaths)]\n",
    "    with mp.Pool(12) as pool:\n",
    "        pool.starmap(download, args)"
   ]
  },
  {
   "cell_type": "code",
   "execution_count": null,
   "metadata": {
    "scrolled": true
   },
   "outputs": [],
   "source": [
    "#http://bnci-horizon-2020.eu/database/data-sets\n",
    "#http://www.bbci.de/competition/iv/#datasets\n",
    "\n",
    "#http://bbci.de/competition/iv/download/\n",
    "#user: paullo.augusto@hotmail.com\n",
    "#password: phoh3sohZ6\n",
    "\n",
    "\n",
    "save_folder = save_root / Path(\"BCI_Comp_IV_2a/mat\")\n",
    "\n",
    "filenames = \"A01T, A01E, A02T, A02E, A03T, A03E, A04T, A04E, A05T, A05E, A06T, A06E, A07T, A07E, A08T, A08E, A09T, A09E\".split(\", \")\n",
    "save_folder.mkdir(exist_ok=True)\n",
    "urls, save_filepaths = list(), list()\n",
    "\n",
    "urls = [\"http://bnci-horizon-2020.eu/database/data-sets/001-2014/\" + filename + \".mat\" for filename in filenames]\n",
    "save_filepaths = [save_folder / (filename + \".mat\") for filename in filenames]\n",
    "\n",
    "download_parallel(urls, save_filepaths)\n"
   ]
  },
  {
   "cell_type": "code",
   "execution_count": 2,
   "metadata": {},
   "outputs": [],
   "source": [
    "#http://bnci-horizon-2020.eu/database/data-sets\n",
    "#http://bnci-horizon-2020.eu/database/data-sets/002-2014/description.pdf\n",
    "\n",
    "save_folder = save_root / Path(\"Motor_Imagery_2Class\")\n",
    "\n",
    "filenames = \"S01T, S01E, S02T, S02E, S03T, S03E, S04T, S04E, S05T, S05E, S06T, S06E, S07T, S07E, S08T, S08E, S09T, S09E, S10T, S10E, S11T, S11E, S12T, S12E, S13T, S13E, S14T, S14E\".split(\", \")\n",
    "save_folder.mkdir(exist_ok=True)\n",
    "urls = [\"http://bnci-horizon-2020.eu/database/data-sets/002-2014/\" + filename + \".mat\" for filename in filenames]\n",
    "save_filepaths = [save_folder / (filename + \".mat\") for filename in filenames]\n",
    "download_parallel(urls, save_filepaths)"
   ]
  },
  {
   "cell_type": "code",
   "execution_count": null,
   "metadata": {},
   "outputs": [],
   "source": [
    "#https://www.mamem.eu/results/datasets/\n",
    "#https://figshare.com/articles/dataset/MAMEM_EEG_SSVEP_Dataset_I_256_channels_11_subjects_5_frequencies_/2068677?file=3793738\n",
    "\n",
    "url = \"https://ndownloader.figshare.com/articles/2068677/versions/5\"\n",
    "\n",
    "save_folder = save_root / \"MAMEM_EEG_SSVEP_Dataset_I\"\n",
    "save_folder.mkdir(exist_ok=True)\n",
    "download(url, save_folder / \"MAMEM_EEG_SSVEP_Dataset_I.zip\")"
   ]
  },
  {
   "cell_type": "code",
   "execution_count": null,
   "metadata": {},
   "outputs": [],
   "source": [
    "#https://www.mamem.eu/results/datasets/\n",
    "#https://figshare.com/articles/dataset/MAMEM_EEG_SSVEP_Dataset_II_256_channels_11_subjects_5_frequencies_presented_simultaneously_/3153409\n",
    "\n",
    "url = \"https://ndownloader.figshare.com/articles/3153409/versions/2\"\n",
    "\n",
    "save_folder = save_root / \"MAMEM_EEG_SSVEP_Dataset_II\"\n",
    "save_folder.mkdir(exist_ok=True)\n",
    "download(url, save_folder / \"MAMEM_EEG_SSVEP_Dataset_II.zip\")\n",
    "\n"
   ]
  },
  {
   "cell_type": "code",
   "execution_count": null,
   "metadata": {},
   "outputs": [],
   "source": [
    "#https://www.mamem.eu/results/datasets/\n",
    "#https://figshare.com/articles/dataset/MAMEM_EEG_SSVEP_Dataset_III_14_channels_11_subjects_5_frequencies_presented_simultaneously_/3413851\n",
    "\n",
    "url = \"https://ndownloader.figshare.com/articles/3413851/versions/1\"\n",
    "\n",
    "save_folder = save_root / \"MAMEM_EEG_SSVEP_Dataset_III\"\n",
    "save_folder.mkdir(exist_ok=True)\n",
    "download(url, save_folder / \"MAMEM_EEG_SSVEP_Dataset_III.zip\")\n",
    "\n"
   ]
  },
  {
   "cell_type": "code",
   "execution_count": null,
   "metadata": {},
   "outputs": [],
   "source": [
    "#https://www.mamem.eu/results/datasets/\n",
    "#https://figshare.com/articles/dataset/MAMEM_Phase_I_Dataset_-_A_dataset_for_multimodal_human-computer_interaction_using_biosignals_and_eye_tracking_information/5231053/2\n",
    "\n",
    "url = \"https://ndownloader.figshare.com/articles/5231053/versions/2\"\n",
    "\n",
    "save_folder = save_root / \"MAMEM_Phase_I_Dataset\"\n",
    "save_folder.mkdir(exist_ok=True)\n",
    "download(url, save_folder / \"MAMEM_Phase_I_Dataset.zip\")\n",
    "\n",
    "\n"
   ]
  },
  {
   "cell_type": "code",
   "execution_count": null,
   "metadata": {},
   "outputs": [],
   "source": [
    "#https://physionet.org/content/motion-artifact/1.0.0/\n",
    "\n",
    "url = \"https://physionet.org/static/published-projects/motion-artifact/motion-artifact-contaminated-fnirs-and-eeg-data-1.0.0.zip\"\n",
    "\n",
    "save_folder = save_root / \"Motion_Artifact\"\n",
    "save_folder.mkdir(exist_ok=True)\n",
    "download(url, save_folder / \"Motion_Artifact_Dataset.zip\")\n"
   ]
  },
  {
   "cell_type": "code",
   "execution_count": null,
   "metadata": {},
   "outputs": [],
   "source": [
    "#https://arxiv.org/abs/1911.13045\n",
    "#BETA: A Large Benchmark Database Toward SSVEP-BCI Application\n",
    "\n",
    "save_folder = save_root / Path(\"BETA_benchmark\")\n",
    "\n",
    "filenames = [f\"S{i}.mat.7z\" for i in range(1, 35 + 1)]\n",
    "save_folder.mkdir(exist_ok=True)\n",
    "\n",
    "urls = [f\"http://bci.med.tsinghua.edu.cn/upload/yijun/{filename}\" for filename in filenames]\n",
    "save_filepaths = [(save_folder / filename) for filename in filenames]\n",
    "\n",
    "download_parallel(urls, save_filepaths)\n"
   ]
  },
  {
   "cell_type": "code",
   "execution_count": null,
   "metadata": {},
   "outputs": [],
   "source": [
    "#https://arxiv.org/abs/1911.13045\n",
    "#BETA: A Large Benchmark Database Toward SSVEP-BCI Application\n",
    "\n",
    "save_folder = save_root / Path(\"BETA\")\n",
    "\n",
    "filenames = [f\"S{i * 10 + 1}-S{(i + 1) * 10}.mat.zip\" for i in range(6 + 1)]\n",
    "save_folder.mkdir(exist_ok=True)\n",
    "\n",
    "urls = [f\"http://bci.med.tsinghua.edu.cn/upload/liubingchuan/{filename}\" for filename in filenames]\n",
    "save_filepaths = [(save_folder / filename) for filename in filenames]\n",
    "\n",
    "download_parallel(urls, save_filepaths)"
   ]
  },
  {
   "cell_type": "code",
   "execution_count": null,
   "metadata": {},
   "outputs": [],
   "source": [
    "#https://physionet.org/content/eegmmidb/1.0.0/\n",
    "\n",
    "url = \"https://physionet.org/static/published-projects/motion-artifact/motion-artifact-contaminated-fnirs-and-eeg-data-1.0.0.zip\"\n",
    "\n",
    "save_folder = save_root / \"EEGMMIDB_MI\"\n",
    "save_folder.mkdir(exist_ok=True)\n",
    "download(url, save_folder / \"EEGMMIDB_MI.zip\")\n"
   ]
  },
  {
   "cell_type": "code",
   "execution_count": null,
   "metadata": {},
   "outputs": [],
   "source": [
    "https://figshare.com/collections/A_large_electroencephalographic_motor_imagery_dataset_for_electroencephalographic_brain_computer_interfaces/3917698\n",
    "https://www.setzner.com/avi-ssvep-dataset/"
   ]
  }
 ],
 "metadata": {
  "kernelspec": {
   "display_name": "Python 3",
   "language": "python",
   "name": "python3"
  },
  "language_info": {
   "codemirror_mode": {
    "name": "ipython",
    "version": 3
   },
   "file_extension": ".py",
   "mimetype": "text/x-python",
   "name": "python",
   "nbconvert_exporter": "python",
   "pygments_lexer": "ipython3",
   "version": "3.8.8"
  }
 },
 "nbformat": 4,
 "nbformat_minor": 4
}
