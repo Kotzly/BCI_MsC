{
 "cells": [
  {
   "cell_type": "code",
   "execution_count": 1,
   "id": "0855b0d9",
   "metadata": {},
   "outputs": [],
   "source": [
    "from ica_benchmark.io.load import load_gdf_file\n",
    "from pathlib import Path\n",
    "import matplotlib.pyplot as plt\n",
    "import numpy as np\n",
    "from ica_benchmark.processing.feature import tfr_multitaper, psd_multitaper"
   ]
  },
  {
   "cell_type": "code",
   "execution_count": 2,
   "id": "d4cea582",
   "metadata": {},
   "outputs": [],
   "source": [
    "filepath = \"/home/paulo/Documents/datasets/BCI_Comp_IV_2a/gdf/A01T.gdf\""
   ]
  },
  {
   "cell_type": "code",
   "execution_count": 3,
   "id": "66253700",
   "metadata": {},
   "outputs": [
    {
     "name": "stdout",
     "output_type": "stream",
     "text": [
      "Extracting EDF parameters from /home/paulo/Documents/datasets/BCI_Comp_IV_2a/gdf/A01T.gdf...\n",
      "GDF file detected\n",
      "Setting channel info structure...\n",
      "Creating raw.info structure...\n",
      "Extracting EDF parameters from /home/paulo/Documents/datasets/BCI_Comp_IV_2a/gdf/A01T.gdf...\n",
      "GDF file detected\n",
      "Setting channel info structure...\n",
      "Creating raw.info structure...\n",
      "Reading 0 ... 672527  =      0.000 ...  2690.108 secs...\n"
     ]
    },
    {
     "name": "stderr",
     "output_type": "stream",
     "text": [
      "/home/paulo/anaconda3/envs/bci/lib/python3.8/site-packages/mne/io/edf/edf.py:1047: DeprecationWarning: The binary mode of fromstring is deprecated, as it behaves surprisingly on unicode inputs. Use frombuffer instead\n",
      "  etmode = np.fromstring(etmode, UINT8).tolist()[0]\n",
      "/home/paulo/Documents/GIT/BCI_MsC/ica_benchmark/io/load.py:26: RuntimeWarning: Channel names are not unique, found duplicates for: {'EEG'}. Applying running numbers for duplicates.\n",
      "  gdf_data = read_raw_gdf(filepath, preload=PRELOAD)\n",
      "/home/paulo/anaconda3/envs/bci/lib/python3.8/site-packages/mne/io/edf/edf.py:1047: DeprecationWarning: The binary mode of fromstring is deprecated, as it behaves surprisingly on unicode inputs. Use frombuffer instead\n",
      "  etmode = np.fromstring(etmode, UINT8).tolist()[0]\n",
      "/home/paulo/Documents/GIT/BCI_MsC/ica_benchmark/io/load.py:30: RuntimeWarning: Channel names are not unique, found duplicates for: {'EEG'}. Applying running numbers for duplicates.\n",
      "  gdf_data = read_raw_gdf(\n"
     ]
    }
   ],
   "source": [
    "gdf_data, labels, ch_names, info = load_gdf_file(filepath)"
   ]
  },
  {
   "cell_type": "code",
   "execution_count": 4,
   "id": "4ca1e310",
   "metadata": {},
   "outputs": [
    {
     "data": {
      "text/plain": [
       "[<matplotlib.lines.Line2D at 0x7f6d625ad070>]"
      ]
     },
     "execution_count": 4,
     "metadata": {},
     "output_type": "execute_result"
    },
    {
     "data": {
      "image/png": "[encoded data removed]",
      "text/plain": [
       "<Figure size 432x288 with 1 Axes>"
      ]
     },
     "metadata": {
      "needs_background": "light"
     },
     "output_type": "display_data"
    }
   ],
   "source": [
    "label1 = labels[::5, 0]\n",
    "plt.plot(label1)"
   ]
  },
  {
   "cell_type": "code",
   "execution_count": 5,
   "id": "9b168db2",
   "metadata": {},
   "outputs": [],
   "source": [
    "from mne.io import read_raw_gdf\n",
    "from mne import Epochs, events_from_annotations"
   ]
  },
  {
   "cell_type": "code",
   "execution_count": 6,
   "id": "ef987d01",
   "metadata": {},
   "outputs": [
    {
     "name": "stdout",
     "output_type": "stream",
     "text": [
      "Extracting EDF parameters from /home/paulo/Documents/datasets/BCI_Comp_IV_2a/gdf/A01T.gdf...\n",
      "GDF file detected\n",
      "Setting channel info structure...\n",
      "Creating raw.info structure...\n",
      "Used Annotations descriptions: ['769', '770', '771', '772']\n",
      "Not setting metadata\n",
      "Not setting metadata\n",
      "288 matching events found\n",
      "Setting baseline interval to [-0.3, 0.0] sec\n",
      "Applying baseline correction (mode: mean)\n",
      "0 projection items activated\n",
      "Loading data for 288 events and 251 original time points ...\n",
      "    Rejecting  epoch based on EEG : ['EEG-Fz', 'EEG-0', 'EEG-2']\n",
      "    Rejecting  epoch based on EEG : ['EEG-0', 'EEG-1', 'EEG-2', 'EEG-4', 'EEG-Cz', 'EEG-C4', 'EEG-12', 'EEG-13', 'EEG-14', 'EEG-Pz', 'EEG-15', 'EEG-16']\n",
      "    Rejecting  epoch based on EEG : ['EEG-Fz']\n",
      "    Rejecting  epoch based on EEG : ['EEG-5']\n"
     ]
    },
    {
     "name": "stderr",
     "output_type": "stream",
     "text": [
      "/home/paulo/anaconda3/envs/bci/lib/python3.8/site-packages/mne/io/edf/edf.py:1047: DeprecationWarning: The binary mode of fromstring is deprecated, as it behaves surprisingly on unicode inputs. Use frombuffer instead\n",
      "  etmode = np.fromstring(etmode, UINT8).tolist()[0]\n",
      "<ipython-input-6-741568cd4f42>:1: RuntimeWarning: Channel names are not unique, found duplicates for: {'EEG'}. Applying running numbers for duplicates.\n",
      "  gdf = read_raw_gdf(\n"
     ]
    },
    {
     "name": "stdout",
     "output_type": "stream",
     "text": [
      "    Rejecting  epoch based on EEG : ['EEG-Fz']\n",
      "    Rejecting  epoch based on EEG : ['EEG-Fz']\n",
      "6 bad epochs dropped\n",
      "(282, 3)\n"
     ]
    }
   ],
   "source": [
    "gdf = read_raw_gdf(\n",
    "    filepath,\n",
    "    eog=[\"EOG-left\", \"EOG-central\", \"EOG-right\"],\n",
    "    exclude=[\"EOG-left\", \"EOG-central\", \"EOG-right\"]\n",
    ")\n",
    "events = events_from_annotations(gdf, event_id={\"769\": 0, \"770\": 1, \"771\": 2, \"772\": 3})\n",
    "epochs = Epochs(gdf, events[0], event_repeated=\"drop\", reject_by_annotation=True, tmin=-.3, tmax=.7, reject=dict(eeg=1e-4))\n",
    "epochs.drop_bad()\n",
    "events = epochs.events\n",
    "print(events.shape)"
   ]
  },
  {
   "cell_type": "code",
   "execution_count": 7,
   "id": "37b969ae",
   "metadata": {},
   "outputs": [
    {
     "data": {
      "image/png": "[encoded data removed]",
      "text/plain": [
       "<Figure size 432x288 with 1 Axes>"
      ]
     },
     "metadata": {
      "needs_background": "light"
     },
     "output_type": "display_data"
    }
   ],
   "source": [
    "epochs.plot_drop_log();"
   ]
  },
  {
   "cell_type": "code",
   "execution_count": 8,
   "id": "475f12a4",
   "metadata": {},
   "outputs": [
    {
     "name": "stdout",
     "output_type": "stream",
     "text": [
      "Loading data for 282 events and 251 original time points ...\n"
     ]
    },
    {
     "data": {
      "text/plain": [
       "(282, 22, 251)"
      ]
     },
     "execution_count": 8,
     "metadata": {},
     "output_type": "execute_result"
    }
   ],
   "source": [
    "epochs.get_data().shape"
   ]
  },
  {
   "cell_type": "code",
   "execution_count": 9,
   "id": "a271c779",
   "metadata": {},
   "outputs": [],
   "source": [
    "from sklearn.model_selection import train_test_split\n",
    "from mne.time_frequency import psd_multitaper\n",
    "from sklearn.svm import SVC\n",
    "from sklearn.metrics import balanced_accuracy_score, cohen_kappa_score\n",
    "from sklearn.preprocessing import StandardScaler\n",
    "from mne.decoding import CSP"
   ]
  },
  {
   "cell_type": "code",
   "execution_count": 10,
   "id": "5a9e6f07",
   "metadata": {},
   "outputs": [
    {
     "name": "stdout",
     "output_type": "stream",
     "text": [
      "\n",
      "Running method 'fastica'.\n",
      "\tICA fit Duration: 3.59s\n",
      "\n",
      "\tAvg. coherence: 31.269 in 1.68s\n",
      "\tAvg. correntropy_05: 0.281 in 0.15s\n",
      "\tAvg. correntropy_1: 0.238 in 0.18s\n",
      "\tAvg. correntropy_2: 0.165 in 0.20s\n",
      "\tAvg. mutual_informatio: 0.050 in 2.04s\n",
      "\tClassification ACC/KAPPA: 30.8% / 7.5% in 0.45s\n",
      "\n",
      "Running method 'infomax'.\n",
      "\tICA fit Duration: 11.10s\n",
      "\n",
      "\tAvg. coherence: 31.282 in 2.04s\n",
      "\tAvg. correntropy_05: 0.163 in 0.25s\n",
      "\tAvg. correntropy_1: 0.153 in 0.21s\n",
      "\tAvg. correntropy_2: 0.127 in 0.20s\n",
      "\tAvg. mutual_informatio: 0.051 in 1.91s\n",
      "\tClassification ACC/KAPPA: 30.3% / 8.4% in 0.38s\n",
      "\n",
      "Running method 'picard'.\n",
      "\tICA fit Duration: 5.61s\n",
      "\n",
      "\tAvg. coherence: 31.281 in 1.71s\n",
      "\tAvg. correntropy_05: 0.282 in 0.15s\n",
      "\tAvg. correntropy_1: 0.239 in 0.16s\n",
      "\tAvg. correntropy_2: 0.165 in 0.16s\n",
      "\tAvg. mutual_informatio: 0.048 in 2.06s\n",
      "\tClassification ACC/KAPPA: 27.1% / 4.2% in 0.64s\n",
      "\n",
      "Running method 'ext_infomax'.\n",
      "\tICA fit Duration: 14.86s\n",
      "\n",
      "\tAvg. coherence: 31.270 in 2.05s\n",
      "\tAvg. correntropy_05: 0.335 in 0.20s\n",
      "\tAvg. correntropy_1: 0.268 in 0.21s\n",
      "\tAvg. correntropy_2: 0.174 in 0.20s\n",
      "\tAvg. mutual_informatio: 0.052 in 1.86s\n",
      "\tClassification ACC/KAPPA: 24.3% / -1.2% in 0.38s\n",
      "\n",
      "Running method 'ext_picard'.\n",
      "\tICA fit Duration: 4.82s\n",
      "\n",
      "\tAvg. coherence: 31.280 in 1.70s\n",
      "\tAvg. correntropy_05: 0.282 in 0.19s\n",
      "\tAvg. correntropy_1: 0.239 in 0.21s\n",
      "\tAvg. correntropy_2: 0.165 in 0.20s\n",
      "\tAvg. mutual_informatio: 0.050 in 2.07s\n",
      "\tClassification ACC/KAPPA: 35.6% / 12.0% in 0.57s\n",
      "\n",
      "Running method 'sobi'.\n",
      "\tICA fit Duration: 2.82s\n",
      "\n",
      "\tAvg. coherence: 31.310 in 2.00s\n",
      "\tAvg. correntropy_05: 0.284 in 0.20s\n",
      "\tAvg. correntropy_1: 0.239 in 0.21s\n",
      "\tAvg. correntropy_2: 0.164 in 0.20s\n",
      "\tAvg. mutual_informatio: 0.167 in 1.91s\n"
     ]
    },
    {
     "name": "stderr",
     "output_type": "stream",
     "text": [
      "/home/paulo/anaconda3/envs/bci/lib/python3.8/site-packages/mne/decoding/csp.py:645: RuntimeWarning: invalid value encountered in sqrt\n",
      "  omega = np.sqrt(omega12 * omega21)\n",
      "/home/paulo/anaconda3/envs/bci/lib/python3.8/site-packages/mne/decoding/csp.py:647: RuntimeWarning: invalid value encountered in sqrt\n",
      "  tmp = np.sqrt(omega21 / omega12)\n"
     ]
    },
    {
     "name": "stdout",
     "output_type": "stream",
     "text": [
      "\t array must not contain infs or NaNs\n",
      "\tClassification ACC/KAPPA: 0.0% / 0.0% in 0.49s\n",
      "\n",
      "Running method 'choi_var'.\n",
      "\tICA fit Duration: 0.70s\n",
      "\n",
      "\tAvg. coherence: 31.276 in 1.86s\n",
      "\tAvg. correntropy_05: 0.279 in 0.20s\n",
      "\tAvg. correntropy_1: 0.237 in 0.21s\n",
      "\tAvg. correntropy_2: 0.164 in 0.20s\n",
      "\tAvg. mutual_informatio: 0.055 in 2.10s\n",
      "\tClassification ACC/KAPPA: 26.9% / 2.8% in 0.42s\n",
      "\n",
      "Running method 'choi_vartd'.\n",
      "\tICA fit Duration: 0.99s\n",
      "\n",
      "\tAvg. coherence: 31.461 in 1.75s\n",
      "\tAvg. correntropy_05: 0.385 in 0.17s\n",
      "\tAvg. correntropy_1: 0.267 in 0.21s\n",
      "\tAvg. correntropy_2: 0.169 in 0.20s\n",
      "\tAvg. mutual_informatio: 1.728 in 1.93s\n"
     ]
    },
    {
     "name": "stderr",
     "output_type": "stream",
     "text": [
      "/home/paulo/anaconda3/envs/bci/lib/python3.8/site-packages/mne/decoding/csp.py:645: RuntimeWarning: invalid value encountered in sqrt\n",
      "  omega = np.sqrt(omega12 * omega21)\n",
      "/home/paulo/anaconda3/envs/bci/lib/python3.8/site-packages/mne/decoding/csp.py:647: RuntimeWarning: invalid value encountered in sqrt\n",
      "  tmp = np.sqrt(omega21 / omega12)\n"
     ]
    },
    {
     "name": "stdout",
     "output_type": "stream",
     "text": [
      "\t array must not contain infs or NaNs\n",
      "\tClassification ACC/KAPPA: 0.0% / 0.0% in 0.64s\n",
      "\n",
      "Running method 'choi_td'.\n",
      "\tICA fit Duration: 1.05s\n",
      "\n",
      "\tAvg. coherence: 31.469 in 1.76s\n",
      "\tAvg. correntropy_05: 0.348 in 0.16s\n",
      "\tAvg. correntropy_1: 0.253 in 0.17s\n",
      "\tAvg. correntropy_2: 0.166 in 0.16s\n",
      "\tAvg. mutual_informatio: 1.568 in 2.05s\n"
     ]
    },
    {
     "name": "stderr",
     "output_type": "stream",
     "text": [
      "/home/paulo/anaconda3/envs/bci/lib/python3.8/site-packages/mne/decoding/csp.py:645: RuntimeWarning: invalid value encountered in sqrt\n",
      "  omega = np.sqrt(omega12 * omega21)\n",
      "/home/paulo/anaconda3/envs/bci/lib/python3.8/site-packages/mne/decoding/csp.py:647: RuntimeWarning: invalid value encountered in sqrt\n",
      "  tmp = np.sqrt(omega21 / omega12)\n"
     ]
    },
    {
     "name": "stdout",
     "output_type": "stream",
     "text": [
      "\t array must not contain infs or NaNs\n",
      "\tClassification ACC/KAPPA: 0.0% / 0.0% in 0.60s\n",
      "\n",
      "Running method 'coro'.\n",
      "\tICA fit Duration: 1.58s\n",
      "\n",
      "\tAvg. coherence: 31.740 in 1.75s\n",
      "\tAvg. correntropy_05: 0.475 in 0.20s\n",
      "\tAvg. correntropy_1: 0.285 in 0.20s\n",
      "\tAvg. correntropy_2: 0.170 in 0.20s\n",
      "\tAvg. mutual_informatio: 3.942 in 1.88s\n"
     ]
    },
    {
     "name": "stderr",
     "output_type": "stream",
     "text": [
      "/home/paulo/anaconda3/envs/bci/lib/python3.8/site-packages/mne/decoding/csp.py:645: RuntimeWarning: invalid value encountered in sqrt\n",
      "  omega = np.sqrt(omega12 * omega21)\n",
      "/home/paulo/anaconda3/envs/bci/lib/python3.8/site-packages/mne/decoding/csp.py:647: RuntimeWarning: invalid value encountered in sqrt\n",
      "  tmp = np.sqrt(omega21 / omega12)\n"
     ]
    },
    {
     "name": "stdout",
     "output_type": "stream",
     "text": [
      "\t array must not contain infs or NaNs\n",
      "\tClassification ACC/KAPPA: 0.0% / 0.0% in 0.48s\n",
      "\n",
      "Running method 'jade'.\n",
      "\tICA fit Duration: 4.79s\n",
      "\n",
      "\tAvg. coherence: 31.283 in 1.76s\n",
      "\tAvg. correntropy_05: 0.299 in 0.18s\n",
      "\tAvg. correntropy_1: 0.245 in 0.20s\n",
      "\tAvg. correntropy_2: 0.166 in 0.20s\n",
      "\tAvg. mutual_informatio: 0.048 in 2.03s\n",
      "\tClassification ACC/KAPPA: 39.2% / 17.0% in 0.44s\n"
     ]
    }
   ],
   "source": [
    "from ica_benchmark.processing.ica import CustomICA, get_all_methods, get_ica_instance\n",
    "from time import time\n",
    "from ica_benchmark.scoring import apply_pairwise, SCORING_FN_DICT\n",
    "\n",
    "csp = CSP(n_components=10, transform_into=\"average_power\")\n",
    "scaler = StandardScaler()\n",
    "\n",
    "methods = get_all_methods()\n",
    "for method in methods:\n",
    "    print(\"\\nRunning method '{}'.\".format(method), end=None)\n",
    "    start = time()\n",
    "    ica = get_ica_instance(method=method)\n",
    "    ica.fit(epochs)\n",
    "    fit_time = time()\n",
    "    sources_epochs = ica.get_sources(epochs)\n",
    "    \n",
    "    reshaped = np.hstack(sources_epochs.get_data())\n",
    "    print(\"\\tICA fit Duration: {:.2f}s\\n\".format(fit_time - start))\n",
    "    \n",
    "    for scoring_name, scoring_fn in SCORING_FN_DICT.items():\n",
    "        \n",
    "        score_start = time()\n",
    "        score = apply_pairwise(reshaped.T, scoring_fn)\n",
    "\n",
    "        print(\"\\tAvg. {}: {:.3f} in {:.2f}s\".format(scoring_name, score, time() - score_start))\n",
    "    \n",
    "    try:\n",
    "        train_start = time()\n",
    "        x, y = sources_epochs.get_data(), events[:, 2]\n",
    "        x_train, x_test, y_train, y_test = train_test_split(x, y, test_size=.25)\n",
    "        csp.fit(x_train, y_train)\n",
    "        x_train, x_test = csp.transform(x_train), csp.transform(x_test)\n",
    "        x_train, x_test = np.nan_to_num(x_train, posinf=0., neginf=0.), np.nan_to_num(x_test, posinf=0., neginf=0.)\n",
    "        x_train, x_test = scaler.fit_transform(x_train), scaler.transform(x_test)\n",
    "        clf = SVC(C=4.)\n",
    "        clf.fit(x_train, y_train)\n",
    "        pred = clf.predict(x_test)\n",
    "        acc, kappa = balanced_accuracy_score(y_test, pred), cohen_kappa_score(y_test, pred)\n",
    "    except Exception as e:\n",
    "        print(\"\\t\", str(e))\n",
    "        acc, kappa = 0., 0.\n",
    "    print(\"\\tClassification ACC/KAPPA: {:.1f}% / {:.1f}% in {:.2f}s\".format(acc * 100, kappa * 100, time() - train_start))"
   ]
  }
 ],
 "metadata": {
  "kernelspec": {
   "display_name": "Python 3",
   "language": "python",
   "name": "python3"
  },
  "language_info": {
   "codemirror_mode": {
    "name": "ipython",
    "version": 3
   },
   "file_extension": ".py",
   "mimetype": "text/x-python",
   "name": "python",
   "nbconvert_exporter": "python",
   "pygments_lexer": "ipython3",
   "version": "3.8.8"
  }
 },
 "nbformat": 4,
 "nbformat_minor": 5
}
